{
 "cells": [
  {
   "cell_type": "markdown",
   "metadata": {},
   "source": [
    "# Method of Sampling"
   ]
  },
  {
   "cell_type": "markdown",
   "metadata": {},
   "source": [
    "1. Random Sample: pure random person in random time interval in random place"
   ]
  },
  {
   "cell_type": "markdown",
   "metadata": {},
   "source": [
    "2. Systematic Sample: evry 10 person you meet in random place//every 5 person in the list in alphabetical order//every person whose names starts with vowel, else 2nd oldest => you create a rule"
   ]
  },
  {
   "cell_type": "markdown",
   "metadata": {},
   "source": [
    "3. Stratified Sample: number of value in different class of population. decrease difference between region, increases the precisness of the data"
   ]
  },
  {
   "cell_type": "markdown",
   "metadata": {},
   "source": [
    "4. Clustered Sample:cluster randomly chosen among clusters and then people randomly chosen among various category. increase the efficiency of the data because high variance between data points of the cluster"
   ]
  },
  {
   "cell_type": "markdown",
   "metadata": {},
   "source": [
    "5. Quota Sample: we determine a value that we should take:respect the %woman and %men in France to take our sample"
   ]
  },
  {
   "cell_type": "code",
   "execution_count": null,
   "metadata": {},
   "outputs": [],
   "source": [
    "6. Snowball Sample: "
   ]
  },
  {
   "cell_type": "markdown",
   "metadata": {},
   "source": [
    "Data is perfect\n",
    "1.Select the model\n",
    "2.Check the assumptions for your model\n",
    "3.Test all the assumptions\n",
    "4.Run the modelor fix the assumptions (make your dots follow your assumptions ) or change model\n",
    "5.Set up the model configuration\n"
   ]
  },
  {
   "cell_type": "code",
   "execution_count": 7,
   "metadata": {},
   "outputs": [
    {
     "data": {
      "text/plain": [
       "array([ 5.86810553,  5.86050745,  6.51494661,  1.82264176,  3.89153412,\n",
       "        6.78760153,  0.65145252, 10.41438537,  3.42204503,  3.41516768,\n",
       "        4.01894474,  6.13190251,  4.10752223,  5.61742734,  5.39685279,\n",
       "        5.94065649,  6.43415786,  4.29515743,  2.71952069,  3.46153885,\n",
       "        6.42945879,  3.39134753,  4.62429046,  3.97232749,  5.11733947,\n",
       "        4.98666513,  2.70452317,  6.82183687,  5.10730486,  5.06544737,\n",
       "        2.92076696,  4.2330603 ,  5.37037368,  4.38985948,  3.99393887,\n",
       "        9.22068646,  6.93178415,  5.57950831,  4.05104615,  4.45384385,\n",
       "        6.70677125,  5.39124931,  8.58550186,  3.02970798,  4.61438272,\n",
       "        6.8396037 ,  4.43952915,  5.13488203,  3.91505794,  6.03927236,\n",
       "        6.53515949,  4.58779964,  5.42523096,  6.4939788 ,  6.10402491,\n",
       "        8.73201   ,  5.40779261,  3.94187791,  6.80316207,  4.93033119,\n",
       "        4.18166654,  4.98120878,  5.98132662,  1.2549751 ,  2.48141863,\n",
       "        4.95854672,  4.14038786,  6.03104393,  3.27761261,  2.40588667,\n",
       "        3.94773695,  3.44296124,  6.71691619,  3.92433507,  6.94126246,\n",
       "        6.08034024,  6.9848568 ,  5.69324006,  0.27491501,  5.66939333,\n",
       "        3.96586582,  3.90862758,  4.75569905,  4.24941071,  3.95290651,\n",
       "        5.48471889,  7.84875619,  5.39723107,  4.9418271 ,  3.70686397,\n",
       "        5.06380708,  0.87191035,  4.78878755,  4.90897232,  3.72520626,\n",
       "        7.62603708,  2.7889661 ,  5.93177353,  6.60078852,  6.33016314])"
      ]
     },
     "execution_count": 7,
     "metadata": {},
     "output_type": "execute_result"
    }
   ],
   "source": [
    "import numpy as np\n",
    "from scipy.stats import ttest_1samp\n",
    "\n",
    "patients=np.random.normal(5.1,1.6,100)\n",
    "patients"
   ]
  },
  {
   "cell_type": "code",
   "execution_count": 8,
   "metadata": {},
   "outputs": [
    {
     "data": {
      "text/plain": [
       "Ttest_1sampResult(statistic=-4.224831895349553, pvalue=5.32387141499012e-05)"
      ]
     },
     "execution_count": 8,
     "metadata": {},
     "output_type": "execute_result"
    }
   ],
   "source": [
    "ttest_1samp(patients,5.7) #statistic: value of ttest.\n"
   ]
  },
  {
   "cell_type": "code",
   "execution_count": null,
   "metadata": {},
   "outputs": [],
   "source": []
  }
 ],
 "metadata": {
  "kernelspec": {
   "display_name": "Python 3",
   "language": "python",
   "name": "python3"
  },
  "language_info": {
   "codemirror_mode": {
    "name": "ipython",
    "version": 3
   },
   "file_extension": ".py",
   "mimetype": "text/x-python",
   "name": "python",
   "nbconvert_exporter": "python",
   "pygments_lexer": "ipython3",
   "version": "3.7.3"
  }
 },
 "nbformat": 4,
 "nbformat_minor": 2
}
