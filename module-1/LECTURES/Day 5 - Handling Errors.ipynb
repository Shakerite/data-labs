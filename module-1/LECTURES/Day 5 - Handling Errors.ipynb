{
 "cells": [
  {
   "cell_type": "code",
   "execution_count": 1,
   "metadata": {},
   "outputs": [
    {
     "data": {
      "text/plain": [
       "47"
      ]
     },
     "execution_count": 1,
     "metadata": {},
     "output_type": "execute_result"
    }
   ],
   "source": [
    "def perimeter(shape=3,dimensions=[5,12,30]):\n",
    "    max_shape=8\n",
    "    if shape>max_shape:\n",
    "        print(\"Error\")\n",
    "    elif len(dimensions)!=shape:\n",
    "        print(\"Error\")\n",
    "    else:\n",
    "        return(sum(dimensions))\n",
    "    \n",
    "perimeter(3,[5,12,30])"
   ]
  },
  {
   "cell_type": "code",
   "execution_count": 3,
   "metadata": {},
   "outputs": [],
   "source": [
    "def roll_the_dice():\n",
    "   import random\n",
    "   return random.randint(1,6)\n",
    "\n",
    "def roll_the_unfair_dice():\n",
    "\n",
    "   import numpy as np\n",
    "   return np.random.choice([1,2,3,4,5,6], p=[1/8, 1/16, 1/2, 1/8, 1/16, 1/8])\n",
    "\n",
    "\n",
    "def player(fair=0):\n",
    "\n",
    "   if fair != 0 and fair !=1:\n",
    "       return(\"Error - please enter 0 or 1\")\n",
    "\n",
    "   flag = False\n",
    "   while flag == False:\n",
    "       n = int(input('Please enter an integer less than 1,000: '))\n",
    "       if n >= 1000:\n",
    "           print('Try again - number too large! We will be here forever')\n",
    "       else:\n",
    "           flag = True\n",
    "\n",
    "   results = []\n",
    "   results_dict = {}\n",
    "\n",
    "   for i in range(1,7):\n",
    "       results_dict[i] = 0\n",
    "\n",
    "   if fair == 0:\n",
    "       for j in range(n):\n",
    "\n",
    "           d = roll_the_dice()\n",
    "           results.append(d)\n",
    "           results_dict[d] += 1\n",
    "\n",
    "   elif fair == 1:\n",
    "       for j in range(n):\n",
    "\n",
    "           d = roll_the_unfair_dice()\n",
    "           results.append(d)\n",
    "           results_dict[d] += 1\n",
    "\n",
    "   print(results)\n",
    "   return (f'The final cumulative result for all of our rolls is: {results_dict}')"
   ]
  },
  {
   "cell_type": "code",
   "execution_count": 4,
   "metadata": {},
   "outputs": [
    {
     "name": "stdout",
     "output_type": "stream",
     "text": [
      "Please enter an integer less than 1,000: 50\n",
      "[4, 3, 2, 2, 2, 2, 3, 3, 1, 1, 1, 3, 2, 6, 5, 1, 2, 5, 2, 6, 4, 2, 5, 6, 3, 2, 1, 4, 2, 5, 4, 1, 4, 3, 6, 6, 4, 5, 4, 2, 3, 3, 4, 1, 3, 2, 2, 6, 2, 5]\n"
     ]
    },
    {
     "data": {
      "text/plain": [
       "'The final cumulative result for all of our rolls is: {1: 7, 2: 14, 3: 9, 4: 8, 5: 6, 6: 6}'"
      ]
     },
     "execution_count": 4,
     "metadata": {},
     "output_type": "execute_result"
    }
   ],
   "source": [
    "player()"
   ]
  },
  {
   "cell_type": "code",
   "execution_count": null,
   "metadata": {},
   "outputs": [],
   "source": []
  },
  {
   "cell_type": "code",
   "execution_count": 2,
   "metadata": {},
   "outputs": [
    {
     "name": "stdout",
     "output_type": "stream",
     "text": [
      "1\n"
     ]
    }
   ],
   "source": [
    "import random\n",
    "biaised = {0.2, 0.1, 0.15, 0.15, 0.25, 0.15}\n",
    "\n",
    "def roll(dist):\n",
    "    randRoll = random.random()\n",
    "    sum=0\n",
    "    result = 1\n",
    "    for mass in dist:\n",
    "        sum += mass\n",
    "        if randRoll < sum:\n",
    "            return result\n",
    "        result+=1\n",
    "        \n",
    "print(roll(biaised))\n"
   ]
  }
 ],
 "metadata": {
  "kernelspec": {
   "display_name": "Python 3",
   "language": "python",
   "name": "python3"
  },
  "language_info": {
   "codemirror_mode": {
    "name": "ipython",
    "version": 3
   },
   "file_extension": ".py",
   "mimetype": "text/x-python",
   "name": "python",
   "nbconvert_exporter": "python",
   "pygments_lexer": "ipython3",
   "version": "3.7.3"
  }
 },
 "nbformat": 4,
 "nbformat_minor": 2
}
