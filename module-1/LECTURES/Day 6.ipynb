{
 "cells": [
  {
   "cell_type": "markdown",
   "metadata": {},
   "source": [
    "# Object Oriented programming\n",
    "\n"
   ]
  },
  {
   "cell_type": "code",
   "execution_count": 3,
   "metadata": {},
   "outputs": [],
   "source": [
    "import pandas as pd"
   ]
  },
  {
   "cell_type": "code",
   "execution_count": null,
   "metadata": {},
   "outputs": [],
   "source": [
    "class roll_a_dice():\n",
    "    def __init__(self):\n",
    "        \n",
    "        def roll the dice(self):\n",
    "            import random\n",
    "            value = random.randint(1,6)\n",
    "            return random.randing(1,6)\n",
    "        \n",
    "        def roll_the_unfair_dice(self):\n",
    "            import numpy as np\n",
    "            value = np.random.choice\n",
    "            \n",
    "        \n",
    "            "
   ]
  },
  {
   "cell_type": "code",
   "execution_count": null,
   "metadata": {},
   "outputs": [],
   "source": [
    "def roll_the_dice():\n",
    "   import random\n",
    "   return random.randint(1,6)\n",
    "\n",
    "def roll_the_unfair_dice():\n",
    "\n",
    "   import numpy as np\n",
    "   return np.random.choice([1,2,3,4,5,6], p=[1/8, 1/16, 1/2, 1/8, 1/16, 1/8])\n",
    "\n",
    "\n",
    "def player(fair=0):\n",
    "\n",
    "   if fair != 0 and fair !=1:\n",
    "       return(\"Error - please enter 0 or 1\")\n",
    "\n",
    "   flag = False\n",
    "   while flag == False:\n",
    "       n = int(input('Please enter an integer less than 1,000: '))\n",
    "       if n >= 1000:\n",
    "           print('Try again - number too large! We will be here forever')\n",
    "       else:\n",
    "           flag = True\n",
    "\n",
    "   results = []\n",
    "   results_dict = {}\n",
    "\n",
    "   for i in range(1,7):\n",
    "       results_dict[i] = 0\n",
    "\n",
    "   if fair == 0:\n",
    "       for j in range(n):\n",
    "\n",
    "           d = roll_the_dice()\n",
    "           results.append(d)\n",
    "           results_dict[d] += 1\n",
    "\n",
    "   elif fair == 1:\n",
    "       for j in range(n):\n",
    "\n",
    "           d = roll_the_unfair_dice()\n",
    "           results.append(d)\n",
    "           results_dict[d] += 1\n",
    "\n",
    "   print(results)\n",
    "   return (f'The final cumulative result for all of our rolls is: {results_dict}')"
   ]
  },
  {
   "cell_type": "code",
   "execution_count": 5,
   "metadata": {},
   "outputs": [],
   "source": [
    "class Dog:\n",
    "    \n",
    "    def __init__(self,name,age):\n",
    "        self.name = name\n",
    "        self.age = age\n",
    "    \n",
    "    "
   ]
  },
  {
   "cell_type": "code",
   "execution_count": 13,
   "metadata": {},
   "outputs": [
    {
     "name": "stdout",
     "output_type": "stream",
     "text": [
      "zippy is 1 y.o\n",
      "zippy is 1 y.o\n",
      "zippy is 1 y.o\n"
     ]
    }
   ],
   "source": [
    "print(f'{barky.name} is {barky.age} y.o')"
   ]
  },
  {
   "cell_type": "code",
   "execution_count": 12,
   "metadata": {},
   "outputs": [
    {
     "data": {
      "text/plain": [
       "1"
      ]
     },
     "execution_count": 12,
     "metadata": {},
     "output_type": "execute_result"
    },
    {
     "data": {
      "text/plain": [
       "1"
      ]
     },
     "execution_count": 12,
     "metadata": {},
     "output_type": "execute_result"
    },
    {
     "data": {
      "text/plain": [
       "1"
      ]
     },
     "execution_count": 12,
     "metadata": {},
     "output_type": "execute_result"
    }
   ],
   "source": [
    "class Dog:\n",
    "    \n",
    "    def __init__(self,name,age):\n",
    "        self.name = name\n",
    "        self.age = age\n",
    "        \n",
    "    def bark(self):\n",
    "    "
   ]
  },
  {
   "cell_type": "code",
   "execution_count": 14,
   "metadata": {},
   "outputs": [
    {
     "ename": "AttributeError",
     "evalue": "'Dog' object has no attribute 'bark'",
     "output_type": "error",
     "traceback": [
      "\u001b[0;31m---------------------------------------------------------------------------\u001b[0m",
      "\u001b[0;31mAttributeError\u001b[0m                            Traceback (most recent call last)",
      "\u001b[0;32m<ipython-input-14-d74c54053113>\u001b[0m in \u001b[0;36m<module>\u001b[0;34m\u001b[0m\n\u001b[1;32m      1\u001b[0m \u001b[0mbarky\u001b[0m \u001b[0;34m=\u001b[0m \u001b[0mDog\u001b[0m\u001b[0;34m(\u001b[0m\u001b[0;34m\"zippy\"\u001b[0m\u001b[0;34m,\u001b[0m \u001b[0;36m1\u001b[0m\u001b[0;34m)\u001b[0m\u001b[0;34m\u001b[0m\u001b[0;34m\u001b[0m\u001b[0m\n\u001b[0;32m----> 2\u001b[0;31m \u001b[0mbarky\u001b[0m\u001b[0;34m.\u001b[0m\u001b[0mbark\u001b[0m\u001b[0;34m(\u001b[0m\u001b[0;34m)\u001b[0m\u001b[0;34m\u001b[0m\u001b[0;34m\u001b[0m\u001b[0m\n\u001b[0m",
      "\u001b[0;31mAttributeError\u001b[0m: 'Dog' object has no attribute 'bark'"
     ]
    },
    {
     "ename": "AttributeError",
     "evalue": "'Dog' object has no attribute 'bark'",
     "output_type": "error",
     "traceback": [
      "\u001b[0;31m---------------------------------------------------------------------------\u001b[0m",
      "\u001b[0;31mAttributeError\u001b[0m                            Traceback (most recent call last)",
      "\u001b[0;32m<ipython-input-14-d74c54053113>\u001b[0m in \u001b[0;36m<module>\u001b[0;34m\u001b[0m\n\u001b[1;32m      1\u001b[0m \u001b[0mbarky\u001b[0m \u001b[0;34m=\u001b[0m \u001b[0mDog\u001b[0m\u001b[0;34m(\u001b[0m\u001b[0;34m\"zippy\"\u001b[0m\u001b[0;34m,\u001b[0m \u001b[0;36m1\u001b[0m\u001b[0;34m)\u001b[0m\u001b[0;34m\u001b[0m\u001b[0;34m\u001b[0m\u001b[0m\n\u001b[0;32m----> 2\u001b[0;31m \u001b[0mbarky\u001b[0m\u001b[0;34m.\u001b[0m\u001b[0mbark\u001b[0m\u001b[0;34m(\u001b[0m\u001b[0;34m)\u001b[0m\u001b[0;34m\u001b[0m\u001b[0;34m\u001b[0m\u001b[0m\n\u001b[0m",
      "\u001b[0;31mAttributeError\u001b[0m: 'Dog' object has no attribute 'bark'"
     ]
    },
    {
     "ename": "AttributeError",
     "evalue": "'Dog' object has no attribute 'bark'",
     "output_type": "error",
     "traceback": [
      "\u001b[0;31m---------------------------------------------------------------------------\u001b[0m",
      "\u001b[0;31mAttributeError\u001b[0m                            Traceback (most recent call last)",
      "\u001b[0;32m<ipython-input-14-d74c54053113>\u001b[0m in \u001b[0;36m<module>\u001b[0;34m\u001b[0m\n\u001b[1;32m      1\u001b[0m \u001b[0mbarky\u001b[0m \u001b[0;34m=\u001b[0m \u001b[0mDog\u001b[0m\u001b[0;34m(\u001b[0m\u001b[0;34m\"zippy\"\u001b[0m\u001b[0;34m,\u001b[0m \u001b[0;36m1\u001b[0m\u001b[0;34m)\u001b[0m\u001b[0;34m\u001b[0m\u001b[0;34m\u001b[0m\u001b[0m\n\u001b[0;32m----> 2\u001b[0;31m \u001b[0mbarky\u001b[0m\u001b[0;34m.\u001b[0m\u001b[0mbark\u001b[0m\u001b[0;34m(\u001b[0m\u001b[0;34m)\u001b[0m\u001b[0;34m\u001b[0m\u001b[0;34m\u001b[0m\u001b[0m\n\u001b[0m",
      "\u001b[0;31mAttributeError\u001b[0m: 'Dog' object has no attribute 'bark'"
     ]
    }
   ],
   "source": [
    "barky = Dog(\"zippy\", 1)\n",
    "barky.bark()"
   ]
  },
  {
   "cell_type": "code",
   "execution_count": 16,
   "metadata": {},
   "outputs": [],
   "source": [
    "class Dog:\n",
    "    \n",
    "    def __init__(self,name,age):\n",
    "        self.name = name\n",
    "        self.age = age\n",
    "        \n",
    "    def bark(self):\n",
    "        print(\"bark bark\")\n",
    "    \n",
    "    def birthday(self):\n",
    "        self.age += 1"
   ]
  },
  {
   "cell_type": "code",
   "execution_count": null,
   "metadata": {},
   "outputs": [],
   "source": []
  },
  {
   "cell_type": "code",
   "execution_count": null,
   "metadata": {},
   "outputs": [],
   "source": []
  },
  {
   "cell_type": "code",
   "execution_count": 17,
   "metadata": {},
   "outputs": [
    {
     "name": "stdout",
     "output_type": "stream",
     "text": [
      "bark bark\n",
      "bark bark\n",
      "bark bark\n"
     ]
    }
   ],
   "source": [
    "barky = Dog(\"zippy\", 1)\n",
    "barky.bark()\n",
    "barky.birthday()"
   ]
  },
  {
   "cell_type": "code",
   "execution_count": 18,
   "metadata": {},
   "outputs": [
    {
     "data": {
      "text/plain": [
       "2"
      ]
     },
     "execution_count": 18,
     "metadata": {},
     "output_type": "execute_result"
    },
    {
     "data": {
      "text/plain": [
       "2"
      ]
     },
     "execution_count": 18,
     "metadata": {},
     "output_type": "execute_result"
    },
    {
     "data": {
      "text/plain": [
       "2"
      ]
     },
     "execution_count": 18,
     "metadata": {},
     "output_type": "execute_result"
    }
   ],
   "source": [
    "barky.age"
   ]
  },
  {
   "cell_type": "code",
   "execution_count": 20,
   "metadata": {},
   "outputs": [],
   "source": [
    "class Dog:\n",
    "    \n",
    "    def __init__(self,name,age):\n",
    "        self.name = name\n",
    "        self.age = age\n",
    "        \n",
    "    def bark(self):\n",
    "        print(\"bark bark\")\n",
    "    \n",
    "    def birthday(self):\n",
    "        self.age += 1\n",
    "        \n",
    "    def setBuddy(self, buddy):\n",
    "        self.buddy=buddy\n",
    "        buddy.buddy = self"
   ]
  },
  {
   "cell_type": "code",
   "execution_count": 21,
   "metadata": {},
   "outputs": [
    {
     "data": {
      "text/plain": [
       "'fluffy'"
      ]
     },
     "execution_count": 21,
     "metadata": {},
     "output_type": "execute_result"
    },
    {
     "data": {
      "text/plain": [
       "'fluffy'"
      ]
     },
     "execution_count": 21,
     "metadata": {},
     "output_type": "execute_result"
    },
    {
     "data": {
      "text/plain": [
       "'fluffy'"
      ]
     },
     "execution_count": 21,
     "metadata": {},
     "output_type": "execute_result"
    }
   ],
   "source": [
    "barky = Dog(\"zippy\", 1)\n",
    "fluffy = Dog(\"fluffy\", 1)\n",
    "\n",
    "barky.setBuddy(fluffy)\n",
    "barky.buddy.name"
   ]
  },
  {
   "cell_type": "code",
   "execution_count": 27,
   "metadata": {},
   "outputs": [],
   "source": [
    "class Dog:\n",
    "    \n",
    "    species=\"mammals\"\n",
    "    number_of_legs=4\n",
    "    level_of_danger=1\n",
    "    \n",
    "    def __init__(self,name,age,lod=level_of_danger):\n",
    "        self.name = name\n",
    "        self.age = age\n",
    "        self.level_of_danger= lod\n",
    "        \n",
    "    def bark(self):\n",
    "        print(\"bark bark\")\n",
    "    \n",
    "    def birthday(self):\n",
    "        self.age += 1\n",
    "        \n",
    "    def setBuddy(self, buddy):\n",
    "        self.buddy=buddy\n",
    "        buddy.buddy = self\n",
    "        \n",
    "  "
   ]
  },
  {
   "cell_type": "code",
   "execution_count": 30,
   "metadata": {},
   "outputs": [
    {
     "name": "stdout",
     "output_type": "stream",
     "text": [
      "mammals 2\n",
      "mammals 2\n",
      "mammals 2\n"
     ]
    }
   ],
   "source": [
    "a=Dog(\"name\",1,2)\n",
    "#b=Dog(\"name\",1)\n",
    "\n",
    "print(a.species, a.level_of_danger)"
   ]
  },
  {
   "cell_type": "code",
   "execution_count": 57,
   "metadata": {},
   "outputs": [],
   "source": [
    "class Dog:\n",
    "    \n",
    "    species=\"mammals\"\n",
    "    number_of_legs=4\n",
    "    level_of_danger=1\n",
    "    \n",
    "    def __init__(self,name,age,lod=level_of_danger,nol=number_of_legs):\n",
    "        self.name = name\n",
    "        self.age = age\n",
    "        self.level_of_danger= lod\n",
    "        \n",
    "    def bark(self):\n",
    "        print(\"bark bark\")\n",
    "    \n",
    "    def birthday(self):\n",
    "        self.age += 1\n",
    "        \n",
    "    def setBuddy(self, buddy):\n",
    "        self.buddy=buddy\n",
    "        buddy.buddy = self\n",
    "        \n",
    "    def cutlegs(self, noltc):\n",
    "        self.number_of_legs -= noltc\n",
    "       "
   ]
  },
  {
   "cell_type": "code",
   "execution_count": 62,
   "metadata": {},
   "outputs": [
    {
     "name": "stdout",
     "output_type": "stream",
     "text": [
      "4\n",
      "4\n",
      "4\n"
     ]
    },
    {
     "ename": "AttributeError",
     "evalue": "'NoneType' object has no attribute 'cutlegs'",
     "output_type": "error",
     "traceback": [
      "\u001b[0;31m---------------------------------------------------------------------------\u001b[0m",
      "\u001b[0;31mAttributeError\u001b[0m                            Traceback (most recent call last)",
      "\u001b[0;32m<ipython-input-62-d24b59082fda>\u001b[0m in \u001b[0;36m<module>\u001b[0;34m\u001b[0m\n\u001b[1;32m      2\u001b[0m \u001b[0;34m\u001b[0m\u001b[0m\n\u001b[1;32m      3\u001b[0m \u001b[0mprint\u001b[0m\u001b[0;34m(\u001b[0m\u001b[0ma\u001b[0m\u001b[0;34m.\u001b[0m\u001b[0mnumber_of_legs\u001b[0m\u001b[0;34m)\u001b[0m\u001b[0;34m\u001b[0m\u001b[0;34m\u001b[0m\u001b[0m\n\u001b[0;32m----> 4\u001b[0;31m \u001b[0ma\u001b[0m\u001b[0;34m.\u001b[0m\u001b[0mcutlegs\u001b[0m\u001b[0;34m(\u001b[0m\u001b[0;36m2\u001b[0m\u001b[0;34m)\u001b[0m\u001b[0;34m.\u001b[0m\u001b[0mcutlegs\u001b[0m\u001b[0;34m(\u001b[0m\u001b[0;36m2\u001b[0m\u001b[0;34m)\u001b[0m\u001b[0;34m\u001b[0m\u001b[0;34m\u001b[0m\u001b[0m\n\u001b[0m",
      "\u001b[0;31mAttributeError\u001b[0m: 'NoneType' object has no attribute 'cutlegs'"
     ]
    },
    {
     "ename": "AttributeError",
     "evalue": "'NoneType' object has no attribute 'cutlegs'",
     "output_type": "error",
     "traceback": [
      "\u001b[0;31m---------------------------------------------------------------------------\u001b[0m",
      "\u001b[0;31mAttributeError\u001b[0m                            Traceback (most recent call last)",
      "\u001b[0;32m<ipython-input-62-d24b59082fda>\u001b[0m in \u001b[0;36m<module>\u001b[0;34m\u001b[0m\n\u001b[1;32m      2\u001b[0m \u001b[0;34m\u001b[0m\u001b[0m\n\u001b[1;32m      3\u001b[0m \u001b[0mprint\u001b[0m\u001b[0;34m(\u001b[0m\u001b[0ma\u001b[0m\u001b[0;34m.\u001b[0m\u001b[0mnumber_of_legs\u001b[0m\u001b[0;34m)\u001b[0m\u001b[0;34m\u001b[0m\u001b[0;34m\u001b[0m\u001b[0m\n\u001b[0;32m----> 4\u001b[0;31m \u001b[0ma\u001b[0m\u001b[0;34m.\u001b[0m\u001b[0mcutlegs\u001b[0m\u001b[0;34m(\u001b[0m\u001b[0;36m2\u001b[0m\u001b[0;34m)\u001b[0m\u001b[0;34m.\u001b[0m\u001b[0mcutlegs\u001b[0m\u001b[0;34m(\u001b[0m\u001b[0;36m2\u001b[0m\u001b[0;34m)\u001b[0m\u001b[0;34m\u001b[0m\u001b[0;34m\u001b[0m\u001b[0m\n\u001b[0m",
      "\u001b[0;31mAttributeError\u001b[0m: 'NoneType' object has no attribute 'cutlegs'"
     ]
    },
    {
     "ename": "AttributeError",
     "evalue": "'NoneType' object has no attribute 'cutlegs'",
     "output_type": "error",
     "traceback": [
      "\u001b[0;31m---------------------------------------------------------------------------\u001b[0m",
      "\u001b[0;31mAttributeError\u001b[0m                            Traceback (most recent call last)",
      "\u001b[0;32m<ipython-input-62-d24b59082fda>\u001b[0m in \u001b[0;36m<module>\u001b[0;34m\u001b[0m\n\u001b[1;32m      2\u001b[0m \u001b[0;34m\u001b[0m\u001b[0m\n\u001b[1;32m      3\u001b[0m \u001b[0mprint\u001b[0m\u001b[0;34m(\u001b[0m\u001b[0ma\u001b[0m\u001b[0;34m.\u001b[0m\u001b[0mnumber_of_legs\u001b[0m\u001b[0;34m)\u001b[0m\u001b[0;34m\u001b[0m\u001b[0;34m\u001b[0m\u001b[0m\n\u001b[0;32m----> 4\u001b[0;31m \u001b[0ma\u001b[0m\u001b[0;34m.\u001b[0m\u001b[0mcutlegs\u001b[0m\u001b[0;34m(\u001b[0m\u001b[0;36m2\u001b[0m\u001b[0;34m)\u001b[0m\u001b[0;34m.\u001b[0m\u001b[0mcutlegs\u001b[0m\u001b[0;34m(\u001b[0m\u001b[0;36m2\u001b[0m\u001b[0;34m)\u001b[0m\u001b[0;34m\u001b[0m\u001b[0;34m\u001b[0m\u001b[0m\n\u001b[0m",
      "\u001b[0;31mAttributeError\u001b[0m: 'NoneType' object has no attribute 'cutlegs'"
     ]
    }
   ],
   "source": [
    "a=Dog(\"name\",1,10)\n",
    "\n",
    "print(a.number_of_legs)\n",
    "a.cutlegs(2).cutlegs(2)\n"
   ]
  },
  {
   "cell_type": "code",
   "execution_count": 49,
   "metadata": {},
   "outputs": [],
   "source": [
    "class Dog:\n",
    "    \n",
    "    species=\"mammals\"\n",
    "    number_of_legs=4\n",
    "    level_of_danger=1\n",
    "    \n",
    "    def __init__(self,name,age,lod=level_of_danger,nol=number_of_legs):\n",
    "        self.name = name\n",
    "        self.age = age\n",
    "        self.level_of_danger= lod\n",
    "        \n",
    "    def bark(self):\n",
    "        print(\"bark bark\")\n",
    "    \n",
    "    def birthday(self):\n",
    "        self.age += 1\n",
    "        \n",
    "    def setBuddy(self, buddy):\n",
    "        self.buddy=buddy\n",
    "        buddy.buddy = self\n",
    "        \n",
    "    def cutlegs(self, noltc):\n",
    "        self.number_of_legs -= noltc\n",
    "        \n",
    "class Bulldog(Dog):\n",
    "    \n",
    "    weight=100\n",
    "    \n",
    "    \n",
    "    def run(self,speed):\n",
    "        print(f'{self.name},{speed}')"
   ]
  },
  {
   "cell_type": "code",
   "execution_count": 51,
   "metadata": {},
   "outputs": [
    {
     "name": "stdout",
     "output_type": "stream",
     "text": [
      "Rocky,20\n",
      "Rocky,20\n",
      "Rocky,20\n"
     ]
    },
    {
     "data": {
      "text/plain": [
       "100"
      ]
     },
     "execution_count": 51,
     "metadata": {},
     "output_type": "execute_result"
    },
    {
     "data": {
      "text/plain": [
       "100"
      ]
     },
     "execution_count": 51,
     "metadata": {},
     "output_type": "execute_result"
    },
    {
     "data": {
      "text/plain": [
       "100"
      ]
     },
     "execution_count": 51,
     "metadata": {},
     "output_type": "execute_result"
    }
   ],
   "source": [
    "Rocky=Bulldog(\"Rocky\",4)\n",
    "Rocky2=Dog(\"Rocky\",6)\n",
    "\n",
    "Rocky.birthday()\n",
    "Rocky.age\n",
    "Rocky.run(20)\n",
    "Rocky.weight"
   ]
  },
  {
   "cell_type": "code",
   "execution_count": 52,
   "metadata": {},
   "outputs": [
    {
     "data": {
      "text/plain": [
       "True"
      ]
     },
     "execution_count": 52,
     "metadata": {},
     "output_type": "execute_result"
    },
    {
     "data": {
      "text/plain": [
       "True"
      ]
     },
     "execution_count": 52,
     "metadata": {},
     "output_type": "execute_result"
    },
    {
     "data": {
      "text/plain": [
       "True"
      ]
     },
     "execution_count": 52,
     "metadata": {},
     "output_type": "execute_result"
    }
   ],
   "source": [
    "isinstance(Rocky, Bulldog)"
   ]
  },
  {
   "cell_type": "code",
   "execution_count": 60,
   "metadata": {},
   "outputs": [
    {
     "data": {
      "text/plain": [
       "True"
      ]
     },
     "execution_count": 60,
     "metadata": {},
     "output_type": "execute_result"
    },
    {
     "data": {
      "text/plain": [
       "True"
      ]
     },
     "execution_count": 60,
     "metadata": {},
     "output_type": "execute_result"
    },
    {
     "data": {
      "text/plain": [
       "True"
      ]
     },
     "execution_count": 60,
     "metadata": {},
     "output_type": "execute_result"
    }
   ],
   "source": [
    "isinstance(a,(int,float,Dog))"
   ]
  },
  {
   "cell_type": "markdown",
   "metadata": {},
   "source": [
    "#Lab \n",
    "Create a class of people working in a cafe. Define the main tasks and attributes"
   ]
  },
  {
   "cell_type": "code",
   "execution_count": 240,
   "metadata": {},
   "outputs": [],
   "source": [
    "class cafe:\n",
    "    \n",
    "    def __init__(self, name, age, position, experience):\n",
    "        self.name = name\n",
    "        self.age = age\n",
    "        self.position = position\n",
    "        self.experience = experience\n",
    "        self.task=\"\"\n",
    "   \n",
    "    def attend(self):\n",
    "        if self.position == \"waiter\":\n",
    "            self.task=input(\"How can I help you? \")\n",
    "            #self.buddy=input('bar or kitchen: ')\n",
    "            self.order()\n",
    "        else: \n",
    "            print(\"Go ask someone else\")\n",
    "            \n",
    "    def make_drinks(self,task):\n",
    "        if self.position == \"barmen\":\n",
    "            print(\"Right away!\")\n",
    "            self.task = task\n",
    "        else: print(\"I can´t do that \")\n",
    "            \n",
    "    def cook (self):\n",
    "        if self.position == \"chef\":\n",
    "            print(\"Chaud!\")\n",
    "        else: print(\"Ask the chef!\")\n",
    "        \n",
    "\n",
    "    def order (self):\n",
    "        print(f\"Let me repeat your order: {self.task}\")\n",
    "        #if self.task[0].isdigit():\n",
    "            \n",
    "            \n",
    "        \n",
    "    \n",
    "    def deliver (self):\n",
    "        if self.position == \"barmen\" or self.position == \"chef\":\n",
    "            print(\"Ready!\")\n",
    "            \n",
    "        \n",
    "            \n",
    "    \n",
    "        \n",
    "        "
   ]
  },
  {
   "cell_type": "code",
   "execution_count": 242,
   "metadata": {},
   "outputs": [],
   "source": [
    "Armen = cafe(\"Armen\", 30, \"waiter\", 1)\n",
    "Mark = cafe(\"Mark\", 30, \"barmen\", 1)\n",
    "Arno = cafe(\"Arno\", 30, \"chef\", 1)"
   ]
  },
  {
   "cell_type": "code",
   "execution_count": 256,
   "metadata": {},
   "outputs": [
    {
     "name": "stdout",
     "output_type": "stream",
     "text": [
      "How can I help you? 1 gin tonic\n",
      "Let me repeat your order: 1 gin tonic\n",
      "Let me repeat your order: 1 gin tonic\n",
      "Let me repeat your order: 1 gin tonic\n"
     ]
    }
   ],
   "source": [
    "Armen.attend()"
   ]
  },
  {
   "cell_type": "code",
   "execution_count": 259,
   "metadata": {},
   "outputs": [
    {
     "name": "stdout",
     "output_type": "stream",
     "text": [
      "Right away!\n",
      "Right away!\n",
      "Right away!\n"
     ]
    }
   ],
   "source": [
    "Mark.make_drinks(Armen.task)"
   ]
  },
  {
   "cell_type": "code",
   "execution_count": 258,
   "metadata": {},
   "outputs": [
    {
     "data": {
      "text/plain": [
       "'1 gin tonic'"
      ]
     },
     "execution_count": 258,
     "metadata": {},
     "output_type": "execute_result"
    },
    {
     "data": {
      "text/plain": [
       "'1 gin tonic'"
      ]
     },
     "execution_count": 258,
     "metadata": {},
     "output_type": "execute_result"
    },
    {
     "data": {
      "text/plain": [
       "'1 gin tonic'"
      ]
     },
     "execution_count": 258,
     "metadata": {},
     "output_type": "execute_result"
    }
   ],
   "source": [
    "Mark.task"
   ]
  },
  {
   "cell_type": "code",
   "execution_count": 260,
   "metadata": {},
   "outputs": [
    {
     "name": "stdout",
     "output_type": "stream",
     "text": [
      "Ready!\n",
      "Ready!\n",
      "Ready!\n"
     ]
    }
   ],
   "source": [
    "Mark.deliver()\n",
    "\n"
   ]
  }
 ],
 "metadata": {
  "kernelspec": {
   "display_name": "Python 3",
   "language": "python",
   "name": "python3"
  },
  "language_info": {
   "codemirror_mode": {
    "name": "ipython",
    "version": 3
   },
   "file_extension": ".py",
   "mimetype": "text/x-python",
   "name": "python",
   "nbconvert_exporter": "python",
   "pygments_lexer": "ipython3",
   "version": "3.7.3"
  }
 },
 "nbformat": 4,
 "nbformat_minor": 2
}
