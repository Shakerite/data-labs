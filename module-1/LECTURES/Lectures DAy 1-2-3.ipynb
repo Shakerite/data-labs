{
 "cells": [
  {
   "cell_type": "code",
   "execution_count": 1,
   "metadata": {},
   "outputs": [
    {
     "name": "stdout",
     "output_type": "stream",
     "text": [
      "The Zen of Python, by Tim Peters\n",
      "\n",
      "Beautiful is better than ugly.\n",
      "Explicit is better than implicit.\n",
      "Simple is better than complex.\n",
      "Complex is better than complicated.\n",
      "Flat is better than nested.\n",
      "Sparse is better than dense.\n",
      "Readability counts.\n",
      "Special cases aren't special enough to break the rules.\n",
      "Although practicality beats purity.\n",
      "Errors should never pass silently.\n",
      "Unless explicitly silenced.\n",
      "In the face of ambiguity, refuse the temptation to guess.\n",
      "There should be one-- and preferably only one --obvious way to do it.\n",
      "Although that way may not be obvious at first unless you're Dutch.\n",
      "Now is better than never.\n",
      "Although never is often better than *right* now.\n",
      "If the implementation is hard to explain, it's a bad idea.\n",
      "If the implementation is easy to explain, it may be a good idea.\n",
      "Namespaces are one honking great idea -- let's do more of those!\n"
     ]
    }
   ],
   "source": [
    "import this\n"
   ]
  },
  {
   "cell_type": "markdown",
   "metadata": {},
   "source": [
    "# Problem"
   ]
  },
  {
   "cell_type": "markdown",
   "metadata": {},
   "source": [
    "TO convert the temperature from Fahrenheit to Celsius"
   ]
  },
  {
   "cell_type": "markdown",
   "metadata": {},
   "source": [
    "input - Temperature in Fahrenheit\n",
    "output - Temperature in Celsius\n",
    "output message - the temperature in F is the temperature in C"
   ]
  },
  {
   "cell_type": "markdown",
   "metadata": {},
   "source": [
    "input - Temperature in Fahrenheit \n",
    "\n",
    "output - Temperature in Celsius \n",
    "\n",
    "output message - the temperature in F is the temperature in C\n"
   ]
  },
  {
   "cell_type": "markdown",
   "metadata": {},
   "source": [
    "x = function to prompt input message\n",
    "y = (x -32)*5/9\n",
    "print \"the temperature in F is this temperature in C"
   ]
  },
  {
   "cell_type": "code",
   "execution_count": 4,
   "metadata": {},
   "outputs": [
    {
     "ename": "KeyboardInterrupt",
     "evalue": "",
     "output_type": "error",
     "traceback": [
      "\u001b[0;31m---------------------------------------------------------------------------\u001b[0m",
      "\u001b[0;31mKeyboardInterrupt\u001b[0m                         Traceback (most recent call last)",
      "\u001b[0;32m/anaconda3/lib/python3.7/site-packages/ipykernel/kernelbase.py\u001b[0m in \u001b[0;36m_input_request\u001b[0;34m(self, prompt, ident, parent, password)\u001b[0m\n\u001b[1;32m    877\u001b[0m             \u001b[0;32mtry\u001b[0m\u001b[0;34m:\u001b[0m\u001b[0;34m\u001b[0m\u001b[0;34m\u001b[0m\u001b[0m\n\u001b[0;32m--> 878\u001b[0;31m                 \u001b[0mident\u001b[0m\u001b[0;34m,\u001b[0m \u001b[0mreply\u001b[0m \u001b[0;34m=\u001b[0m \u001b[0mself\u001b[0m\u001b[0;34m.\u001b[0m\u001b[0msession\u001b[0m\u001b[0;34m.\u001b[0m\u001b[0mrecv\u001b[0m\u001b[0;34m(\u001b[0m\u001b[0mself\u001b[0m\u001b[0;34m.\u001b[0m\u001b[0mstdin_socket\u001b[0m\u001b[0;34m,\u001b[0m \u001b[0;36m0\u001b[0m\u001b[0;34m)\u001b[0m\u001b[0;34m\u001b[0m\u001b[0;34m\u001b[0m\u001b[0m\n\u001b[0m\u001b[1;32m    879\u001b[0m             \u001b[0;32mexcept\u001b[0m \u001b[0mException\u001b[0m\u001b[0;34m:\u001b[0m\u001b[0;34m\u001b[0m\u001b[0;34m\u001b[0m\u001b[0m\n",
      "\u001b[0;32m/anaconda3/lib/python3.7/site-packages/jupyter_client/session.py\u001b[0m in \u001b[0;36mrecv\u001b[0;34m(self, socket, mode, content, copy)\u001b[0m\n\u001b[1;32m    802\u001b[0m         \u001b[0;32mtry\u001b[0m\u001b[0;34m:\u001b[0m\u001b[0;34m\u001b[0m\u001b[0;34m\u001b[0m\u001b[0m\n\u001b[0;32m--> 803\u001b[0;31m             \u001b[0mmsg_list\u001b[0m \u001b[0;34m=\u001b[0m \u001b[0msocket\u001b[0m\u001b[0;34m.\u001b[0m\u001b[0mrecv_multipart\u001b[0m\u001b[0;34m(\u001b[0m\u001b[0mmode\u001b[0m\u001b[0;34m,\u001b[0m \u001b[0mcopy\u001b[0m\u001b[0;34m=\u001b[0m\u001b[0mcopy\u001b[0m\u001b[0;34m)\u001b[0m\u001b[0;34m\u001b[0m\u001b[0;34m\u001b[0m\u001b[0m\n\u001b[0m\u001b[1;32m    804\u001b[0m         \u001b[0;32mexcept\u001b[0m \u001b[0mzmq\u001b[0m\u001b[0;34m.\u001b[0m\u001b[0mZMQError\u001b[0m \u001b[0;32mas\u001b[0m \u001b[0me\u001b[0m\u001b[0;34m:\u001b[0m\u001b[0;34m\u001b[0m\u001b[0;34m\u001b[0m\u001b[0m\n",
      "\u001b[0;32m/anaconda3/lib/python3.7/site-packages/zmq/sugar/socket.py\u001b[0m in \u001b[0;36mrecv_multipart\u001b[0;34m(self, flags, copy, track)\u001b[0m\n\u001b[1;32m    469\u001b[0m         \"\"\"\n\u001b[0;32m--> 470\u001b[0;31m         \u001b[0mparts\u001b[0m \u001b[0;34m=\u001b[0m \u001b[0;34m[\u001b[0m\u001b[0mself\u001b[0m\u001b[0;34m.\u001b[0m\u001b[0mrecv\u001b[0m\u001b[0;34m(\u001b[0m\u001b[0mflags\u001b[0m\u001b[0;34m,\u001b[0m \u001b[0mcopy\u001b[0m\u001b[0;34m=\u001b[0m\u001b[0mcopy\u001b[0m\u001b[0;34m,\u001b[0m \u001b[0mtrack\u001b[0m\u001b[0;34m=\u001b[0m\u001b[0mtrack\u001b[0m\u001b[0;34m)\u001b[0m\u001b[0;34m]\u001b[0m\u001b[0;34m\u001b[0m\u001b[0;34m\u001b[0m\u001b[0m\n\u001b[0m\u001b[1;32m    471\u001b[0m         \u001b[0;31m# have first part already, only loop while more to receive\u001b[0m\u001b[0;34m\u001b[0m\u001b[0;34m\u001b[0m\u001b[0;34m\u001b[0m\u001b[0m\n",
      "\u001b[0;32mzmq/backend/cython/socket.pyx\u001b[0m in \u001b[0;36mzmq.backend.cython.socket.Socket.recv\u001b[0;34m()\u001b[0m\n",
      "\u001b[0;32mzmq/backend/cython/socket.pyx\u001b[0m in \u001b[0;36mzmq.backend.cython.socket.Socket.recv\u001b[0;34m()\u001b[0m\n",
      "\u001b[0;32mzmq/backend/cython/socket.pyx\u001b[0m in \u001b[0;36mzmq.backend.cython.socket._recv_copy\u001b[0;34m()\u001b[0m\n",
      "\u001b[0;32m/anaconda3/lib/python3.7/site-packages/zmq/backend/cython/checkrc.pxd\u001b[0m in \u001b[0;36mzmq.backend.cython.checkrc._check_rc\u001b[0;34m()\u001b[0m\n",
      "\u001b[0;31mKeyboardInterrupt\u001b[0m: ",
      "\nDuring handling of the above exception, another exception occurred:\n",
      "\u001b[0;31mKeyboardInterrupt\u001b[0m                         Traceback (most recent call last)",
      "\u001b[0;32m<ipython-input-4-4282a9c171b9>\u001b[0m in \u001b[0;36m<module>\u001b[0;34m\u001b[0m\n\u001b[0;32m----> 1\u001b[0;31m \u001b[0mx\u001b[0m \u001b[0;34m=\u001b[0m \u001b[0minput\u001b[0m \u001b[0;34m(\u001b[0m\u001b[0;34m\"What is the number in F?\"\u001b[0m\u001b[0;34m)\u001b[0m\u001b[0;34m\u001b[0m\u001b[0;34m\u001b[0m\u001b[0m\n\u001b[0m\u001b[1;32m      2\u001b[0m \u001b[0my\u001b[0m \u001b[0;34m=\u001b[0m \u001b[0;34m(\u001b[0m\u001b[0mint\u001b[0m\u001b[0;34m(\u001b[0m\u001b[0mx\u001b[0m\u001b[0;34m)\u001b[0m \u001b[0;34m-\u001b[0m \u001b[0;36m32\u001b[0m\u001b[0;34m)\u001b[0m\u001b[0;34m*\u001b[0m\u001b[0;36m5\u001b[0m\u001b[0;34m/\u001b[0m\u001b[0;36m9\u001b[0m\u001b[0;34m\u001b[0m\u001b[0;34m\u001b[0m\u001b[0m\n\u001b[1;32m      3\u001b[0m \u001b[0mprint\u001b[0m\u001b[0;34m(\u001b[0m\u001b[0;34m\"The temperature in F is this temperature in C.\"\u001b[0m\u001b[0;34m,\u001b[0m \u001b[0my\u001b[0m\u001b[0;34m)\u001b[0m\u001b[0;34m\u001b[0m\u001b[0;34m\u001b[0m\u001b[0m\n",
      "\u001b[0;32m/anaconda3/lib/python3.7/site-packages/ipykernel/kernelbase.py\u001b[0m in \u001b[0;36mraw_input\u001b[0;34m(self, prompt)\u001b[0m\n\u001b[1;32m    851\u001b[0m             \u001b[0mself\u001b[0m\u001b[0;34m.\u001b[0m\u001b[0m_parent_ident\u001b[0m\u001b[0;34m,\u001b[0m\u001b[0;34m\u001b[0m\u001b[0;34m\u001b[0m\u001b[0m\n\u001b[1;32m    852\u001b[0m             \u001b[0mself\u001b[0m\u001b[0;34m.\u001b[0m\u001b[0m_parent_header\u001b[0m\u001b[0;34m,\u001b[0m\u001b[0;34m\u001b[0m\u001b[0;34m\u001b[0m\u001b[0m\n\u001b[0;32m--> 853\u001b[0;31m             \u001b[0mpassword\u001b[0m\u001b[0;34m=\u001b[0m\u001b[0;32mFalse\u001b[0m\u001b[0;34m,\u001b[0m\u001b[0;34m\u001b[0m\u001b[0;34m\u001b[0m\u001b[0m\n\u001b[0m\u001b[1;32m    854\u001b[0m         )\n\u001b[1;32m    855\u001b[0m \u001b[0;34m\u001b[0m\u001b[0m\n",
      "\u001b[0;32m/anaconda3/lib/python3.7/site-packages/ipykernel/kernelbase.py\u001b[0m in \u001b[0;36m_input_request\u001b[0;34m(self, prompt, ident, parent, password)\u001b[0m\n\u001b[1;32m    881\u001b[0m             \u001b[0;32mexcept\u001b[0m \u001b[0mKeyboardInterrupt\u001b[0m\u001b[0;34m:\u001b[0m\u001b[0;34m\u001b[0m\u001b[0;34m\u001b[0m\u001b[0m\n\u001b[1;32m    882\u001b[0m                 \u001b[0;31m# re-raise KeyboardInterrupt, to truncate traceback\u001b[0m\u001b[0;34m\u001b[0m\u001b[0;34m\u001b[0m\u001b[0;34m\u001b[0m\u001b[0m\n\u001b[0;32m--> 883\u001b[0;31m                 \u001b[0;32mraise\u001b[0m \u001b[0mKeyboardInterrupt\u001b[0m\u001b[0;34m\u001b[0m\u001b[0;34m\u001b[0m\u001b[0m\n\u001b[0m\u001b[1;32m    884\u001b[0m             \u001b[0;32melse\u001b[0m\u001b[0;34m:\u001b[0m\u001b[0;34m\u001b[0m\u001b[0;34m\u001b[0m\u001b[0m\n\u001b[1;32m    885\u001b[0m                 \u001b[0;32mbreak\u001b[0m\u001b[0;34m\u001b[0m\u001b[0;34m\u001b[0m\u001b[0m\n",
      "\u001b[0;31mKeyboardInterrupt\u001b[0m: "
     ]
    }
   ],
   "source": [
    "x = input (\"What is the number in F?\")\n",
    "y = (int(x) - 32)*5/9\n",
    "print(\"The temperature in F is this temperature in C.\", y)"
   ]
  },
  {
   "cell_type": "markdown",
   "metadata": {},
   "source": [
    "x = choose F or C\n",
    "t = the temperature to work with\n",
    "y = converted temperature"
   ]
  },
  {
   "cell_type": "markdown",
   "metadata": {},
   "source": [
    "x = function to prompt input message of choice\n",
    "t = function to prompt input message of temperature\n",
    "y = if F then from F to C else from C to F\n",
    "\n",
    "if F then\n",
    "    print \" the temperature in F is ? temperature in C\"\n",
    "else\n",
    "    print \"the temperatire in C is ?? temperature in F\"\n",
    "    \n",
    "    "
   ]
  },
  {
   "cell_type": "code",
   "execution_count": 14,
   "metadata": {},
   "outputs": [
    {
     "name": "stdout",
     "output_type": "stream",
     "text": [
      "F or C?C\n",
      "What is the temperature to convert?45\n",
      "the temperature in C is 113.0 temperature in F\n"
     ]
    }
   ],
   "source": [
    "x = input(\"F or C?\")\n",
    "t = input (\"What is the temperature to convert?\")\n",
    "y = 0\n",
    "if x == \"F\":\n",
    "    y = (int(t) -32)*5/9\n",
    "elif x == \"C\":\n",
    "    y = int(t)*9/5+32\n",
    "else:\n",
    "    print(\"REJECTED\")\n",
    "    \n",
    "if x == \"F\":\n",
    "    print(\"The temperatire in F is %s temperature in C\" %y)\n",
    "else:\n",
    "    print(\"the temperature in C is %s temperature in F\" %y)"
   ]
  },
  {
   "cell_type": "code",
   "execution_count": 19,
   "metadata": {},
   "outputs": [
    {
     "ename": "KeyboardInterrupt",
     "evalue": "",
     "output_type": "error",
     "traceback": [
      "\u001b[0;31m---------------------------------------------------------------------------\u001b[0m",
      "\u001b[0;31mKeyboardInterrupt\u001b[0m                         Traceback (most recent call last)",
      "\u001b[0;32m/anaconda3/lib/python3.7/site-packages/ipykernel/kernelbase.py\u001b[0m in \u001b[0;36m_input_request\u001b[0;34m(self, prompt, ident, parent, password)\u001b[0m\n\u001b[1;32m    877\u001b[0m             \u001b[0;32mtry\u001b[0m\u001b[0;34m:\u001b[0m\u001b[0;34m\u001b[0m\u001b[0;34m\u001b[0m\u001b[0m\n\u001b[0;32m--> 878\u001b[0;31m                 \u001b[0mident\u001b[0m\u001b[0;34m,\u001b[0m \u001b[0mreply\u001b[0m \u001b[0;34m=\u001b[0m \u001b[0mself\u001b[0m\u001b[0;34m.\u001b[0m\u001b[0msession\u001b[0m\u001b[0;34m.\u001b[0m\u001b[0mrecv\u001b[0m\u001b[0;34m(\u001b[0m\u001b[0mself\u001b[0m\u001b[0;34m.\u001b[0m\u001b[0mstdin_socket\u001b[0m\u001b[0;34m,\u001b[0m \u001b[0;36m0\u001b[0m\u001b[0;34m)\u001b[0m\u001b[0;34m\u001b[0m\u001b[0;34m\u001b[0m\u001b[0m\n\u001b[0m\u001b[1;32m    879\u001b[0m             \u001b[0;32mexcept\u001b[0m \u001b[0mException\u001b[0m\u001b[0;34m:\u001b[0m\u001b[0;34m\u001b[0m\u001b[0;34m\u001b[0m\u001b[0m\n",
      "\u001b[0;32m/anaconda3/lib/python3.7/site-packages/jupyter_client/session.py\u001b[0m in \u001b[0;36mrecv\u001b[0;34m(self, socket, mode, content, copy)\u001b[0m\n\u001b[1;32m    802\u001b[0m         \u001b[0;32mtry\u001b[0m\u001b[0;34m:\u001b[0m\u001b[0;34m\u001b[0m\u001b[0;34m\u001b[0m\u001b[0m\n\u001b[0;32m--> 803\u001b[0;31m             \u001b[0mmsg_list\u001b[0m \u001b[0;34m=\u001b[0m \u001b[0msocket\u001b[0m\u001b[0;34m.\u001b[0m\u001b[0mrecv_multipart\u001b[0m\u001b[0;34m(\u001b[0m\u001b[0mmode\u001b[0m\u001b[0;34m,\u001b[0m \u001b[0mcopy\u001b[0m\u001b[0;34m=\u001b[0m\u001b[0mcopy\u001b[0m\u001b[0;34m)\u001b[0m\u001b[0;34m\u001b[0m\u001b[0;34m\u001b[0m\u001b[0m\n\u001b[0m\u001b[1;32m    804\u001b[0m         \u001b[0;32mexcept\u001b[0m \u001b[0mzmq\u001b[0m\u001b[0;34m.\u001b[0m\u001b[0mZMQError\u001b[0m \u001b[0;32mas\u001b[0m \u001b[0me\u001b[0m\u001b[0;34m:\u001b[0m\u001b[0;34m\u001b[0m\u001b[0;34m\u001b[0m\u001b[0m\n",
      "\u001b[0;32m/anaconda3/lib/python3.7/site-packages/zmq/sugar/socket.py\u001b[0m in \u001b[0;36mrecv_multipart\u001b[0;34m(self, flags, copy, track)\u001b[0m\n\u001b[1;32m    469\u001b[0m         \"\"\"\n\u001b[0;32m--> 470\u001b[0;31m         \u001b[0mparts\u001b[0m \u001b[0;34m=\u001b[0m \u001b[0;34m[\u001b[0m\u001b[0mself\u001b[0m\u001b[0;34m.\u001b[0m\u001b[0mrecv\u001b[0m\u001b[0;34m(\u001b[0m\u001b[0mflags\u001b[0m\u001b[0;34m,\u001b[0m \u001b[0mcopy\u001b[0m\u001b[0;34m=\u001b[0m\u001b[0mcopy\u001b[0m\u001b[0;34m,\u001b[0m \u001b[0mtrack\u001b[0m\u001b[0;34m=\u001b[0m\u001b[0mtrack\u001b[0m\u001b[0;34m)\u001b[0m\u001b[0;34m]\u001b[0m\u001b[0;34m\u001b[0m\u001b[0;34m\u001b[0m\u001b[0m\n\u001b[0m\u001b[1;32m    471\u001b[0m         \u001b[0;31m# have first part already, only loop while more to receive\u001b[0m\u001b[0;34m\u001b[0m\u001b[0;34m\u001b[0m\u001b[0;34m\u001b[0m\u001b[0m\n",
      "\u001b[0;32mzmq/backend/cython/socket.pyx\u001b[0m in \u001b[0;36mzmq.backend.cython.socket.Socket.recv\u001b[0;34m()\u001b[0m\n",
      "\u001b[0;32mzmq/backend/cython/socket.pyx\u001b[0m in \u001b[0;36mzmq.backend.cython.socket.Socket.recv\u001b[0;34m()\u001b[0m\n",
      "\u001b[0;32mzmq/backend/cython/socket.pyx\u001b[0m in \u001b[0;36mzmq.backend.cython.socket._recv_copy\u001b[0;34m()\u001b[0m\n",
      "\u001b[0;32m/anaconda3/lib/python3.7/site-packages/zmq/backend/cython/checkrc.pxd\u001b[0m in \u001b[0;36mzmq.backend.cython.checkrc._check_rc\u001b[0;34m()\u001b[0m\n",
      "\u001b[0;31mKeyboardInterrupt\u001b[0m: ",
      "\nDuring handling of the above exception, another exception occurred:\n",
      "\u001b[0;31mKeyboardInterrupt\u001b[0m                         Traceback (most recent call last)",
      "\u001b[0;32m<ipython-input-19-1ce351e32d9e>\u001b[0m in \u001b[0;36m<module>\u001b[0;34m\u001b[0m\n\u001b[0;32m----> 1\u001b[0;31m \u001b[0mx\u001b[0m \u001b[0;34m=\u001b[0m \u001b[0minput\u001b[0m\u001b[0;34m(\u001b[0m\u001b[0;34m\"F or C?\"\u001b[0m\u001b[0;34m)\u001b[0m\u001b[0;34m.\u001b[0m\u001b[0mcapitalize\u001b[0m\u001b[0;34m(\u001b[0m\u001b[0;34m)\u001b[0m\u001b[0;34m\u001b[0m\u001b[0;34m\u001b[0m\u001b[0m\n\u001b[0m\u001b[1;32m      2\u001b[0m \u001b[0;32mwhile\u001b[0m \u001b[0mx\u001b[0m \u001b[0;32mnot\u001b[0m \u001b[0;32min\u001b[0m \u001b[0;34m[\u001b[0m\u001b[0;34m\"F\"\u001b[0m\u001b[0;34m,\u001b[0m \u001b[0;34m\"C\"\u001b[0m\u001b[0;34m]\u001b[0m\u001b[0;34m:\u001b[0m\u001b[0;34m\u001b[0m\u001b[0;34m\u001b[0m\u001b[0m\n\u001b[1;32m      3\u001b[0m     \u001b[0mprint\u001b[0m\u001b[0;34m(\u001b[0m\u001b[0;34m\"DOESNT EXIST\"\u001b[0m\u001b[0;34m)\u001b[0m\u001b[0;34m\u001b[0m\u001b[0;34m\u001b[0m\u001b[0m\n\u001b[1;32m      4\u001b[0m     \u001b[0mx\u001b[0m \u001b[0;34m=\u001b[0m \u001b[0minput\u001b[0m\u001b[0;34m(\u001b[0m\u001b[0;34m\"F or C?\"\u001b[0m\u001b[0;34m)\u001b[0m\u001b[0;34m.\u001b[0m\u001b[0mcapitalize\u001b[0m\u001b[0;34m(\u001b[0m\u001b[0;34m)\u001b[0m\u001b[0;34m\u001b[0m\u001b[0;34m\u001b[0m\u001b[0m\n\u001b[1;32m      5\u001b[0m \u001b[0;34m\u001b[0m\u001b[0m\n",
      "\u001b[0;32m/anaconda3/lib/python3.7/site-packages/ipykernel/kernelbase.py\u001b[0m in \u001b[0;36mraw_input\u001b[0;34m(self, prompt)\u001b[0m\n\u001b[1;32m    851\u001b[0m             \u001b[0mself\u001b[0m\u001b[0;34m.\u001b[0m\u001b[0m_parent_ident\u001b[0m\u001b[0;34m,\u001b[0m\u001b[0;34m\u001b[0m\u001b[0;34m\u001b[0m\u001b[0m\n\u001b[1;32m    852\u001b[0m             \u001b[0mself\u001b[0m\u001b[0;34m.\u001b[0m\u001b[0m_parent_header\u001b[0m\u001b[0;34m,\u001b[0m\u001b[0;34m\u001b[0m\u001b[0;34m\u001b[0m\u001b[0m\n\u001b[0;32m--> 853\u001b[0;31m             \u001b[0mpassword\u001b[0m\u001b[0;34m=\u001b[0m\u001b[0;32mFalse\u001b[0m\u001b[0;34m,\u001b[0m\u001b[0;34m\u001b[0m\u001b[0;34m\u001b[0m\u001b[0m\n\u001b[0m\u001b[1;32m    854\u001b[0m         )\n\u001b[1;32m    855\u001b[0m \u001b[0;34m\u001b[0m\u001b[0m\n",
      "\u001b[0;32m/anaconda3/lib/python3.7/site-packages/ipykernel/kernelbase.py\u001b[0m in \u001b[0;36m_input_request\u001b[0;34m(self, prompt, ident, parent, password)\u001b[0m\n\u001b[1;32m    881\u001b[0m             \u001b[0;32mexcept\u001b[0m \u001b[0mKeyboardInterrupt\u001b[0m\u001b[0;34m:\u001b[0m\u001b[0;34m\u001b[0m\u001b[0;34m\u001b[0m\u001b[0m\n\u001b[1;32m    882\u001b[0m                 \u001b[0;31m# re-raise KeyboardInterrupt, to truncate traceback\u001b[0m\u001b[0;34m\u001b[0m\u001b[0;34m\u001b[0m\u001b[0;34m\u001b[0m\u001b[0m\n\u001b[0;32m--> 883\u001b[0;31m                 \u001b[0;32mraise\u001b[0m \u001b[0mKeyboardInterrupt\u001b[0m\u001b[0;34m\u001b[0m\u001b[0;34m\u001b[0m\u001b[0m\n\u001b[0m\u001b[1;32m    884\u001b[0m             \u001b[0;32melse\u001b[0m\u001b[0;34m:\u001b[0m\u001b[0;34m\u001b[0m\u001b[0;34m\u001b[0m\u001b[0m\n\u001b[1;32m    885\u001b[0m                 \u001b[0;32mbreak\u001b[0m\u001b[0;34m\u001b[0m\u001b[0;34m\u001b[0m\u001b[0m\n",
      "\u001b[0;31mKeyboardInterrupt\u001b[0m: "
     ]
    }
   ],
   "source": [
    "x = input(\"F or C?\").capitalize()\n",
    "while x not in [\"F\", \"C\"]:\n",
    "    print(\"DOESNT EXIST\")\n",
    "    x = input(\"F or C?\").capitalize()\n",
    "    \n",
    "t = input (\"What is the temperature to convert?\")\n",
    "y = 0\n",
    "if x == \"F\":\n",
    "    y = (int(t) -32)*5/9\n",
    "elif x == \"C\":\n",
    "    y = int(t)*9/5+32\n",
    "else:\n",
    "    print(\"REJECTED\")\n",
    "    \n",
    "if x == \"F\":\n",
    "    print(\"The temperatire in F is %s temperature in C\" %y)\n",
    "else:\n",
    "    print(\"the temperature in C is %s temperature in F\" %y)"
   ]
  },
  {
   "cell_type": "code",
   "execution_count": null,
   "metadata": {},
   "outputs": [],
   "source": [
    "x = input(\"F or C?\").capitalize()\n",
    "\n",
    "for i in range(20):\n",
    "    if x not in [\"F\", \"C\"]:\n",
    "        print(\"DOESNT EXIST\")\n",
    "        x = input(\"F or C?\").capitalize()\n",
    "    else:\n",
    "        break\n",
    "        print(\"REJECTED\")\n",
    "    \n",
    "t = input (\"What is the temperature to convert?\")\n",
    "y = 0\n",
    "if x == \"F\":\n",
    "    y = (int(t) -32)*5/9\n",
    "elif x == \"C\":\n",
    "    y = int(t)*9/5+32\n",
    "else:\n",
    "    print(\"REJECTED\")\n",
    "    \n",
    "if x == \"F\":\n",
    "    print(\"The temperatire in F is %s temperature in C\" %y)\n",
    "else:\n",
    "    print(\"the temperature in C is %s temperature in F\" %y)"
   ]
  },
  {
   "cell_type": "code",
   "execution_count": 23,
   "metadata": {},
   "outputs": [
    {
     "name": "stdout",
     "output_type": "stream",
     "text": [
      "F or C?1\n",
      "DOESNT EXIST\n",
      "F or C?1\n",
      "DOESNT EXIST\n",
      "F or C?1\n",
      "DOESNT EXIST\n",
      "F or C?1\n",
      "DOESNT EXIST\n",
      "F or C?1\n",
      "DOESNT EXIST\n",
      "F or C?1\n",
      "You are dumb\n"
     ]
    }
   ],
   "source": [
    "x = input(\"F or C?\").capitalize()\n",
    "counter = 0\n",
    "\n",
    "while x not in [\"F\", \"C\"] and counter <5:\n",
    "    print(\"DOESNT EXIST\")\n",
    "    x = input(\"F or C?\").capitalize()\n",
    "    counter += 1\n",
    "    \n",
    "if counter < 5:\n",
    "    t = input (\"What is the temperature to convert?\")\n",
    "    y = 0\n",
    "    if x == \"F\":\n",
    "        y = (int(t) -32)*5/9\n",
    "        print(\"The temperatire in F is %s temperature in C\" %y)\n",
    "    elif x == \"C\":\n",
    "        y = int(t)*9/5+32\n",
    "        print(\"the temperature in C is %s temperature in F\" %y)\n",
    "    \n",
    "else:\n",
    "    print(\"You are dumb\")\n",
    "    \n"
   ]
  },
  {
   "cell_type": "code",
   "execution_count": 25,
   "metadata": {},
   "outputs": [
    {
     "data": {
      "text/plain": [
       "7"
      ]
     },
     "execution_count": 25,
     "metadata": {},
     "output_type": "execute_result"
    }
   ],
   "source": [
    "word = \"vehicle\"\n",
    "list1 = [\"cargo\", \"batman\", \"kyrgyzstan\"]\n",
    "list2 = [\"portrait\"]\n",
    "numeric_list = [0,1,2,3,4,5]\n",
    "len(word)"
   ]
  },
  {
   "cell_type": "code",
   "execution_count": 30,
   "metadata": {},
   "outputs": [
    {
     "data": {
      "text/plain": [
       "[2, 3, 4]"
      ]
     },
     "execution_count": 30,
     "metadata": {},
     "output_type": "execute_result"
    }
   ],
   "source": [
    "dictionnary = {\"1\":[1,2,3], \"2\":[2,3,4], \"3\":{3,4,5}}\n",
    "dictionnary [\"2\"]\n",
    "\n"
   ]
  },
  {
   "cell_type": "code",
   "execution_count": 33,
   "metadata": {},
   "outputs": [
    {
     "name": "stdout",
     "output_type": "stream",
     "text": [
      "My total commute time is expected to be 90 minutes\n"
     ]
    }
   ],
   "source": [
    "commute = 30\n",
    "rain = False\n",
    "traffic = False\n",
    "\n",
    "if (rain == True):\n",
    "    total_commute = commute\n",
    "else:\n",
    "    if traffic == True:\n",
    "        total_commute = commute +60 + 30\n",
    "    else:\n",
    "        total_commute = commute + 60\n",
    "        \n",
    "print(\"My total commute time is expected to be\", total_commute, \"minutes\")       "
   ]
  },
  {
   "cell_type": "code",
   "execution_count": 35,
   "metadata": {},
   "outputs": [
    {
     "name": "stdout",
     "output_type": "stream",
     "text": [
      "120\n"
     ]
    }
   ],
   "source": [
    "rain = False\n",
    "traffic = True\n",
    "total_commute = commute + (1-rain)*traffic*30 +(1-rain)*60\n",
    "print(total_commute)"
   ]
  },
  {
   "cell_type": "code",
   "execution_count": 38,
   "metadata": {},
   "outputs": [
    {
     "data": {
      "text/plain": [
       "range(4, 10)"
      ]
     },
     "execution_count": 38,
     "metadata": {},
     "output_type": "execute_result"
    }
   ],
   "source": [
    "range(4,10)"
   ]
  },
  {
   "cell_type": "code",
   "execution_count": 40,
   "metadata": {},
   "outputs": [
    {
     "ename": "SyntaxError",
     "evalue": "invalid syntax (<ipython-input-40-714c97b4b3a7>, line 2)",
     "output_type": "error",
     "traceback": [
      "\u001b[0;36m  File \u001b[0;32m\"<ipython-input-40-714c97b4b3a7>\"\u001b[0;36m, line \u001b[0;32m2\u001b[0m\n\u001b[0;31m    ages = (\"Ambre\": 31, \"Eleonore\": 24, \"Jordan\":26, \"Marguerite\":33, \"Meriem\": 27, \"Thomas\":32, \"Timothée\": 38)\u001b[0m\n\u001b[0m                   ^\u001b[0m\n\u001b[0;31mSyntaxError\u001b[0m\u001b[0;31m:\u001b[0m invalid syntax\n"
     ]
    }
   ],
   "source": [
    "fruits = [\"apple\", \"orange\", \"banana\", \"grapes\", \"pineapple\"]\n",
    "ages = {\"Ambre\": 31, \"Eleonore\": 24, \"Jordan\":26, \"Marguerite\":33, \"Meriem\": 27, \"Thomas\":32, \"Timothée\": 38}\n"
   ]
  },
  {
   "cell_type": "code",
   "execution_count": 42,
   "metadata": {},
   "outputs": [
    {
     "name": "stdout",
     "output_type": "stream",
     "text": [
      "0 apple\n",
      "1 orange\n",
      "2 banana\n",
      "3 grapes\n",
      "4 pineapple\n"
     ]
    }
   ],
   "source": [
    "fruits = [\"apple\", \"orange\", \"banana\", \"grapes\", \"pineapple\"]\n",
    "for i, item in enumerate(fruits):\n",
    "    print(i,item)"
   ]
  },
  {
   "cell_type": "code",
   "execution_count": 43,
   "metadata": {},
   "outputs": [
    {
     "name": "stdout",
     "output_type": "stream",
     "text": [
      "Ambre 31\n",
      "Eleonore 24\n",
      "Jordan 26\n",
      "Marguerite 33\n",
      "Meriem 27\n",
      "Thomas 32\n",
      "Timothée 38\n"
     ]
    }
   ],
   "source": [
    "ages = {\"Ambre\": 31, \"Eleonore\": 24, \"Jordan\":26, \"Marguerite\":33, \"Meriem\": 27, \"Thomas\":32, \"Timothée\": 38}\n",
    "\n",
    "for i in ages:\n",
    "    print(i, ages[i])"
   ]
  },
  {
   "cell_type": "code",
   "execution_count": 48,
   "metadata": {},
   "outputs": [
    {
     "name": "stdout",
     "output_type": "stream",
     "text": [
      "0 Ambre 31\n",
      "1 Eleonore 24\n",
      "2 Jordan 26\n",
      "3 Marguerite 33\n",
      "4 Meriem 27\n",
      "5 Thomas 32\n",
      "6 Timothée 38\n"
     ]
    }
   ],
   "source": [
    "for i, item in enumerate(ages.items()):\n",
    "    print(i,item[0], item[1])"
   ]
  },
  {
   "cell_type": "code",
   "execution_count": 51,
   "metadata": {},
   "outputs": [
    {
     "name": "stdout",
     "output_type": "stream",
     "text": [
      "what is the time gap between the girl checks the oven15\n",
      "Cake is in the oven\n",
      "Cake is not ready\n",
      "Cake is not ready\n",
      "Cake is ready\n"
     ]
    }
   ],
   "source": [
    "total_time = 60\n",
    "minutes_past = 0\n",
    "waiting_time = int(input(\"what is the time gap between the girl checks the oven\"))\n",
    "\n",
    "print(\"Cake is in the oven\")\n",
    "\n",
    "minutes_past += waiting_time\n",
    "\n",
    "while minutes_past + waiting_time < total_time:\n",
    "    print(\"Cake is not ready\")\n",
    "    minutes_past += waiting_time\n",
    "\n",
    "print(\"Cake is ready\")"
   ]
  },
  {
   "cell_type": "markdown",
   "metadata": {},
   "source": [
    "# List Comprehension\n"
   ]
  },
  {
   "cell_type": "code",
   "execution_count": 55,
   "metadata": {},
   "outputs": [],
   "source": [
    "lst = []\n",
    "for i in range(10):\n",
    "    lst.append(i)\n",
    "   "
   ]
  },
  {
   "cell_type": "code",
   "execution_count": 56,
   "metadata": {},
   "outputs": [
    {
     "data": {
      "text/plain": [
       "[0, 1, 2, 3, 4, 5, 6, 7, 8, 9]"
      ]
     },
     "execution_count": 56,
     "metadata": {},
     "output_type": "execute_result"
    }
   ],
   "source": [
    "lst1=[i for i in range(10)]\n",
    "lst1"
   ]
  },
  {
   "cell_type": "code",
   "execution_count": 60,
   "metadata": {},
   "outputs": [
    {
     "name": "stdout",
     "output_type": "stream",
     "text": [
      "['yes', 'yes', 'yes', 'yes']\n",
      "['yes', 'yes', 'yes', 'yes', 'yes', 'yes', 'yes', 'yes', 'yes', 'yes']\n"
     ]
    }
   ],
   "source": [
    "x = 4\n",
    "print([\"yes\" for i in range (4) if x>0])\n",
    "lst = []\n",
    "for i in range(10):\n",
    "    lst.append(\"yes\")\n",
    "print(lst)"
   ]
  },
  {
   "cell_type": "code",
   "execution_count": 61,
   "metadata": {},
   "outputs": [
    {
     "data": {
      "text/plain": [
       "[[1, 2, 3], [1, 2, 3, 4], ['yes', 'no']]"
      ]
     },
     "execution_count": 61,
     "metadata": {},
     "output_type": "execute_result"
    }
   ],
   "source": [
    "lst_lst = [[1,2,3],[1,2,3,4], [\"yes\", \"no\"]]\n",
    "lst_lst\n"
   ]
  },
  {
   "cell_type": "code",
   "execution_count": 62,
   "metadata": {},
   "outputs": [
    {
     "name": "stdout",
     "output_type": "stream",
     "text": [
      "[1, 2, 3, 1, 2, 3, 4, 'yes', 'no']\n"
     ]
    }
   ],
   "source": [
    "vals = []\n",
    "for i in lst_lst:\n",
    "    for j in i:\n",
    "        vals.append(j)\n",
    "print(vals)"
   ]
  },
  {
   "cell_type": "code",
   "execution_count": 63,
   "metadata": {},
   "outputs": [
    {
     "data": {
      "text/plain": [
       "[1, 2, 3, 1, 2, 3, 4, 'yes', 'no']"
      ]
     },
     "execution_count": 63,
     "metadata": {},
     "output_type": "execute_result"
    }
   ],
   "source": [
    "[j for i in lst_lst for j in i]"
   ]
  },
  {
   "cell_type": "code",
   "execution_count": 68,
   "metadata": {},
   "outputs": [
    {
     "name": "stdout",
     "output_type": "stream",
     "text": [
      "[[1, 2, 3], [1, 2, 3, 4], ['yes', 'no']]\n"
     ]
    },
    {
     "ename": "TypeError",
     "evalue": "object of type 'int' has no len()",
     "output_type": "error",
     "traceback": [
      "\u001b[0;31m---------------------------------------------------------------------------\u001b[0m",
      "\u001b[0;31mTypeError\u001b[0m                                 Traceback (most recent call last)",
      "\u001b[0;32m<ipython-input-68-be83f5de4943>\u001b[0m in \u001b[0;36m<module>\u001b[0;34m\u001b[0m\n\u001b[1;32m      9\u001b[0m             \u001b[0mvals\u001b[0m\u001b[0;34m.\u001b[0m\u001b[0mappend\u001b[0m\u001b[0;34m(\u001b[0m\u001b[0mj\u001b[0m\u001b[0;34m)\u001b[0m\u001b[0;34m\u001b[0m\u001b[0;34m\u001b[0m\u001b[0m\n\u001b[1;32m     10\u001b[0m     \u001b[0;32melse\u001b[0m\u001b[0;34m:\u001b[0m\u001b[0;34m\u001b[0m\u001b[0;34m\u001b[0m\u001b[0m\n\u001b[0;32m---> 11\u001b[0;31m         \u001b[0mlen\u001b[0m\u001b[0;34m(\u001b[0m\u001b[0mj\u001b[0m\u001b[0;34m)\u001b[0m\u001b[0;34m\u001b[0m\u001b[0;34m\u001b[0m\u001b[0m\n\u001b[0m",
      "\u001b[0;31mTypeError\u001b[0m: object of type 'int' has no len()"
     ]
    }
   ],
   "source": [
    "vals = []\n",
    "print(lst_lst)\n",
    "for i in lst_lst:\n",
    "    if len(i)>3:\n",
    "        for j in i:\n",
    "            vals.append(j)\n",
    "    elif len(i)>4:\n",
    "        for j in i:\n",
    "            vals.append(j)\n",
    "    else:\n",
    "        len(j)"
   ]
  },
  {
   "cell_type": "markdown",
   "metadata": {},
   "source": [
    "# Collections\n",
    "list\n",
    "tuple\n",
    "set\n",
    "dictionnaries"
   ]
  },
  {
   "cell_type": "code",
   "execution_count": 72,
   "metadata": {},
   "outputs": [],
   "source": [
    "chocolates = (\"dark\", \"milk\", \"semi sweet\")\n",
    "brands = [\"Valor\",\"nestle\", \"Lindt\"]\n",
    "        "
   ]
  },
  {
   "cell_type": "code",
   "execution_count": 73,
   "metadata": {},
   "outputs": [
    {
     "data": {
      "text/plain": [
       "['dark', 'milk', 'semi sweet']"
      ]
     },
     "execution_count": 73,
     "metadata": {},
     "output_type": "execute_result"
    }
   ],
   "source": [
    "list(chocolates)"
   ]
  },
  {
   "cell_type": "code",
   "execution_count": 75,
   "metadata": {},
   "outputs": [
    {
     "name": "stdout",
     "output_type": "stream",
     "text": [
      "{'dark': 'Valor', 'milk': 'nestle', 'semi sweet': 'Lindt'}\n",
      "{'dark': 'Valor', 'milk': 'Nestle', 'semi sweet': 'Lindt'}\n"
     ]
    }
   ],
   "source": [
    "chocs_and_brands = {\"dark\": \"Valor\", \"milk\": \"Nestle\", \"semi sweet\":\"Lindt\"}\n",
    "chocs_brands = {chocolates[i]:brands[i] for i in range(len(brands))}\n",
    "print(chocs_brands)\n",
    "print(chocs_and_brands)"
   ]
  },
  {
   "cell_type": "code",
   "execution_count": 76,
   "metadata": {},
   "outputs": [
    {
     "data": {
      "text/plain": [
       "'nestle'"
      ]
     },
     "execution_count": 76,
     "metadata": {},
     "output_type": "execute_result"
    }
   ],
   "source": [
    "chocs_brands[\"milk\"]"
   ]
  },
  {
   "cell_type": "code",
   "execution_count": 78,
   "metadata": {},
   "outputs": [
    {
     "name": "stdout",
     "output_type": "stream",
     "text": [
      "dict_keys(['dark', 'milk', 'semi sweet'])\n",
      "dict_values(['Valor', 'nestle', 'Lindt'])\n",
      "dict_items([('dark', 'Valor'), ('milk', 'nestle'), ('semi sweet', 'Lindt')])\n"
     ]
    }
   ],
   "source": [
    "print(chocs_brands.keys())\n",
    "print(chocs_brands.values())\n",
    "print(chocs_brands.items())"
   ]
  },
  {
   "cell_type": "code",
   "execution_count": 79,
   "metadata": {},
   "outputs": [],
   "source": [
    "del chocs_brands[\"dark\"] #delete function"
   ]
  },
  {
   "cell_type": "code",
   "execution_count": 80,
   "metadata": {},
   "outputs": [
    {
     "name": "stdout",
     "output_type": "stream",
     "text": [
      "{'milk': 'nestle', 'semi sweet': 'Lindt'}\n"
     ]
    }
   ],
   "source": [
    "print(chocs_brands)"
   ]
  },
  {
   "cell_type": "code",
   "execution_count": 88,
   "metadata": {},
   "outputs": [
    {
     "data": {
      "text/plain": [
       "{'milk': 'nestle', 'semi sweet': 'Lindt', 'darks': \"Cote d'or\"}"
      ]
     },
     "execution_count": 88,
     "metadata": {},
     "output_type": "execute_result"
    }
   ],
   "source": [
    "chocs_brands[\"darks\"] = \"Cote d\\'or\"\n",
    "chocs_brands"
   ]
  },
  {
   "cell_type": "code",
   "execution_count": 89,
   "metadata": {},
   "outputs": [
    {
     "name": "stdout",
     "output_type": "stream",
     "text": [
      "The best brand for milk chocolate is nestle.\n",
      "The best brand for semi sweet chocolate is Lindt.\n",
      "The best brand for darks chocolate is Cote d'or.\n"
     ]
    }
   ],
   "source": [
    "for chocolate_type,brand in chocs_brands.items():\n",
    "    print(f\"The best brand for {chocolate_type} chocolate is {brand}.\")"
   ]
  },
  {
   "cell_type": "code",
   "execution_count": 91,
   "metadata": {},
   "outputs": [
    {
     "data": {
      "text/plain": [
       "[6, 6, 6, 6, 5, 5, 5, 4, 4, 4, 3, 3, 2, 2, 2, 2, 1]"
      ]
     },
     "execution_count": 91,
     "metadata": {},
     "output_type": "execute_result"
    }
   ],
   "source": [
    "lst = [1,2,3,3,4,5,6,6,6,5,4,2,2,5,6,4,2]\n",
    "lst.sort(reverse = True)\n",
    "lst"
   ]
  },
  {
   "cell_type": "code",
   "execution_count": 92,
   "metadata": {},
   "outputs": [
    {
     "data": {
      "text/plain": [
       "{1, 2, 3, 4, 5, 6}"
      ]
     },
     "execution_count": 92,
     "metadata": {},
     "output_type": "execute_result"
    }
   ],
   "source": [
    "lst_set = set(lst)\n",
    "lst_set"
   ]
  },
  {
   "cell_type": "code",
   "execution_count": 94,
   "metadata": {},
   "outputs": [
    {
     "data": {
      "text/plain": [
       "{1: 1, 2: 4, 3: 2, 4: 3, 5: 3, 6: 4}"
      ]
     },
     "execution_count": 94,
     "metadata": {},
     "output_type": "execute_result"
    }
   ],
   "source": [
    "freq_list = []\n",
    "diction= {}\n",
    "for i in lst_set:\n",
    "    freq_1 = 0\n",
    "    for j in lst:\n",
    "        if i ==j:\n",
    "            freq_1 += 1\n",
    "    diction[i] = freq_1\n",
    "    freq_list.append(freq_1)\n",
    "diction   "
   ]
  },
  {
   "cell_type": "code",
   "execution_count": null,
   "metadata": {},
   "outputs": [],
   "source": []
  },
  {
   "cell_type": "code",
   "execution_count": 126,
   "metadata": {},
   "outputs": [
    {
     "name": "stdout",
     "output_type": "stream",
     "text": [
      "[0, 1, 3, 8, 21, 55, 144, 377, 987, 2584, 6765, 17711, 46368, 121393, 317811, 832040, 2178309, 5702887, 14930352, 39088169, 102334155, 267914296, 701408733, 1836311903, 4807526976, 12586269025, 32951280099, 86267571272, 225851433717, 591286729879, 1548008755920, 4052739537881, 10610209857723, 27777890035288, 72723460248141, 190392490709135, 498454011879264, 1304969544928657, 3416454622906707, 8944394323791464, 23416728348467685, 61305790721611591, 160500643816367088, 420196140727489673, 1100087778366101931, 2880067194370816120, 7540113804746346429, 19740274219868223167, 51680708854858323072, 135301852344706746049, 354224848179261915075, 927372692193078999176, 2427893228399975082453, 6356306993006846248183, 16641027750620563662096, 43566776258854844738105, 114059301025943970552219, 298611126818977066918552, 781774079430987230203437, 2046711111473984623691759, 5358359254990966640871840, 14028366653498915298923761, 36726740705505779255899443, 96151855463018422468774568, 251728825683549488150424261, 659034621587630041982498215, 1725375039079340637797070384, 4517090495650391871408712937, 11825896447871834976429068427, 30960598847965113057878492344, 81055900096023504197206408605, 212207101440105399533740733471, 555565404224292694404015791808, 1454489111232772683678306641953, 3807901929474025356630904134051, 9969216677189303386214405760200, 26099748102093884802012313146549, 68330027629092351019822533679447, 178890334785183168257455287891792, 468340976726457153752543329995929, 1226132595394188293000174702095995, 3210056809456107725247980776292056, 8404037832974134882743767626780173, 22002056689466296922983322104048463, 57602132235424755886206198685365216, 150804340016807970735635273952047185, 394810887814999156320699623170776339, 1033628323428189498226463595560281832, 2706074082469569338358691163510069157, 7084593923980518516849609894969925639, 18547707689471986212190138521399707760, 48558529144435440119720805669229197641, 127127879743834334146972278486287885163, 332825110087067562321196029789634457848, 871347450517368352816615810882615488381, 2281217241465037496128651402858212007295, 5972304273877744135569338397692020533504, 15635695580168194910579363790217849593217, 40934782466626840596168752972961528246147, 107168651819712326877926895128666735145224, 280571172992510140037611932413038677189525]\n"
     ]
    }
   ],
   "source": [
    "fibo = [0,1]\n",
    "for i in range(1,200):\n",
    "    fibo.append(fibo[i]+fibo[i-1])\n",
    "del fibo[1::2]\n",
    "print(fibo)\n",
    "    \n",
    "\n"
   ]
  },
  {
   "cell_type": "code",
   "execution_count": 130,
   "metadata": {},
   "outputs": [
    {
     "name": "stdout",
     "output_type": "stream",
     "text": [
      "[0, 1, 3, 8, 21, 55, 144, 377, 987, 2584, 6765, 17711, 46368, 121393, 317811, 832040, 2178309, 5702887, 14930352, 39088169, 102334155, 267914296, 701408733, 1836311903, 4807526976, 12586269025, 32951280099, 86267571272, 225851433717, 591286729879, 1548008755920, 4052739537881, 10610209857723, 27777890035288, 72723460248141, 190392490709135, 498454011879264, 1304969544928657, 3416454622906707, 8944394323791464, 23416728348467685, 61305790721611591, 160500643816367088, 420196140727489673, 1100087778366101931, 2880067194370816120, 7540113804746346429, 19740274219868223167, 51680708854858323072, 135301852344706746049, 354224848179261915075, 927372692193078999176, 2427893228399975082453, 6356306993006846248183, 16641027750620563662096, 43566776258854844738105, 114059301025943970552219, 298611126818977066918552, 781774079430987230203437, 2046711111473984623691759, 5358359254990966640871840, 14028366653498915298923761, 36726740705505779255899443, 96151855463018422468774568, 251728825683549488150424261, 659034621587630041982498215, 1725375039079340637797070384, 4517090495650391871408712937, 11825896447871834976429068427, 30960598847965113057878492344, 81055900096023504197206408605, 212207101440105399533740733471, 555565404224292694404015791808, 1454489111232772683678306641953, 3807901929474025356630904134051, 9969216677189303386214405760200, 26099748102093884802012313146549, 68330027629092351019822533679447, 178890334785183168257455287891792, 468340976726457153752543329995929, 1226132595394188293000174702095995, 3210056809456107725247980776292056, 8404037832974134882743767626780173, 22002056689466296922983322104048463, 57602132235424755886206198685365216, 150804340016807970735635273952047185, 394810887814999156320699623170776339, 1033628323428189498226463595560281832, 2706074082469569338358691163510069157, 7084593923980518516849609894969925639, 18547707689471986212190138521399707760, 48558529144435440119720805669229197641, 127127879743834334146972278486287885163, 332825110087067562321196029789634457848, 871347450517368352816615810882615488381, 2281217241465037496128651402858212007295, 5972304273877744135569338397692020533504, 15635695580168194910579363790217849593217, 40934782466626840596168752972961528246147, 107168651819712326877926895128666735145224]\n",
      "100\n"
     ]
    }
   ],
   "source": [
    "fib = []\n",
    "f1 = 0\n",
    "f2 = 1\n",
    "fib.append(f1)\n",
    "\n",
    "for i in range (99):\n",
    "    f1, f2 = f1+f2, f1 + 2*f2\n",
    "    fib.append(f1)\n",
    "print(fib)\n",
    "print(len(fib))"
   ]
  },
  {
   "cell_type": "code",
   "execution_count": 133,
   "metadata": {},
   "outputs": [],
   "source": [
    "a = {1,2,3}\n",
    "b = {1,4,2}"
   ]
  },
  {
   "cell_type": "code",
   "execution_count": 134,
   "metadata": {},
   "outputs": [
    {
     "data": {
      "text/plain": [
       "{1, 2}"
      ]
     },
     "execution_count": 134,
     "metadata": {},
     "output_type": "execute_result"
    }
   ],
   "source": [
    "a&b"
   ]
  },
  {
   "cell_type": "code",
   "execution_count": null,
   "metadata": {},
   "outputs": [],
   "source": [
    "c = b-a"
   ]
  },
  {
   "cell_type": "markdown",
   "metadata": {},
   "source": [
    "# Strings"
   ]
  },
  {
   "cell_type": "code",
   "execution_count": 135,
   "metadata": {},
   "outputs": [],
   "source": [
    "word = \"oauiey\""
   ]
  },
  {
   "cell_type": "code",
   "execution_count": 136,
   "metadata": {},
   "outputs": [
    {
     "data": {
      "text/plain": [
       "str"
      ]
     },
     "execution_count": 136,
     "metadata": {},
     "output_type": "execute_result"
    }
   ],
   "source": [
    "type(\"word\")"
   ]
  },
  {
   "cell_type": "code",
   "execution_count": 137,
   "metadata": {},
   "outputs": [
    {
     "data": {
      "text/plain": [
       "6"
      ]
     },
     "execution_count": 137,
     "metadata": {},
     "output_type": "execute_result"
    }
   ],
   "source": [
    "len(word)"
   ]
  },
  {
   "cell_type": "code",
   "execution_count": 138,
   "metadata": {},
   "outputs": [
    {
     "data": {
      "text/plain": [
       "'e'"
      ]
     },
     "execution_count": 138,
     "metadata": {},
     "output_type": "execute_result"
    }
   ],
   "source": [
    "word[4]"
   ]
  },
  {
   "cell_type": "code",
   "execution_count": 139,
   "metadata": {},
   "outputs": [
    {
     "data": {
      "text/plain": [
       "'y'"
      ]
     },
     "execution_count": 139,
     "metadata": {},
     "output_type": "execute_result"
    }
   ],
   "source": [
    "word[-1]"
   ]
  },
  {
   "cell_type": "code",
   "execution_count": 140,
   "metadata": {},
   "outputs": [
    {
     "data": {
      "text/plain": [
       "'HelloWorld'"
      ]
     },
     "execution_count": 140,
     "metadata": {},
     "output_type": "execute_result"
    }
   ],
   "source": [
    "\"Hello\"+\"World\""
   ]
  },
  {
   "cell_type": "code",
   "execution_count": 141,
   "metadata": {},
   "outputs": [
    {
     "name": "stdout",
     "output_type": "stream",
     "text": [
      "Hello World !\n"
     ]
    }
   ],
   "source": [
    "hi = \"Hello\"\n",
    "there = \"World !\"\n",
    "print(hi, there)"
   ]
  },
  {
   "cell_type": "code",
   "execution_count": 143,
   "metadata": {},
   "outputs": [],
   "source": [
    "words = [\"I\", \"dont\", \"like\", \"chocolate\"]"
   ]
  },
  {
   "cell_type": "code",
   "execution_count": 144,
   "metadata": {},
   "outputs": [
    {
     "data": {
      "text/plain": [
       "'I dont like chocolate'"
      ]
     },
     "execution_count": 144,
     "metadata": {},
     "output_type": "execute_result"
    }
   ],
   "source": [
    "\" \".join(words)"
   ]
  },
  {
   "cell_type": "code",
   "execution_count": 146,
   "metadata": {},
   "outputs": [],
   "source": [
    "sentence = \"Fred's friends fried Fritos for Friday's food\""
   ]
  },
  {
   "cell_type": "code",
   "execution_count": null,
   "metadata": {},
   "outputs": [],
   "source": []
  },
  {
   "cell_type": "code",
   "execution_count": 149,
   "metadata": {},
   "outputs": [
    {
     "data": {
      "text/plain": [
       "[\"Fred's \", 'riends ', 'ried ', 'ritos ', \"or Friday's \", 'ood']"
      ]
     },
     "execution_count": 149,
     "metadata": {},
     "output_type": "execute_result"
    }
   ],
   "source": [
    "sentence.split()\n",
    "sentence.split(\"f\") # split, split and get rid of it"
   ]
  },
  {
   "cell_type": "code",
   "execution_count": 152,
   "metadata": {},
   "outputs": [
    {
     "data": {
      "text/plain": [
       "[\"Fred's friends fried \", \" for Friday's food\"]"
      ]
     },
     "execution_count": 152,
     "metadata": {},
     "output_type": "execute_result"
    }
   ],
   "source": [
    "F = sentence.split(\"fritos\")\n",
    "F"
   ]
  },
  {
   "cell_type": "code",
   "execution_count": 153,
   "metadata": {},
   "outputs": [
    {
     "data": {
      "text/plain": [
       "[\" for Friday's food\"]"
      ]
     },
     "execution_count": 153,
     "metadata": {},
     "output_type": "execute_result"
    }
   ],
   "source": [
    "[i for i in F if i.startswith(\" \")]"
   ]
  },
  {
   "cell_type": "code",
   "execution_count": 154,
   "metadata": {},
   "outputs": [
    {
     "data": {
      "text/plain": [
       "[\"Fred's friends fried \"]"
      ]
     },
     "execution_count": 154,
     "metadata": {},
     "output_type": "execute_result"
    }
   ],
   "source": [
    "[i for i in F if i.endswith(\" \")]"
   ]
  },
  {
   "cell_type": "code",
   "execution_count": 155,
   "metadata": {},
   "outputs": [
    {
     "data": {
      "text/plain": [
       "False"
      ]
     },
     "execution_count": 155,
     "metadata": {},
     "output_type": "execute_result"
    }
   ],
   "source": [
    "\"w\" in sentence"
   ]
  },
  {
   "cell_type": "code",
   "execution_count": 156,
   "metadata": {},
   "outputs": [
    {
     "data": {
      "text/plain": [
       "True"
      ]
     },
     "execution_count": 156,
     "metadata": {},
     "output_type": "execute_result"
    }
   ],
   "source": [
    "\"fried\" in sentence"
   ]
  },
  {
   "cell_type": "code",
   "execution_count": 157,
   "metadata": {},
   "outputs": [
    {
     "data": {
      "text/plain": [
       "\"Fred's hands fried fritos for Friday's food\""
      ]
     },
     "execution_count": 157,
     "metadata": {},
     "output_type": "execute_result"
    }
   ],
   "source": [
    "sentence.replace(\"friends\", \"hands\")"
   ]
  },
  {
   "cell_type": "code",
   "execution_count": 158,
   "metadata": {},
   "outputs": [
    {
     "data": {
      "text/plain": [
       "\"Fred's friends fried fritos for Friday's food\""
      ]
     },
     "execution_count": 158,
     "metadata": {},
     "output_type": "execute_result"
    }
   ],
   "source": [
    "sentence.replace(\"hands\", \"friends\")"
   ]
  },
  {
   "cell_type": "code",
   "execution_count": 159,
   "metadata": {},
   "outputs": [
    {
     "data": {
      "text/plain": [
       "\"Fred's riends ried ritos or Friday's ood\""
      ]
     },
     "execution_count": 159,
     "metadata": {},
     "output_type": "execute_result"
    }
   ],
   "source": [
    "sentence.replace(\"f\", \"\")"
   ]
  },
  {
   "cell_type": "code",
   "execution_count": 160,
   "metadata": {},
   "outputs": [
    {
     "data": {
      "text/plain": [
       "\"Fred's riends fried fritos for Friday's food\""
      ]
     },
     "execution_count": 160,
     "metadata": {},
     "output_type": "execute_result"
    }
   ],
   "source": [
    "sentence.replace(\"f\",\"\",1)"
   ]
  },
  {
   "cell_type": "code",
   "execution_count": 161,
   "metadata": {},
   "outputs": [
    {
     "data": {
      "text/plain": [
       "\"FRED'S FRIENDS FRIED FRITOS FOR FRIDAY'S FOOD\""
      ]
     },
     "execution_count": 161,
     "metadata": {},
     "output_type": "execute_result"
    }
   ],
   "source": [
    "sentence.upper()"
   ]
  },
  {
   "cell_type": "code",
   "execution_count": 162,
   "metadata": {},
   "outputs": [
    {
     "data": {
      "text/plain": [
       "\"Fred's friends fried fritos for friday's food\""
      ]
     },
     "execution_count": 162,
     "metadata": {},
     "output_type": "execute_result"
    }
   ],
   "source": [
    "sentence.capitalize()"
   ]
  },
  {
   "cell_type": "code",
   "execution_count": 163,
   "metadata": {},
   "outputs": [
    {
     "data": {
      "text/plain": [
       "\"fred's friends fried fritos for friday's food\""
      ]
     },
     "execution_count": 163,
     "metadata": {},
     "output_type": "execute_result"
    }
   ],
   "source": [
    "sentence.lower()"
   ]
  },
  {
   "cell_type": "code",
   "execution_count": 164,
   "metadata": {},
   "outputs": [
    {
     "data": {
      "text/plain": [
       "\"Fred'S Friends Fried Fritos For Friday'S Food\""
      ]
     },
     "execution_count": 164,
     "metadata": {},
     "output_type": "execute_result"
    }
   ],
   "source": [
    "sentence.title()"
   ]
  },
  {
   "cell_type": "markdown",
   "metadata": {},
   "source": [
    "# Text Analysis"
   ]
  },
  {
   "cell_type": "code",
   "execution_count": 167,
   "metadata": {},
   "outputs": [],
   "source": [
    "encrypted_text =\"GFS WMY OG LGDVS MF SFNKYHOSU ESLLMRS, PC WS BFGW POL DMFRQMRS, PL OG CPFU M UPCCSKSFO HDMPFOSXO GC OIS LMES DMFRQMRS DGFR SFGQRI OG CPDD GFS LISSO GK LG, MFU OISF WS NGQFO OIS GNNQKKSFNSL GC SMNI DSOOSK. WS NMDD OIS EGLO CKSJQSFODY GNNQKKPFR DSOOSK OIS 'CPKLO', OIS FSXO EGLO GNNQKKPFR DSOOSK OIS 'LSNGFU' OIS CGDDGWPFR EGLO GNNQKKPFR DSOOSK OIS 'OIPKU', MFU LG GF, QFOPD WS MNNGQFO CGK MDD OIS UPCCSKSFO DSOOSKL PF OIS HDMPFOSXO LMEHDS. OISF WS DGGB MO OIS NPHISK OSXO WS WMFO OG LGDVS MFU WS MDLG NDMLLPCY POL LYEAGDL. WS CPFU OIS EGLO GNNQKKPFR LYEAGD MFU NIMFRS PO OG OIS CGKE GC OIS 'CPKLO' DSOOSK GC OIS HDMPFOSXO LMEHDS, OIS FSXO EGLO NGEEGF LYEAGD PL NIMFRSU OG OIS CGKE GC OIS 'LSNGFU' DSOOSK, MFU OIS CGDDGWPFR EGLO NGEEGF LYEAGD PL NIMFRSU OG OIS CGKE GC OIS 'OIPKU' DSOOSK, MFU LG GF, QFOPD WS MNNGQFO CGK MDD LYEAGDL GC OIS NKYHOGRKME WS WMFO OG LGDVS.\""
   ]
  },
  {
   "cell_type": "code",
   "execution_count": 168,
   "metadata": {},
   "outputs": [
    {
     "data": {
      "text/plain": [
       "\"GFS WMY OG LGDVS MF SFNKYHOSU ESLLMRS, PC WS BFGW POL DMFRQMRS, PL OG CPFU M UPCCSKSFO HDMPFOSXO GC OIS LMES DMFRQMRS DGFR SFGQRI OG CPDD GFS LISSO GK LG, MFU OISF WS NGQFO OIS GNNQKKSFNSL GC SMNI DSOOSK. WS NMDD OIS EGLO CKSJQSFODY GNNQKKPFR DSOOSK OIS 'CPKLO', OIS FSXO EGLO GNNQKKPFR DSOOSK OIS 'LSNGFU' OIS CGDDGWPFR EGLO GNNQKKPFR DSOOSK OIS 'OIPKU', MFU LG GF, QFOPD WS MNNGQFO CGK MDD OIS UPCCSKSFO DSOOSKL PF OIS HDMPFOSXO LMEHDS. OISF WS DGGB MO OIS NPHISK OSXO WS WMFO OG LGDVS MFU WS MDLG NDMLLPCY POL LYEAGDL. WS CPFU OIS EGLO GNNQKKPFR LYEAGD MFU NIMFRS PO OG OIS CGKE GC OIS 'CPKLO' DSOOSK GC OIS HDMPFOSXO LMEHDS, OIS FSXO EGLO NGEEGF LYEAGD PL NIMFRSU OG OIS CGKE GC OIS 'LSNGFU' DSOOSK, MFU OIS CGDDGWPFR EGLO NGEEGF LYEAGD PL NIMFRSU OG OIS CGKE GC OIS 'OIPKU' DSOOSK, MFU LG GF, QFOPD WS MNNGQFO CGK MDD LYEAGDL GC OIS NKYHOGRKME WS WMFO OG LGDVS.\""
      ]
     },
     "execution_count": 168,
     "metadata": {},
     "output_type": "execute_result"
    }
   ],
   "source": [
    "encrypted_text"
   ]
  },
  {
   "cell_type": "code",
   "execution_count": 169,
   "metadata": {},
   "outputs": [
    {
     "data": {
      "text/plain": [
       "23"
      ]
     },
     "execution_count": 169,
     "metadata": {},
     "output_type": "execute_result"
    }
   ],
   "source": [
    "encrypted_text.count(\"E\")"
   ]
  },
  {
   "cell_type": "code",
   "execution_count": 170,
   "metadata": {},
   "outputs": [
    {
     "data": {
      "text/plain": [
       "866"
      ]
     },
     "execution_count": 170,
     "metadata": {},
     "output_type": "execute_result"
    }
   ],
   "source": [
    "len(encrypted_text)"
   ]
  },
  {
   "cell_type": "code",
   "execution_count": 173,
   "metadata": {},
   "outputs": [
    {
     "data": {
      "text/plain": [
       "{'G': 67,\n",
       " 'F': 51,\n",
       " 'S': 88,\n",
       " ' ': 158,\n",
       " 'W': 16,\n",
       " 'M': 35,\n",
       " 'Y': 10,\n",
       " 'O': 85,\n",
       " 'L': 39,\n",
       " 'D': 42,\n",
       " 'V': 3,\n",
       " 'N': 29,\n",
       " 'K': 35,\n",
       " 'H': 8,\n",
       " 'U': 17,\n",
       " 'E': 23,\n",
       " 'R': 17,\n",
       " ',': 10,\n",
       " 'P': 30,\n",
       " 'C': 26,\n",
       " 'B': 2,\n",
       " 'Q': 14,\n",
       " 'X': 6,\n",
       " 'I': 33,\n",
       " '.': 4,\n",
       " 'J': 1,\n",
       " \"'\": 12,\n",
       " 'A': 5}"
      ]
     },
     "execution_count": 173,
     "metadata": {},
     "output_type": "execute_result"
    }
   ],
   "source": [
    "frequency ={}\n",
    "for i in encrypted_text:\n",
    "    frequency[i] = encrypted_text.count(i)\n",
    "frequency"
   ]
  },
  {
   "cell_type": "code",
   "execution_count": 5,
   "metadata": {},
   "outputs": [
    {
     "ename": "SyntaxError",
     "evalue": "invalid syntax (<ipython-input-5-f35130f8009b>, line 3)",
     "output_type": "error",
     "traceback": [
      "\u001b[0;36m  File \u001b[0;32m\"<ipython-input-5-f35130f8009b>\"\u001b[0;36m, line \u001b[0;32m3\u001b[0m\n\u001b[0;31m    qwq\u001b[0m\n\u001b[0m      ^\u001b[0m\n\u001b[0;31mSyntaxError\u001b[0m\u001b[0;31m:\u001b[0m invalid syntax\n"
     ]
    }
   ],
   "source": [
    "import operator\n",
    "qwq = sorted(frequency.items(), key=operator.itemgetter\n",
    "qwq"
   ]
  },
  {
   "cell_type": "code",
   "execution_count": 187,
   "metadata": {},
   "outputs": [
    {
     "data": {
      "text/plain": [
       "\"GFe WMY OG LGDVe MF eFNKYHOeU EeLLMRe, PC We BFGW POL DMFRQMRe, PL OG CPFU M UPCCeKeFO HDMPFOeXO GC OIe LMEe DMFRQMRe DGFR eFGQRI OG CPDD GFe LIeeO GK LG, MFU OIeF We NGQFO OIe GNNQKKeFNeL GC eMNI DeOOeK. We NMDD OIe EGLO CKeJQeFODY GNNQKKPFR DeOOeK OIe 'CPKLO', OIe FeXO EGLO GNNQKKPFR DeOOeK OIe 'LeNGFU' OIe CGDDGWPFR EGLO GNNQKKPFR DeOOeK OIe 'OIPKU', MFU LG GF, QFOPD We MNNGQFO CGK MDD OIe UPCCeKeFO DeOOeKL PF OIe HDMPFOeXO LMEHDe. OIeF We DGGB MO OIe NPHIeK OeXO We WMFO OG LGDVe MFU We MDLG NDMLLPCY POL LYEAGDL. We CPFU OIe EGLO GNNQKKPFR LYEAGD MFU NIMFRe PO OG OIe CGKE GC OIe 'CPKLO' DeOOeK GC OIe HDMPFOeXO LMEHDe, OIe FeXO EGLO NGEEGF LYEAGD PL NIMFReU OG OIe CGKE GC OIe 'LeNGFU' DeOOeK, MFU OIe CGDDGWPFR EGLO NGEEGF LYEAGD PL NIMFReU OG OIe CGKE GC OIe 'OIPKU' DeOOeK, MFU LG GF, QFOPD We MNNGQFO CGK MDD LYEAGDL GC OIe NKYHOGRKME We WMFO OG LGDVe.\""
      ]
     },
     "execution_count": 187,
     "metadata": {},
     "output_type": "execute_result"
    }
   ],
   "source": [
    "text = text.replace(\"S\",\"e\")\n",
    "text"
   ]
  },
  {
   "cell_type": "code",
   "execution_count": 189,
   "metadata": {},
   "outputs": [
    {
     "data": {
      "text/plain": [
       "\"GFe WMY tG LGDVe MF eFNKYHteU EeLLMRe, PC We BFGW PtL DMFRQMRe, PL tG CPFU M UPCCeKeFt HDMPFteXt GC tIe LMEe DMFRQMRe DGFR eFGQRI tG CPDD GFe LIeet GK LG, MFU tIeF We NGQFt tIe GNNQKKeFNeL GC eMNI DetteK. We NMDD tIe EGLt CKeJQeFtDY GNNQKKPFR DetteK tIe 'CPKLt', tIe FeXt EGLt GNNQKKPFR DetteK tIe 'LeNGFU' tIe CGDDGWPFR EGLt GNNQKKPFR DetteK tIe 'tIPKU', MFU LG GF, QFtPD We MNNGQFt CGK MDD tIe UPCCeKeFt DetteKL PF tIe HDMPFteXt LMEHDe. tIeF We DGGB Mt tIe NPHIeK teXt We WMFt tG LGDVe MFU We MDLG NDMLLPCY PtL LYEAGDL. We CPFU tIe EGLt GNNQKKPFR LYEAGD MFU NIMFRe Pt tG tIe CGKE GC tIe 'CPKLt' DetteK GC tIe HDMPFteXt LMEHDe, tIe FeXt EGLt NGEEGF LYEAGD PL NIMFReU tG tIe CGKE GC tIe 'LeNGFU' DetteK, MFU tIe CGDDGWPFR EGLt NGEEGF LYEAGD PL NIMFReU tG tIe CGKE GC tIe 'tIPKU' DetteK, MFU LG GF, QFtPD We MNNGQFt CGK MDD LYEAGDL GC tIe NKYHtGRKME We WMFt tG LGDVe.\""
      ]
     },
     "execution_count": 189,
     "metadata": {},
     "output_type": "execute_result"
    }
   ],
   "source": [
    "text = text.replace(\"O\",\"t\")\n",
    "text"
   ]
  },
  {
   "cell_type": "code",
   "execution_count": 191,
   "metadata": {},
   "outputs": [
    {
     "data": {
      "text/plain": [
       "\"GFe WMY tG LGDVe MF eFNKYHteU EeLLMRe, PC We BFGW PtL DMFRQMRe, PL tG CPFU M UPCCeKeFt HDMPFteXt GC the LMEe DMFRQMRe DGFR eFGQRh tG CPDD GFe Lheet GK LG, MFU theF We NGQFt the GNNQKKeFNeL GC eMNh DetteK. We NMDD the EGLt CKeJQeFtDY GNNQKKPFR DetteK the 'CPKLt', the FeXt EGLt GNNQKKPFR DetteK the 'LeNGFU' the CGDDGWPFR EGLt GNNQKKPFR DetteK the 'thPKU', MFU LG GF, QFtPD We MNNGQFt CGK MDD the UPCCeKeFt DetteKL PF the HDMPFteXt LMEHDe. theF We DGGB Mt the NPHheK teXt We WMFt tG LGDVe MFU We MDLG NDMLLPCY PtL LYEAGDL. We CPFU the EGLt GNNQKKPFR LYEAGD MFU NhMFRe Pt tG the CGKE GC the 'CPKLt' DetteK GC the HDMPFteXt LMEHDe, the FeXt EGLt NGEEGF LYEAGD PL NhMFReU tG the CGKE GC the 'LeNGFU' DetteK, MFU the CGDDGWPFR EGLt NGEEGF LYEAGD PL NhMFReU tG the CGKE GC the 'thPKU' DetteK, MFU LG GF, QFtPD We MNNGQFt CGK MDD LYEAGDL GC the NKYHtGRKME We WMFt tG LGDVe.\""
      ]
     },
     "execution_count": 191,
     "metadata": {},
     "output_type": "execute_result"
    }
   ],
   "source": [
    "text= text.replace(\"I\", \"h\")\n",
    "text"
   ]
  },
  {
   "cell_type": "code",
   "execution_count": 192,
   "metadata": {},
   "outputs": [
    {
     "data": {
      "text/plain": [
       "\"oFe WMY to LoDVe MF eFNKYHteU EeLLMRe, PC We BFoW PtL DMFRQMRe, PL to CPFU M UPCCeKeFt HDMPFteXt oC the LMEe DMFRQMRe DoFR eFoQRh to CPDD oFe Lheet oK Lo, MFU theF We NoQFt the oNNQKKeFNeL oC eMNh DetteK. We NMDD the EoLt CKeJQeFtDY oNNQKKPFR DetteK the 'CPKLt', the FeXt EoLt oNNQKKPFR DetteK the 'LeNoFU' the CoDDoWPFR EoLt oNNQKKPFR DetteK the 'thPKU', MFU Lo oF, QFtPD We MNNoQFt CoK MDD the UPCCeKeFt DetteKL PF the HDMPFteXt LMEHDe. theF We DooB Mt the NPHheK teXt We WMFt to LoDVe MFU We MDLo NDMLLPCY PtL LYEAoDL. We CPFU the EoLt oNNQKKPFR LYEAoD MFU NhMFRe Pt to the CoKE oC the 'CPKLt' DetteK oC the HDMPFteXt LMEHDe, the FeXt EoLt NoEEoF LYEAoD PL NhMFReU to the CoKE oC the 'LeNoFU' DetteK, MFU the CoDDoWPFR EoLt NoEEoF LYEAoD PL NhMFReU to the CoKE oC the 'thPKU' DetteK, MFU Lo oF, QFtPD We MNNoQFt CoK MDD LYEAoDL oC the NKYHtoRKME We WMFt to LoDVe.\""
      ]
     },
     "execution_count": 192,
     "metadata": {},
     "output_type": "execute_result"
    }
   ],
   "source": [
    "text= text.replace(\"G\", \"o\")\n",
    "text"
   ]
  },
  {
   "cell_type": "code",
   "execution_count": 193,
   "metadata": {},
   "outputs": [
    {
     "data": {
      "text/plain": [
       "\"one WMY to LoDVe Mn enNKYHteU EeLLMRe, PC We BnoW PtL DMnRQMRe, PL to CPnU M UPCCeKent HDMPnteXt oC the LMEe DMnRQMRe DonR enoQRh to CPDD one Lheet oK Lo, MnU then We NoQnt the oNNQKKenNeL oC eMNh DetteK. We NMDD the EoLt CKeJQentDY oNNQKKPnR DetteK the 'CPKLt', the neXt EoLt oNNQKKPnR DetteK the 'LeNonU' the CoDDoWPnR EoLt oNNQKKPnR DetteK the 'thPKU', MnU Lo on, QntPD We MNNoQnt CoK MDD the UPCCeKent DetteKL Pn the HDMPnteXt LMEHDe. then We DooB Mt the NPHheK teXt We WMnt to LoDVe MnU We MDLo NDMLLPCY PtL LYEAoDL. We CPnU the EoLt oNNQKKPnR LYEAoD MnU NhMnRe Pt to the CoKE oC the 'CPKLt' DetteK oC the HDMPnteXt LMEHDe, the neXt EoLt NoEEon LYEAoD PL NhMnReU to the CoKE oC the 'LeNonU' DetteK, MnU the CoDDoWPnR EoLt NoEEon LYEAoD PL NhMnReU to the CoKE oC the 'thPKU' DetteK, MnU Lo on, QntPD We MNNoQnt CoK MDD LYEAoDL oC the NKYHtoRKME We WMnt to LoDVe.\""
      ]
     },
     "execution_count": 193,
     "metadata": {},
     "output_type": "execute_result"
    }
   ],
   "source": [
    "text= text.replace(\"F\", \"n\")\n",
    "text"
   ]
  },
  {
   "cell_type": "code",
   "execution_count": 194,
   "metadata": {},
   "outputs": [
    {
     "data": {
      "text/plain": [
       "\"one wMY to LoDVe Mn enNKYHteU EeLLMRe, PC we Bnow PtL DMnRQMRe, PL to CPnU M UPCCeKent HDMPnteXt oC the LMEe DMnRQMRe DonR enoQRh to CPDD one Lheet oK Lo, MnU then we NoQnt the oNNQKKenNeL oC eMNh DetteK. we NMDD the EoLt CKeJQentDY oNNQKKPnR DetteK the 'CPKLt', the neXt EoLt oNNQKKPnR DetteK the 'LeNonU' the CoDDowPnR EoLt oNNQKKPnR DetteK the 'thPKU', MnU Lo on, QntPD we MNNoQnt CoK MDD the UPCCeKent DetteKL Pn the HDMPnteXt LMEHDe. then we DooB Mt the NPHheK teXt we wMnt to LoDVe MnU we MDLo NDMLLPCY PtL LYEAoDL. we CPnU the EoLt oNNQKKPnR LYEAoD MnU NhMnRe Pt to the CoKE oC the 'CPKLt' DetteK oC the HDMPnteXt LMEHDe, the neXt EoLt NoEEon LYEAoD PL NhMnReU to the CoKE oC the 'LeNonU' DetteK, MnU the CoDDowPnR EoLt NoEEon LYEAoD PL NhMnReU to the CoKE oC the 'thPKU' DetteK, MnU Lo on, QntPD we MNNoQnt CoK MDD LYEAoDL oC the NKYHtoRKME we wMnt to LoDVe.\""
      ]
     },
     "execution_count": 194,
     "metadata": {},
     "output_type": "execute_result"
    }
   ],
   "source": [
    "text= text.replace(\"W\", \"w\")\n",
    "text"
   ]
  },
  {
   "cell_type": "code",
   "execution_count": 195,
   "metadata": {},
   "outputs": [
    {
     "data": {
      "text/plain": [
       "\"one wMY to LolVe Mn enNKYHteU EeLLMRe, PC we Bnow PtL lMnRQMRe, PL to CPnU M UPCCeKent HlMPnteXt oC the LMEe lMnRQMRe lonR enoQRh to CPll one Lheet oK Lo, MnU then we NoQnt the oNNQKKenNeL oC eMNh letteK. we NMll the EoLt CKeJQentlY oNNQKKPnR letteK the 'CPKLt', the neXt EoLt oNNQKKPnR letteK the 'LeNonU' the CollowPnR EoLt oNNQKKPnR letteK the 'thPKU', MnU Lo on, QntPl we MNNoQnt CoK Mll the UPCCeKent letteKL Pn the HlMPnteXt LMEHle. then we looB Mt the NPHheK teXt we wMnt to LolVe MnU we MlLo NlMLLPCY PtL LYEAolL. we CPnU the EoLt oNNQKKPnR LYEAol MnU NhMnRe Pt to the CoKE oC the 'CPKLt' letteK oC the HlMPnteXt LMEHle, the neXt EoLt NoEEon LYEAol PL NhMnReU to the CoKE oC the 'LeNonU' letteK, MnU the CollowPnR EoLt NoEEon LYEAol PL NhMnReU to the CoKE oC the 'thPKU' letteK, MnU Lo on, QntPl we MNNoQnt CoK Mll LYEAolL oC the NKYHtoRKME we wMnt to LolVe.\""
      ]
     },
     "execution_count": 195,
     "metadata": {},
     "output_type": "execute_result"
    }
   ],
   "source": [
    "text= text.replace(\"D\", \"l\")\n",
    "text"
   ]
  },
  {
   "cell_type": "code",
   "execution_count": 196,
   "metadata": {},
   "outputs": [
    {
     "data": {
      "text/plain": [
       "\"one wMY to LolVe Mn enNrYHteU EeLLMRe, PC we know PtL lMnRQMRe, PL to CPnU M UPCCerent HlMPnteXt oC the LMEe lMnRQMRe lonR enoQRh to CPll one Lheet or Lo, MnU then we NoQnt the oNNQrrenNeL oC eMNh letter. we NMll the EoLt CreJQentlY oNNQrrPnR letter the 'CPrLt', the neXt EoLt oNNQrrPnR letter the 'LeNonU' the CollowPnR EoLt oNNQrrPnR letter the 'thPrU', MnU Lo on, QntPl we MNNoQnt Cor Mll the UPCCerent letterL Pn the HlMPnteXt LMEHle. then we look Mt the NPHher teXt we wMnt to LolVe MnU we MlLo NlMLLPCY PtL LYEAolL. we CPnU the EoLt oNNQrrPnR LYEAol MnU NhMnRe Pt to the CorE oC the 'CPrLt' letter oC the HlMPnteXt LMEHle, the neXt EoLt NoEEon LYEAol PL NhMnReU to the CorE oC the 'LeNonU' letter, MnU the CollowPnR EoLt NoEEon LYEAol PL NhMnReU to the CorE oC the 'thPrU' letter, MnU Lo on, QntPl we MNNoQnt Cor Mll LYEAolL oC the NrYHtoRrME we wMnt to LolVe.\""
      ]
     },
     "execution_count": 196,
     "metadata": {},
     "output_type": "execute_result"
    }
   ],
   "source": [
    "text= text.replace(\"K\", \"r\").replace(\"B\", \"k\")\n",
    "text"
   ]
  },
  {
   "cell_type": "code",
   "execution_count": 197,
   "metadata": {},
   "outputs": [
    {
     "data": {
      "text/plain": [
       "\"one way to LolVe an enNryHteU EeLLaRe, PC we know PtL lanRQaRe, PL to CPnU a UPCCerent HlaPnteXt oC the LaEe lanRQaRe lonR enoQRh to CPll one Lheet or Lo, anU then we NoQnt the oNNQrrenNeL oC eaNh letter. we Nall the EoLt CreJQently oNNQrrPnR letter the 'CPrLt', the neXt EoLt oNNQrrPnR letter the 'LeNonU' the CollowPnR EoLt oNNQrrPnR letter the 'thPrU', anU Lo on, QntPl we aNNoQnt Cor all the UPCCerent letterL Pn the HlaPnteXt LaEHle. then we look at the NPHher teXt we want to LolVe anU we alLo NlaLLPCy PtL LyEAolL. we CPnU the EoLt oNNQrrPnR LyEAol anU NhanRe Pt to the CorE oC the 'CPrLt' letter oC the HlaPnteXt LaEHle, the neXt EoLt NoEEon LyEAol PL NhanReU to the CorE oC the 'LeNonU' letter, anU the CollowPnR EoLt NoEEon LyEAol PL NhanReU to the CorE oC the 'thPrU' letter, anU Lo on, QntPl we aNNoQnt Cor all LyEAolL oC the NryHtoRraE we want to LolVe.\""
      ]
     },
     "execution_count": 197,
     "metadata": {},
     "output_type": "execute_result"
    }
   ],
   "source": [
    "text= text.replace(\"M\", \"a\").replace(\"Y\", \"y\")\n",
    "text"
   ]
  },
  {
   "cell_type": "code",
   "execution_count": 198,
   "metadata": {},
   "outputs": [
    {
     "data": {
      "text/plain": [
       "\"one way to Lolve an encryHteU EeLLaRe, PC we know PtL lanRQaRe, PL to CPnU a UPCCerent HlaPnteXt oC the LaEe lanRQaRe lonR enoQRh to CPll one Lheet or Lo, anU then we coQnt the occQrrenceL oC each letter. we call the EoLt CreJQently occQrrPnR letter the 'CPrLt', the neXt EoLt occQrrPnR letter the 'LeconU' the CollowPnR EoLt occQrrPnR letter the 'thPrU', anU Lo on, QntPl we accoQnt Cor all the UPCCerent letterL Pn the HlaPnteXt LaEHle. then we look at the cPHher teXt we want to Lolve anU we alLo claLLPCy PtL LyEAolL. we CPnU the EoLt occQrrPnR LyEAol anU chanRe Pt to the CorE oC the 'CPrLt' letter oC the HlaPnteXt LaEHle, the neXt EoLt coEEon LyEAol PL chanReU to the CorE oC the 'LeconU' letter, anU the CollowPnR EoLt coEEon LyEAol PL chanReU to the CorE oC the 'thPrU' letter, anU Lo on, QntPl we accoQnt Cor all LyEAolL oC the cryHtoRraE we want to Lolve.\""
      ]
     },
     "execution_count": 198,
     "metadata": {},
     "output_type": "execute_result"
    }
   ],
   "source": [
    "text= text.replace(\"N\", \"c\").replace(\"V\", \"v\")\n",
    "text"
   ]
  },
  {
   "cell_type": "code",
   "execution_count": 199,
   "metadata": {},
   "outputs": [
    {
     "data": {
      "text/plain": [
       "\"one way to Lolve an encrypteU meLLaRe, PC we know PtL lanRQaRe, PL to CPnU a UPCCerent plaPnteXt oC the Lame lanRQaRe lonR enoQRh to CPll one Lheet or Lo, anU then we coQnt the occQrrenceL oC each letter. we call the moLt CreJQently occQrrPnR letter the 'CPrLt', the neXt moLt occQrrPnR letter the 'LeconU' the CollowPnR moLt occQrrPnR letter the 'thPrU', anU Lo on, QntPl we accoQnt Cor all the UPCCerent letterL Pn the plaPnteXt Lample. then we look at the cPpher teXt we want to Lolve anU we alLo claLLPCy PtL LymAolL. we CPnU the moLt occQrrPnR LymAol anU chanRe Pt to the Corm oC the 'CPrLt' letter oC the plaPnteXt Lample, the neXt moLt common LymAol PL chanReU to the Corm oC the 'LeconU' letter, anU the CollowPnR moLt common LymAol PL chanReU to the Corm oC the 'thPrU' letter, anU Lo on, QntPl we accoQnt Cor all LymAolL oC the cryptoRram we want to Lolve.\""
      ]
     },
     "execution_count": 199,
     "metadata": {},
     "output_type": "execute_result"
    }
   ],
   "source": [
    "text= text.replace(\"H\", \"p\").replace(\"E\", \"m\")\n",
    "text"
   ]
  },
  {
   "cell_type": "code",
   "execution_count": 200,
   "metadata": {},
   "outputs": [
    {
     "data": {
      "text/plain": [
       "\"one way to Lolve an encrypted meLLage, PC we know PtL langQage, PL to CPnd a dPCCerent plaPnteXt oC the Lame langQage long enoQgh to CPll one Lheet or Lo, and then we coQnt the occQrrenceL oC each letter. we call the moLt CreJQently occQrrPng letter the 'CPrLt', the neXt moLt occQrrPng letter the 'Lecond' the CollowPng moLt occQrrPng letter the 'thPrd', and Lo on, QntPl we accoQnt Cor all the dPCCerent letterL Pn the plaPnteXt Lample. then we look at the cPpher teXt we want to Lolve and we alLo claLLPCy PtL LymAolL. we CPnd the moLt occQrrPng LymAol and change Pt to the Corm oC the 'CPrLt' letter oC the plaPnteXt Lample, the neXt moLt common LymAol PL changed to the Corm oC the 'Lecond' letter, and the CollowPng moLt common LymAol PL changed to the Corm oC the 'thPrd' letter, and Lo on, QntPl we accoQnt Cor all LymAolL oC the cryptogram we want to Lolve.\""
      ]
     },
     "execution_count": 200,
     "metadata": {},
     "output_type": "execute_result"
    }
   ],
   "source": [
    "text= text.replace(\"U\", \"d\").replace(\"R\", \"g\")\n",
    "text"
   ]
  },
  {
   "cell_type": "code",
   "execution_count": 201,
   "metadata": {},
   "outputs": [
    {
     "data": {
      "text/plain": [
       "\"one way to Lolve an encrypted meLLage, Pf we know PtL language, PL to fPnd a dPfferent plaPnteXt of the Lame language long enough to fPll one Lheet or Lo, and then we count the occurrenceL of each letter. we call the moLt frequently occurrPng letter the 'fPrLt', the neXt moLt occurrPng letter the 'Lecond' the followPng moLt occurrPng letter the 'thPrd', and Lo on, untPl we account for all the dPfferent letterL Pn the plaPnteXt Lample. then we look at the cPpher teXt we want to Lolve and we alLo claLLPfy PtL LymAolL. we fPnd the moLt occurrPng LymAol and change Pt to the form of the 'fPrLt' letter of the plaPnteXt Lample, the neXt moLt common LymAol PL changed to the form of the 'Lecond' letter, and the followPng moLt common LymAol PL changed to the form of the 'thPrd' letter, and Lo on, untPl we account for all LymAolL of the cryptogram we want to Lolve.\""
      ]
     },
     "execution_count": 201,
     "metadata": {},
     "output_type": "execute_result"
    }
   ],
   "source": [
    "text= text.replace(\"C\", \"f\").replace(\"J\", \"q\").replace(\"Q\", \"u\")\n",
    "text"
   ]
  },
  {
   "cell_type": "code",
   "execution_count": 202,
   "metadata": {},
   "outputs": [
    {
     "data": {
      "text/plain": [
       "\"one way to Lolve an encrypted meLLage, if we know itL language, iL to find a different plaintext of the Lame language long enough to fill one Lheet or Lo, and then we count the occurrenceL of each letter. we call the moLt frequently occurring letter the 'firLt', the next moLt occurring letter the 'Lecond' the following moLt occurring letter the 'third', and Lo on, until we account for all the different letterL in the plaintext Lample. then we look at the cipher text we want to Lolve and we alLo claLLify itL LymAolL. we find the moLt occurring LymAol and change it to the form of the 'firLt' letter of the plaintext Lample, the next moLt common LymAol iL changed to the form of the 'Lecond' letter, and the following moLt common LymAol iL changed to the form of the 'third' letter, and Lo on, until we account for all LymAolL of the cryptogram we want to Lolve.\""
      ]
     },
     "execution_count": 202,
     "metadata": {},
     "output_type": "execute_result"
    }
   ],
   "source": [
    "text= text.replace(\"P\", \"i\").replace(\"X\", \"x\")\n",
    "text"
   ]
  },
  {
   "cell_type": "code",
   "execution_count": 203,
   "metadata": {},
   "outputs": [
    {
     "data": {
      "text/plain": [
       "\"one way to solve an encrypted message, if we know its language, is to find a different plaintext of the same language long enough to fill one sheet or so, and then we count the occurrences of each letter. we call the most frequently occurring letter the 'first', the next most occurring letter the 'second' the following most occurring letter the 'third', and so on, until we account for all the different letters in the plaintext sample. then we look at the cipher text we want to solve and we also classify its symbols. we find the most occurring symbol and change it to the form of the 'first' letter of the plaintext sample, the next most common symbol is changed to the form of the 'second' letter, and the following most common symbol is changed to the form of the 'third' letter, and so on, until we account for all symbols of the cryptogram we want to solve.\""
      ]
     },
     "execution_count": 203,
     "metadata": {},
     "output_type": "execute_result"
    }
   ],
   "source": [
    "text= text.replace(\"A\", \"b\").replace(\"L\", \"s\")\n",
    "text"
   ]
  },
  {
   "cell_type": "code",
   "execution_count": null,
   "metadata": {},
   "outputs": [],
   "source": []
  },
  {
   "cell_type": "code",
   "execution_count": null,
   "metadata": {},
   "outputs": [],
   "source": []
  }
 ],
 "metadata": {
  "kernelspec": {
   "display_name": "Python 3",
   "language": "python",
   "name": "python3"
  },
  "language_info": {
   "codemirror_mode": {
    "name": "ipython",
    "version": 3
   },
   "file_extension": ".py",
   "mimetype": "text/x-python",
   "name": "python",
   "nbconvert_exporter": "python",
   "pygments_lexer": "ipython3",
   "version": "3.7.3"
  }
 },
 "nbformat": 4,
 "nbformat_minor": 2
}
