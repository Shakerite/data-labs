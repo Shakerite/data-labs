{
 "cells": [
  {
   "cell_type": "markdown",
   "metadata": {},
   "source": [
    "#Day 8\n"
   ]
  },
  {
   "cell_type": "code",
   "execution_count": 1,
   "metadata": {},
   "outputs": [],
   "source": [
    "import numpy as np\n",
    "a=np.random.random((2,2))\n",
    "b=np.random.random((4,3,2))\n",
    "c=np.random.random((5,4,3,2))"
   ]
  },
  {
   "cell_type": "code",
   "execution_count": 6,
   "metadata": {},
   "outputs": [
    {
     "data": {
      "text/plain": [
       "array([[0.9448257 , 0.0302145 ],\n",
       "       [0.34630308, 0.5829545 ]])"
      ]
     },
     "execution_count": 6,
     "metadata": {},
     "output_type": "execute_result"
    }
   ],
   "source": [
    "a\n"
   ]
  },
  {
   "cell_type": "code",
   "execution_count": 9,
   "metadata": {},
   "outputs": [
    {
     "data": {
      "text/plain": [
       "array([0.9448257 , 0.34630308])"
      ]
     },
     "execution_count": 9,
     "metadata": {},
     "output_type": "execute_result"
    }
   ],
   "source": [
    "a[0][1]\n",
    "a[:,0] #first column of every row"
   ]
  },
  {
   "cell_type": "code",
   "execution_count": 17,
   "metadata": {},
   "outputs": [
    {
     "name": "stdout",
     "output_type": "stream",
     "text": [
      "[[0.83165284 0.19219835]\n",
      " [0.63625691 0.36709309]\n",
      " [0.52424169 0.5500114 ]]\n"
     ]
    }
   ],
   "source": [
    "#print(c[0])\n",
    "\n",
    "print(c[0,1])\n",
    "\n",
    "#print(c[0,1,2])"
   ]
  },
  {
   "cell_type": "code",
   "execution_count": 18,
   "metadata": {},
   "outputs": [
    {
     "data": {
      "text/plain": [
       "1.904297774323822"
      ]
     },
     "execution_count": 18,
     "metadata": {},
     "output_type": "execute_result"
    }
   ],
   "source": [
    "np.sum(a)"
   ]
  },
  {
   "cell_type": "code",
   "execution_count": 19,
   "metadata": {},
   "outputs": [
    {
     "data": {
      "text/plain": [
       "array([1.29112878, 0.613169  ])"
      ]
     },
     "execution_count": 19,
     "metadata": {},
     "output_type": "execute_result"
    }
   ],
   "source": [
    "a.sum(axis=0) #sum of rows among columns\n",
    "a.sum(axis=1) #sum of colums among rows"
   ]
  },
  {
   "cell_type": "code",
   "execution_count": 22,
   "metadata": {},
   "outputs": [
    {
     "data": {
      "text/plain": [
       "array([[[0.39592356, 0.4606387 ],\n",
       "        [0.59296798, 0.51518657],\n",
       "        [0.13002972, 0.73268714]],\n",
       "\n",
       "       [[0.87622035, 0.23642405],\n",
       "        [0.29276106, 0.35377054],\n",
       "        [0.26657863, 0.0935377 ]],\n",
       "\n",
       "       [[0.4480998 , 0.51692773],\n",
       "        [0.99454038, 0.23001841],\n",
       "        [0.46307167, 0.17715015]],\n",
       "\n",
       "       [[0.29622696, 0.73076054],\n",
       "        [0.64556476, 0.93973425],\n",
       "        [0.94253005, 0.86251848]]])"
      ]
     },
     "execution_count": 22,
     "metadata": {},
     "output_type": "execute_result"
    }
   ],
   "source": [
    "b"
   ]
  },
  {
   "cell_type": "code",
   "execution_count": 20,
   "metadata": {},
   "outputs": [
    {
     "data": {
      "text/plain": [
       "0.5080778819729047"
      ]
     },
     "execution_count": 20,
     "metadata": {},
     "output_type": "execute_result"
    }
   ],
   "source": [
    "b.mean()"
   ]
  },
  {
   "cell_type": "code",
   "execution_count": 21,
   "metadata": {},
   "outputs": [
    {
     "data": {
      "text/plain": [
       "array([[0.50411767, 0.48618775],\n",
       "       [0.63145854, 0.50967744],\n",
       "       [0.45055252, 0.46647337]])"
      ]
     },
     "execution_count": 21,
     "metadata": {},
     "output_type": "execute_result"
    }
   ],
   "source": [
    "b.mean(axis=0) #mean"
   ]
  },
  {
   "cell_type": "code",
   "execution_count": 23,
   "metadata": {},
   "outputs": [
    {
     "data": {
      "text/plain": [
       "array([[0.42828113, 0.55407728, 0.43135843],\n",
       "       [0.5563222 , 0.3232658 , 0.18005817],\n",
       "       [0.48251376, 0.6122794 , 0.32011091],\n",
       "       [0.51349375, 0.7926495 , 0.90252426]])"
      ]
     },
     "execution_count": 23,
     "metadata": {},
     "output_type": "execute_result"
    }
   ],
   "source": [
    "b.mean(axis=2)"
   ]
  },
  {
   "cell_type": "code",
   "execution_count": 25,
   "metadata": {},
   "outputs": [
    {
     "data": {
      "text/plain": [
       "array([[0.37297375, 0.56950414],\n",
       "       [0.47852001, 0.22791076],\n",
       "       [0.63523728, 0.3080321 ],\n",
       "       [0.62810726, 0.84433775]])"
      ]
     },
     "execution_count": 25,
     "metadata": {},
     "output_type": "execute_result"
    }
   ],
   "source": [
    "b.mean(axis=1)"
   ]
  },
  {
   "cell_type": "code",
   "execution_count": 26,
   "metadata": {},
   "outputs": [
    {
     "data": {
      "text/plain": [
       "array([[[2.39592356, 2.4606387 ],\n",
       "        [2.59296798, 2.51518657],\n",
       "        [2.13002972, 2.73268714]],\n",
       "\n",
       "       [[2.87622035, 2.23642405],\n",
       "        [2.29276106, 2.35377054],\n",
       "        [2.26657863, 2.0935377 ]],\n",
       "\n",
       "       [[2.4480998 , 2.51692773],\n",
       "        [2.99454038, 2.23001841],\n",
       "        [2.46307167, 2.17715015]],\n",
       "\n",
       "       [[2.29622696, 2.73076054],\n",
       "        [2.64556476, 2.93973425],\n",
       "        [2.94253005, 2.86251848]]])"
      ]
     },
     "execution_count": 26,
     "metadata": {},
     "output_type": "execute_result"
    }
   ],
   "source": [
    "b+2"
   ]
  },
  {
   "cell_type": "code",
   "execution_count": 36,
   "metadata": {},
   "outputs": [],
   "source": [
    "a=np.random.random((2,2))\n",
    "b=np.random.random((2,2))"
   ]
  },
  {
   "cell_type": "code",
   "execution_count": 37,
   "metadata": {},
   "outputs": [
    {
     "data": {
      "text/plain": [
       "(array([[0.49542218, 0.62733915],\n",
       "        [0.12754376, 0.50690011]]), array([[0.98485329, 0.218472  ],\n",
       "        [0.98216778, 0.58990132]]))"
      ]
     },
     "execution_count": 37,
     "metadata": {},
     "output_type": "execute_result"
    }
   ],
   "source": [
    "a,b"
   ]
  },
  {
   "cell_type": "code",
   "execution_count": 29,
   "metadata": {},
   "outputs": [
    {
     "data": {
      "text/plain": [
       "(array([[0.9448257 , 0.0302145 ],\n",
       "        [0.34630308, 0.5829545 ]]), array([[[0.39592356, 0.4606387 ],\n",
       "         [0.59296798, 0.51518657],\n",
       "         [0.13002972, 0.73268714]],\n",
       " \n",
       "        [[0.87622035, 0.23642405],\n",
       "         [0.29276106, 0.35377054],\n",
       "         [0.26657863, 0.0935377 ]],\n",
       " \n",
       "        [[0.4480998 , 0.51692773],\n",
       "         [0.99454038, 0.23001841],\n",
       "         [0.46307167, 0.17715015]],\n",
       " \n",
       "        [[0.29622696, 0.73076054],\n",
       "         [0.64556476, 0.93973425],\n",
       "         [0.94253005, 0.86251848]]]))"
      ]
     },
     "execution_count": 29,
     "metadata": {},
     "output_type": "execute_result"
    }
   ],
   "source": [
    "a,b #sum of 2 matrices"
   ]
  },
  {
   "cell_type": "code",
   "execution_count": null,
   "metadata": {},
   "outputs": [],
   "source": [
    "np.add(a,b)#same out put = sum"
   ]
  },
  {
   "cell_type": "code",
   "execution_count": 38,
   "metadata": {},
   "outputs": [
    {
     "data": {
      "text/plain": [
       "array([[-0.48943111,  0.40886716],\n",
       "       [-0.85462402, -0.08300121]])"
      ]
     },
     "execution_count": 38,
     "metadata": {},
     "output_type": "execute_result"
    }
   ],
   "source": [
    "a-b"
   ]
  },
  {
   "cell_type": "code",
   "execution_count": 39,
   "metadata": {},
   "outputs": [
    {
     "data": {
      "text/plain": [
       "array([[0.48791816, 0.13705604],\n",
       "       [0.12526937, 0.29902105]])"
      ]
     },
     "execution_count": 39,
     "metadata": {},
     "output_type": "execute_result"
    }
   ],
   "source": [
    "np.multiply(a,b)#matric multplication firt row per first column and so on"
   ]
  },
  {
   "cell_type": "code",
   "execution_count": 40,
   "metadata": {},
   "outputs": [
    {
     "data": {
      "text/plain": [
       "array([[1.10407046, 0.47830407],\n",
       "       [0.62347284, 0.32688578]])"
      ]
     },
     "execution_count": 40,
     "metadata": {},
     "output_type": "execute_result"
    }
   ],
   "source": [
    "np.matmul(a,b)#multplication mathématiques"
   ]
  },
  {
   "cell_type": "code",
   "execution_count": 41,
   "metadata": {},
   "outputs": [
    {
     "data": {
      "text/plain": [
       "array([[0.50304161, 2.87148543],\n",
       "       [0.12985944, 0.85929646]])"
      ]
     },
     "execution_count": 41,
     "metadata": {},
     "output_type": "execute_result"
    }
   ],
   "source": [
    "np.divide(a,b) #divide elements by elements"
   ]
  },
  {
   "cell_type": "code",
   "execution_count": 42,
   "metadata": {},
   "outputs": [],
   "source": [
    "import os"
   ]
  },
  {
   "cell_type": "code",
   "execution_count": null,
   "metadata": {},
   "outputs": [],
   "source": [
    "#osgetcwd() get current working directoy\n",
    "#os.chdir() change working directory\n",
    "#os.pathjoin() create a path\n",
    "#if defined path already exists create it"
   ]
  },
  {
   "cell_type": "code",
   "execution_count": null,
   "metadata": {},
   "outputs": [],
   "source": [
    "#open a file\n",
    "\n",
    "#open(file, mode) \"r\"read \"a\"append \"w\"write \"x\"create\n",
    "\n",
    "#additional mode \"t\"texte \"b\"binary"
   ]
  },
  {
   "cell_type": "code",
   "execution_count": null,
   "metadata": {},
   "outputs": [],
   "source": []
  },
  {
   "cell_type": "code",
   "execution_count": null,
   "metadata": {},
   "outputs": [],
   "source": []
  },
  {
   "cell_type": "code",
   "execution_count": null,
   "metadata": {},
   "outputs": [],
   "source": []
  },
  {
   "cell_type": "code",
   "execution_count": null,
   "metadata": {},
   "outputs": [],
   "source": []
  },
  {
   "cell_type": "code",
   "execution_count": null,
   "metadata": {},
   "outputs": [],
   "source": []
  }
 ],
 "metadata": {
  "kernelspec": {
   "display_name": "Python 3",
   "language": "python",
   "name": "python3"
  },
  "language_info": {
   "codemirror_mode": {
    "name": "ipython",
    "version": 3
   },
   "file_extension": ".py",
   "mimetype": "text/x-python",
   "name": "python",
   "nbconvert_exporter": "python",
   "pygments_lexer": "ipython3",
   "version": "3.7.3"
  }
 },
 "nbformat": 4,
 "nbformat_minor": 2
}
