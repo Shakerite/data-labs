{
 "cells": [
  {
   "cell_type": "code",
   "execution_count": 2,
   "metadata": {},
   "outputs": [],
   "source": [
    "import numpy as np"
   ]
  },
  {
   "cell_type": "code",
   "execution_count": 7,
   "metadata": {},
   "outputs": [],
   "source": [
    "def bayes_rule(priors,likelihood):\n",
    "    marg=sum(np.multiply(priors,likelihood))\n",
    "    post=np.divide(np.multiply(priors,likelihood),marg)\n",
    "    return post"
   ]
  },
  {
   "cell_type": "code",
   "execution_count": 8,
   "metadata": {},
   "outputs": [
    {
     "data": {
      "text/plain": [
       "array([0.30769231, 0.46153846, 0.23076923])"
      ]
     },
     "execution_count": 8,
     "metadata": {},
     "output_type": "execute_result"
    }
   ],
   "source": [
    "probas=[1/3,1/3,1/3]\n",
    "likelihood=[0.4,0.6,0.3]\n",
    "bayes_rule(probas,likelihood)"
   ]
  },
  {
   "cell_type": "code",
   "execution_count": 13,
   "metadata": {},
   "outputs": [
    {
     "data": {
      "text/plain": [
       "array([0.31746032, 0.3968254 , 0.28571429])"
      ]
     },
     "execution_count": 13,
     "metadata": {},
     "output_type": "execute_result"
    }
   ],
   "source": [
    "likelihood_red=[0.2,0.25,0.18]\n",
    "bayes_rule(probas,likelihood_red)"
   ]
  },
  {
   "cell_type": "markdown",
   "metadata": {},
   "source": [
    "# Online store example"
   ]
  },
  {
   "cell_type": "code",
   "execution_count": 15,
   "metadata": {},
   "outputs": [],
   "source": [
    "import pandas as pd"
   ]
  },
  {
   "cell_type": "code",
   "execution_count": 17,
   "metadata": {},
   "outputs": [
    {
     "data": {
      "text/plain": [
       "<matplotlib.axes._subplots.AxesSubplot at 0x11e183c88>"
      ]
     },
     "execution_count": 17,
     "metadata": {},
     "output_type": "execute_result"
    },
    {
     "data": {
      "image/png": "[encoded data removed]",
      "text/plain": [
       "<Figure size 432x288 with 1 Axes>"
      ]
     },
     "metadata": {
      "needs_background": "light"
     },
     "output_type": "display_data"
    }
   ],
   "source": [
    "n_draws=1000\n",
    "prior=pd.Series(np.random.uniform(0,1,size=n_draws))\n",
    "prior.hist()"
   ]
  },
  {
   "cell_type": "code",
   "execution_count": 20,
   "metadata": {},
   "outputs": [],
   "source": [
    "def generative_model(param):\n",
    "    result=np.random.binomial(50,param)#50 visitors\n",
    "    return result"
   ]
  },
  {
   "cell_type": "code",
   "execution_count": 21,
   "metadata": {},
   "outputs": [],
   "source": [
    "observed=10 #10 people registerd to my webpage"
   ]
  },
  {
   "cell_type": "code",
   "execution_count": 22,
   "metadata": {},
   "outputs": [],
   "source": [
    "sim_data=[]\n",
    "for p in prior:\n",
    "    sim_data.append(generative_model(p))"
   ]
  },
  {
   "cell_type": "code",
   "execution_count": 24,
   "metadata": {},
   "outputs": [
    {
     "name": "stdout",
     "output_type": "stream",
     "text": [
      "[15, 31, 2, 41, 14, 41, 48, 26, 42, 5, 19, 9, 23, 17, 13, 37, 8, 6, 49, 37, 2, 3, 27, 31, 46, 35, 28, 34, 43, 2, 49, 13, 34, 17, 12, 44, 45, 13, 8, 21, 34, 27, 25, 33, 49, 0, 46, 40, 6, 8, 5, 9, 14, 40, 43, 22, 29, 8, 31, 33, 32, 7, 28, 50, 49, 1, 1, 21, 3, 39, 30, 1, 40, 34, 4, 46, 6, 9, 50, 44, 37, 47, 28, 21, 7, 20, 18, 9, 9, 39, 36, 26, 47, 2, 31, 47, 21, 24, 33, 8, 41, 38, 28, 15, 2, 6, 20, 29, 40, 15, 30, 26, 32, 18, 33, 44, 26, 33, 48, 3, 44, 30, 15, 26, 5, 31, 6, 27, 30, 20, 31, 38, 4, 0, 48, 2, 49, 31, 40, 27, 28, 29, 44, 49, 43, 37, 0, 24, 25, 28, 37, 6, 38, 21, 6, 25, 35, 34, 9, 8, 43, 46, 6, 6, 14, 12, 16, 15, 46, 13, 48, 32, 20, 37, 50, 19, 32, 14, 36, 41, 10, 33, 36, 38, 41, 1, 27, 15, 47, 18, 3, 32, 47, 38, 10, 7, 50, 30, 29, 44, 9, 11, 13, 24, 0, 1, 15, 20, 43, 14, 19, 37, 34, 46, 47, 49, 2, 45, 50, 9, 48, 3, 29, 10, 41, 12, 38, 45, 26, 16, 21, 25, 45, 15, 25, 44, 2, 27, 45, 10, 25, 0, 19, 23, 50, 25, 9, 33, 25, 13, 5, 2, 33, 0, 4, 21, 27, 8, 50, 48, 21, 15, 14, 25, 34, 17, 40, 41, 41, 39, 25, 37, 47, 18, 42, 24, 15, 39, 18, 30, 49, 19, 8, 1, 16, 45, 2, 48, 40, 9, 25, 15, 46, 12, 1, 45, 9, 8, 50, 11, 46, 22, 39, 25, 11, 29, 4, 8, 50, 2, 33, 49, 27, 32, 0, 41, 20, 20, 36, 6, 1, 40, 48, 26, 4, 4, 16, 24, 48, 22, 34, 8, 17, 50, 42, 6, 29, 25, 13, 45, 31, 11, 41, 49, 45, 35, 28, 7, 35, 1, 48, 17, 21, 16, 20, 17, 0, 50, 38, 43, 19, 11, 41, 23, 24, 38, 30, 23, 35, 46, 38, 15, 40, 22, 30, 14, 23, 2, 49, 27, 46, 46, 11, 8, 42, 36, 41, 3, 36, 21, 46, 20, 29, 17, 15, 5, 30, 26, 27, 44, 15, 15, 43, 16, 50, 26, 26, 38, 23, 19, 41, 4, 37, 12, 15, 38, 43, 39, 13, 24, 10, 5, 31, 21, 3, 35, 45, 34, 32, 29, 34, 45, 46, 9, 47, 28, 15, 16, 21, 24, 50, 50, 33, 42, 22, 28, 18, 43, 26, 45, 29, 38, 46, 42, 13, 25, 30, 44, 32, 0, 36, 50, 12, 36, 16, 32, 17, 17, 42, 12, 4, 28, 30, 35, 0, 42, 32, 20, 32, 39, 8, 42, 5, 39, 48, 13, 23, 42, 5, 18, 30, 15, 7, 42, 6, 50, 43, 24, 34, 40, 15, 0, 12, 47, 11, 7, 4, 39, 48, 18, 47, 7, 49, 50, 4, 33, 43, 15, 33, 20, 5, 4, 22, 12, 13, 16, 12, 23, 17, 36, 20, 0, 30, 38, 3, 50, 37, 12, 19, 49, 9, 1, 2, 30, 33, 4, 13, 39, 6, 3, 48, 13, 43, 23, 21, 5, 7, 42, 1, 40, 20, 17, 29, 17, 3, 16, 36, 30, 17, 9, 0, 8, 15, 9, 36, 21, 10, 46, 22, 33, 40, 17, 33, 29, 27, 46, 17, 17, 26, 6, 37, 22, 26, 38, 7, 14, 24, 29, 35, 25, 8, 35, 28, 18, 25, 40, 42, 19, 48, 45, 30, 46, 9, 49, 5, 39, 11, 21, 9, 11, 12, 47, 1, 42, 49, 3, 49, 22, 5, 44, 48, 50, 49, 15, 5, 17, 27, 10, 2, 9, 20, 11, 37, 29, 44, 15, 43, 34, 49, 29, 31, 11, 50, 9, 15, 16, 41, 39, 1, 35, 23, 17, 21, 3, 11, 21, 17, 44, 23, 11, 29, 44, 1, 46, 26, 5, 41, 33, 30, 49, 48, 46, 8, 5, 46, 47, 7, 20, 35, 4, 39, 43, 1, 20, 1, 3, 3, 36, 11, 20, 3, 41, 19, 8, 21, 30, 25, 29, 42, 33, 50, 2, 27, 17, 49, 27, 3, 3, 1, 34, 0, 7, 20, 45, 49, 50, 32, 7, 50, 5, 30, 11, 25, 1, 35, 39, 6, 18, 45, 24, 20, 12, 25, 45, 0, 38, 40, 28, 28, 45, 30, 27, 50, 37, 34, 5, 26, 7, 50, 50, 4, 50, 19, 18, 25, 9, 37, 39, 23, 24, 37, 16, 7, 26, 9, 27, 17, 42, 33, 2, 28, 43, 18, 33, 18, 41, 0, 11, 49, 4, 21, 42, 22, 12, 25, 45, 33, 7, 15, 22, 2, 43, 3, 32, 44, 46, 34, 28, 41, 17, 39, 48, 11, 47, 34, 30, 23, 5, 33, 50, 35, 41, 43, 30, 38, 1, 28, 19, 4, 14, 0, 25, 20, 20, 35, 28, 21, 8, 50, 4, 11, 39, 24, 28, 30, 10, 30, 40, 18, 11, 19, 26, 38, 34, 27, 11, 28, 28, 37, 5, 20, 21, 38, 34, 26, 15, 50, 50, 43, 20, 42, 7, 1, 41, 26, 2, 34, 15, 37, 45, 38, 22, 46, 33, 13, 5, 23, 9, 37, 3, 13, 6, 8, 41, 46, 25, 47, 1, 20, 31, 33, 11, 39, 41, 41, 7, 1, 48, 33, 6, 11, 8, 15, 40, 3, 23, 32, 6, 22, 46, 42, 18, 3, 25, 13, 1, 14, 1, 29, 20, 38, 9, 37, 32, 41, 3, 1, 43, 29, 33, 46, 5, 44, 7, 3, 42, 21, 33, 31, 13, 35, 11, 17, 45, 9, 12, 49, 2, 2, 14, 14, 8, 24, 40, 43, 42, 33, 1, 45, 45, 9, 20, 34, 49, 7, 4, 4, 38, 8, 30, 44, 41, 6, 25, 49, 31, 9, 17, 10, 32, 0, 44, 0, 44, 47, 6, 45, 25, 17, 0]\n"
     ]
    }
   ],
   "source": [
    "print(sim_data)"
   ]
  },
  {
   "cell_type": "code",
   "execution_count": 25,
   "metadata": {},
   "outputs": [
    {
     "data": {
      "text/plain": [
       "180    0.188791\n",
       "194    0.193612\n",
       "223    0.182296\n",
       "239    0.089434\n",
       "420    0.357787\n",
       "576    0.226241\n",
       "637    0.138930\n",
       "845    0.219695\n",
       "988    0.245940\n",
       "dtype: float64"
      ]
     },
     "execution_count": 25,
     "metadata": {},
     "output_type": "execute_result"
    }
   ],
   "source": [
    "posterior=prior[list(map(lambda X: X==observed,sim_data))]\n",
    "posterior"
   ]
  },
  {
   "cell_type": "code",
   "execution_count": 26,
   "metadata": {},
   "outputs": [
    {
     "data": {
      "text/plain": [
       "count    9.000000\n",
       "mean     0.204747\n",
       "std      0.074427\n",
       "min      0.089434\n",
       "25%      0.182296\n",
       "50%      0.193612\n",
       "75%      0.226241\n",
       "max      0.357787\n",
       "dtype: float64"
      ]
     },
     "execution_count": 26,
     "metadata": {},
     "output_type": "execute_result"
    }
   ],
   "source": [
    "posterior.describe()"
   ]
  },
  {
   "cell_type": "code",
   "execution_count": 27,
   "metadata": {},
   "outputs": [
    {
     "name": "stdout",
     "output_type": "stream",
     "text": [
      "0.10923221330306274 | 0.3130483023211962\n"
     ]
    }
   ],
   "source": [
    "print(posterior.quantile(0.05),'|',posterior.quantile(0.95))"
   ]
  },
  {
   "cell_type": "markdown",
   "metadata": {},
   "source": [
    "# Maximum LIkehood estimator"
   ]
  },
  {
   "cell_type": "code",
   "execution_count": 29,
   "metadata": {},
   "outputs": [
    {
     "data": {
      "text/plain": [
       "0.19"
      ]
     },
     "execution_count": 29,
     "metadata": {},
     "output_type": "execute_result"
    }
   ],
   "source": [
    "rounded=posterior.round(2)\n",
    "mode=rounded.mode()[0]\n",
    "mode"
   ]
  },
  {
   "cell_type": "code",
   "execution_count": 30,
   "metadata": {},
   "outputs": [
    {
     "name": "stdout",
     "output_type": "stream",
     "text": [
      "MLE =  0.19 | 0.2222222222222222\n"
     ]
    }
   ],
   "source": [
    "probability=list(rounded).count(mode)/len(rounded)\n",
    "print('MLE = ',mode,\"|\",probability)"
   ]
  },
  {
   "cell_type": "code",
   "execution_count": null,
   "metadata": {},
   "outputs": [],
   "source": []
  },
  {
   "cell_type": "code",
   "execution_count": null,
   "metadata": {},
   "outputs": [],
   "source": []
  },
  {
   "cell_type": "code",
   "execution_count": null,
   "metadata": {},
   "outputs": [],
   "source": []
  }
 ],
 "metadata": {
  "kernelspec": {
   "display_name": "Python 3",
   "language": "python",
   "name": "python3"
  },
  "language_info": {
   "codemirror_mode": {
    "name": "ipython",
    "version": 3
   },
   "file_extension": ".py",
   "mimetype": "text/x-python",
   "name": "python",
   "nbconvert_exporter": "python",
   "pygments_lexer": "ipython3",
   "version": "3.7.3"
  }
 },
 "nbformat": 4,
 "nbformat_minor": 2
}
