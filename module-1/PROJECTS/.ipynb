{
 "cells": [
  {
   "cell_type": "code",
   "execution_count": null,
   "metadata": {},
   "outputs": [],
   "source": [
    "import random\n",
    "import string\n",
    "\n",
    "def encrypt():\n",
    "    \n",
    "    text = input('Please enter a text ')\n",
    "    text = text.upper()\n",
    "\n",
    "   # letters = string.printable\n",
    "    letters = (string.ascii_lowercase) + (string.digits) + (string.punctuation) + ' '\n",
    "\n",
    "    letters_values = random.sample(letters, len(letters)) #random.shuffle\n",
    "    global letters_match\n",
    "    letters_match = {}\n",
    "    for i,letter  in enumerate(letters.upper()):\n",
    "        letters_match.update({letter:letters_values[i]})\n",
    "    for l in text:    \n",
    "        text = text.replace(l,letters_match[l])\n",
    "    text_random=''\n",
    "    for l in text :    \n",
    "        if random.randint(0,1): \n",
    "            text_random += l.upper()\n",
    "        else:\n",
    "            text_random +=l\n",
    "    return text_random\n",
    "\n",
    "def decrypt(text):\n",
    "    text = text.lower()\n",
    "    for l in text:\n",
    "        for i, item in enumerate(letters_match.items()):\n",
    "            if l == item[1]:\n",
    "                text= text.replace(l,item[0]) \n",
    "    \n",
    "    return text"
   ]
  },
  {
   "cell_type": "code",
   "execution_count": null,
   "metadata": {},
   "outputs": [],
   "source": []
  },
  {
   "cell_type": "code",
   "execution_count": null,
   "metadata": {},
   "outputs": [],
   "source": []
  },
  {
   "cell_type": "code",
   "execution_count": null,
   "metadata": {},
   "outputs": [],
   "source": []
  },
  {
   "cell_type": "code",
   "execution_count": null,
   "metadata": {},
   "outputs": [],
   "source": []
  },
  {
   "cell_type": "code",
   "execution_count": null,
   "metadata": {},
   "outputs": [],
   "source": []
  },
  {
   "cell_type": "code",
   "execution_count": null,
   "metadata": {},
   "outputs": [],
   "source": []
  },
  {
   "cell_type": "code",
   "execution_count": null,
   "metadata": {},
   "outputs": [],
   "source": []
  },
  {
   "cell_type": "code",
   "execution_count": null,
   "metadata": {},
   "outputs": [],
   "source": []
  },
  {
   "cell_type": "code",
   "execution_count": null,
   "metadata": {},
   "outputs": [],
   "source": []
  },
  {
   "cell_type": "code",
   "execution_count": null,
   "metadata": {},
   "outputs": [],
   "source": []
  }
 ],
 "metadata": {
  "kernelspec": {
   "display_name": "Python 3",
   "language": "python",
   "name": "python3"
  },
  "language_info": {
   "codemirror_mode": {
    "name": "ipython",
    "version": 3
   },
   "file_extension": ".py",
   "mimetype": "text/x-python",
   "name": "python",
   "nbconvert_exporter": "python",
   "pygments_lexer": "ipython3",
   "version": "3.7.3"
  }
 },
 "nbformat": 4,
 "nbformat_minor": 2
}
