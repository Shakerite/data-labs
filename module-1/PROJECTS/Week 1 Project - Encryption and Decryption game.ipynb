{
 "cells": [
  {
   "cell_type": "code",
   "execution_count": 1,
   "metadata": {},
   "outputs": [
    {
     "name": "stdout",
     "output_type": "stream",
     "text": [
      "Please enter a text Salut toi!!!\n",
      "muFEk kZj!!!\n",
      "entrer the encrypted textmuFEk kZj!!!\n",
      "Salut Toi!!!\n"
     ]
    }
   ],
   "source": [
    "import random\n",
    "import re\n",
    "letters_lower = []\n",
    "\n",
    "text = input('Please enter a text ')\n",
    "\n",
    "letters = ['A','B','C','D','E','F','G','H','I','J','K','L','M','N','O','P','Q','R','S','T','U','V','W','X','Y','Z']\n",
    "letters_lower = [l.lower() for l in letters]\n",
    "letters_values = random.sample(letters_lower, len(letters)) #random.shuffle\n",
    "\n",
    "\n",
    "letters_match = {}\n",
    "for i,letter  in enumerate(letters):\n",
    "    letters_match.update({letter:letters_values[i]})\n",
    "    \n",
    "text_encrypted=text.upper()\n",
    "for l in text_encrypted:\n",
    "    if re.search('[A-Za-z]',l):\n",
    "        text_encrypted = text_encrypted.replace(l,letters_match[l])\n",
    "    \n",
    "        \n",
    "text_random=''\n",
    "for l in text_encrypted :    \n",
    "    if random.randint(0,1): \n",
    "        text_random += l.upper()\n",
    "    else:\n",
    "        text_random +=l\n",
    "print(text_random)\n",
    "\n",
    "#w=random.randint(0,1)\n",
    "#w*x.upper()+(1-w)*.lower()\n",
    "\n",
    "text2= input('entrer the encrypted text')\n",
    "text_decrypted= text2.lower()\n",
    "\n",
    "for l in text_decrypted:\n",
    "   \n",
    "    for i, item in enumerate(letters_match.items()):\n",
    "        if l == item[1]:\n",
    "            text_decrypted = text_decrypted.replace(l,item[0]) \n",
    "print(text_decrypted.title())\n",
    "            "
   ]
  },
  {
   "cell_type": "code",
   "execution_count": null,
   "metadata": {},
   "outputs": [],
   "source": []
  },
  {
   "cell_type": "code",
   "execution_count": null,
   "metadata": {},
   "outputs": [],
   "source": []
  },
  {
   "cell_type": "code",
   "execution_count": null,
   "metadata": {},
   "outputs": [],
   "source": []
  },
  {
   "cell_type": "code",
   "execution_count": null,
   "metadata": {},
   "outputs": [],
   "source": []
  },
  {
   "cell_type": "code",
   "execution_count": null,
   "metadata": {},
   "outputs": [],
   "source": []
  },
  {
   "cell_type": "code",
   "execution_count": null,
   "metadata": {},
   "outputs": [],
   "source": []
  },
  {
   "cell_type": "code",
   "execution_count": null,
   "metadata": {},
   "outputs": [],
   "source": []
  },
  {
   "cell_type": "code",
   "execution_count": null,
   "metadata": {},
   "outputs": [],
   "source": []
  },
  {
   "cell_type": "code",
   "execution_count": null,
   "metadata": {},
   "outputs": [],
   "source": []
  }
 ],
 "metadata": {
  "kernelspec": {
   "display_name": "Python 3",
   "language": "python",
   "name": "python3"
  },
  "language_info": {
   "codemirror_mode": {
    "name": "ipython",
    "version": 3
   },
   "file_extension": ".py",
   "mimetype": "text/x-python",
   "name": "python",
   "nbconvert_exporter": "python",
   "pygments_lexer": "ipython3",
   "version": "3.7.3"
  }
 },
 "nbformat": 4,
 "nbformat_minor": 2
}
