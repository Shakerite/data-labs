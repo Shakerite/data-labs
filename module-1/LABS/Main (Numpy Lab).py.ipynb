{
 "cells": [
  {
   "cell_type": "code",
   "execution_count": 6,
   "metadata": {},
   "outputs": [
    {
     "name": "stdout",
     "output_type": "stream",
     "text": [
      "1.16.2\n"
     ]
    },
    {
     "data": {
      "text/plain": [
       "'\\n#18. Bonus question: instead of using numbers (i.e. 0, 25, 50, 75, and 100), how to use string values \\n(\"A\", \"B\", \"C\", \"D\", and \"E\") to label the array elements? You are expecting the result to be:\\narray([[[ \\'D\\',  \\'D\\',  \\'D\\',  \\'B\\',  \\'D\\'],\\n        [ \\'D\\',  \\'D\\',  \\'B\\',  \\'B\\',  \\'B\\'],\\n        [ \\'D\\',  \\'B\\',  \\'D\\',  \\'D\\',  \\'D\\']],\\n\\n       [[ \\'B\\',  \\'B\\',  \\'B\\',  \\'B\\',  \\'E\\'],\\n        [ \\'D\\',  \\'D\\',  \\'D\\',  \\'D\\',  \\'D\\'],\\n        [ \\'B\\',  \\'D\\',   \\'A\\',  \\'D\\', \\'D\\']]])\\nAgain, you don\\'t need Numpy in this question.\\n'"
      ]
     },
     "execution_count": 6,
     "metadata": {},
     "output_type": "execute_result"
    }
   ],
   "source": [
    "\n",
    "\n",
    "#15. Now we want to label the values in d. First create an empty array \"f\" with the same shape (i.e. 2x3x5) as d using `np.empty`.\n",
    "\n",
    "\n",
    "\n",
    "\n",
    "\"\"\"\n",
    "#16. Populate the values in f. For each value in d, if it's larger than d_min but smaller than d_mean, assign 25 to the corresponding value in f.\n",
    "If a value in d is larger than d_mean but smaller than d_max, assign 75 to the corresponding value in f.\n",
    "If a value equals to d_mean, assign 50 to the corresponding value in f.\n",
    "Assign 0 to the corresponding value(s) in f for d_min in d.\n",
    "Assign 100 to the corresponding value(s) in f for d_max in d.\n",
    "In the end, f should have only the following values: 0, 25, 50, 75, and 100.\n",
    "Note: you don't have to use Numpy in this question.\n",
    "\"\"\"\n",
    "\n",
    "\n",
    "\n",
    "\n",
    "\"\"\"\n",
    "#17. Print d and f. Do you have your expected f?\n",
    "For instance, if your d is:\n",
    "array([[[1.85836099, 1.67064465, 1.62576044, 1.40243961, 1.88454931],\n",
    "        [1.75354326, 1.69403643, 1.36729252, 1.61415071, 1.12104981],\n",
    "        [1.72201435, 1.1862918 , 1.87078449, 1.7726778 , 1.88180042]],\n",
    "\n",
    "       [[1.44747908, 1.31673383, 1.02000951, 1.52218947, 1.97066381],\n",
    "        [1.79129243, 1.74983003, 1.96028037, 1.85166831, 1.65450881],\n",
    "        [1.18068344, 1.9587381 , 1.00656599, 1.93402165, 1.73514584]]])\n",
    "\n",
    "Your f should be:\n",
    "array([[[ 75.,  75.,  75.,  25.,  75.],\n",
    "        [ 75.,  75.,  25.,  25.,  25.],\n",
    "        [ 75.,  25.,  75.,  75.,  75.]],\n",
    "\n",
    "       [[ 25.,  25.,  25.,  25., 100.],\n",
    "        [ 75.,  75.,  75.,  75.,  75.],\n",
    "        [ 25.,  75.,   0.,  75.,  75.]]])\n",
    "\"\"\"\n",
    "\n",
    "\n",
    "\"\"\"\n",
    "#18. Bonus question: instead of using numbers (i.e. 0, 25, 50, 75, and 100), how to use string values \n",
    "(\"A\", \"B\", \"C\", \"D\", and \"E\") to label the array elements? You are expecting the result to be:\n",
    "array([[[ 'D',  'D',  'D',  'B',  'D'],\n",
    "        [ 'D',  'D',  'B',  'B',  'B'],\n",
    "        [ 'D',  'B',  'D',  'D',  'D']],\n",
    "\n",
    "       [[ 'B',  'B',  'B',  'B',  'E'],\n",
    "        [ 'D',  'D',  'D',  'D',  'D'],\n",
    "        [ 'B',  'D',   'A',  'D', 'D']]])\n",
    "Again, you don't need Numpy in this question.\n",
    "\"\"\""
   ]
  },
  {
   "cell_type": "code",
   "execution_count": 4,
   "metadata": {},
   "outputs": [
    {
     "name": "stdout",
     "output_type": "stream",
     "text": [
      "1.16.2\n"
     ]
    }
   ],
   "source": [
    "#1. Import the NUMPY package under the name np.\n",
    "\n",
    "import numpy as np"
   ]
  },
  {
   "cell_type": "code",
   "execution_count": 7,
   "metadata": {},
   "outputs": [
    {
     "name": "stdout",
     "output_type": "stream",
     "text": [
      "1.16.2\n"
     ]
    }
   ],
   "source": [
    "#2. Print the NUMPY version and the configuration.\n",
    "\n",
    "print(np.version.version)"
   ]
  },
  {
   "cell_type": "code",
   "execution_count": 44,
   "metadata": {},
   "outputs": [
    {
     "name": "stdout",
     "output_type": "stream",
     "text": [
      "[[[0.84713217 0.82206656 0.95159612 0.10216909 0.06620945]\n",
      "  [0.06845051 0.80644511 0.48998281 0.9565273  0.32142801]\n",
      "  [0.12359965 0.31525542 0.33962461 0.74599499 0.24019075]]\n",
      "\n",
      " [[0.91794517 0.85108931 0.12667595 0.79667968 0.86751142]\n",
      "  [0.33607066 0.15351993 0.16524611 0.11857186 0.98496473]\n",
      "  [0.49518832 0.67840793 0.36397945 0.47374935 0.92770865]]]\n",
      "[[[0.13298014 0.3519745  0.37779748 0.96128967 0.86582095]\n",
      "  [0.01529678 0.23376344 0.1588315  0.35969672 0.43805312]\n",
      "  [0.15750628 0.56250995 0.67643109 0.85338589 0.50341071]]\n",
      "\n",
      " [[0.06786873 0.44153315 0.37128214 0.71948478 0.33086796]\n",
      "  [0.96401072 0.97803502 0.40043238 0.90292806 0.77339884]\n",
      "  [0.82640994 0.1277549  0.79041299 0.50931487 0.37125955]]]\n",
      "[[[ 0  1  2  3  4]\n",
      "  [ 5  6  7  8  9]\n",
      "  [10 11 12 13 14]]\n",
      "\n",
      " [[15 16 17 18 19]\n",
      "  [20 21 22 23 24]\n",
      "  [25 26 27 28 29]]]\n"
     ]
    }
   ],
   "source": [
    "#3. Generate a 2x3x5 3-dimensional array with random values. Assign the array to variable \"a\"\n",
    "# Challenge: there are at least three easy waysthat use numpy to generate random arrays. Ho\n",
    "#4. Print a.\n",
    "\n",
    "a = np.random.random((2,3,5))\n",
    "print(a)\n",
    "\n",
    "b=np.random.rand(2,3,5)\n",
    "print(b)\n",
    "\n",
    "c=np.arange(30).reshape(2,3,5)\n",
    "print(c)"
   ]
  },
  {
   "cell_type": "code",
   "execution_count": 45,
   "metadata": {},
   "outputs": [
    {
     "name": "stdout",
     "output_type": "stream",
     "text": [
      "[[[1 1 1]\n",
      "  [1 1 1]]\n",
      "\n",
      " [[1 1 1]\n",
      "  [1 1 1]]\n",
      "\n",
      " [[1 1 1]\n",
      "  [1 1 1]]\n",
      "\n",
      " [[1 1 1]\n",
      "  [1 1 1]]\n",
      "\n",
      " [[1 1 1]\n",
      "  [1 1 1]]]\n"
     ]
    }
   ],
   "source": [
    "#5. Create a 5x2x3 3-dimensional array with all values equaling 1.\n",
    "#Assign the array to variable \"b\"\n",
    "#6. Print b.\n",
    "\n",
    "b=np.tile(1, (5, 2,3))\n",
    "print(b)"
   ]
  },
  {
   "cell_type": "code",
   "execution_count": 46,
   "metadata": {},
   "outputs": [
    {
     "name": "stdout",
     "output_type": "stream",
     "text": [
      "True\n",
      "False\n"
     ]
    }
   ],
   "source": [
    "#7. Do a and b have the same size? How do you prove that in Python code?\n",
    "\n",
    "print(np.size(a) == np.size(b))\n",
    "print(np.shape(a) == np.shape(b))"
   ]
  },
  {
   "cell_type": "code",
   "execution_count": 47,
   "metadata": {},
   "outputs": [
    {
     "ename": "ValueError",
     "evalue": "operands could not be broadcast together with shapes (2,3,5) (5,2,3) ",
     "output_type": "error",
     "traceback": [
      "\u001b[0;31m---------------------------------------------------------------------------\u001b[0m",
      "\u001b[0;31mValueError\u001b[0m                                Traceback (most recent call last)",
      "\u001b[0;32m<ipython-input-47-da85d77df4e0>\u001b[0m in \u001b[0;36m<module>\u001b[0;34m\u001b[0m\n\u001b[1;32m      1\u001b[0m \u001b[0;31m#8. Are you able to add a and b? Why or why not?\u001b[0m\u001b[0;34m\u001b[0m\u001b[0;34m\u001b[0m\u001b[0;34m\u001b[0m\u001b[0m\n\u001b[1;32m      2\u001b[0m \u001b[0;34m\u001b[0m\u001b[0m\n\u001b[0;32m----> 3\u001b[0;31m \u001b[0mnp\u001b[0m\u001b[0;34m.\u001b[0m\u001b[0madd\u001b[0m\u001b[0;34m(\u001b[0m\u001b[0ma\u001b[0m\u001b[0;34m,\u001b[0m\u001b[0mb\u001b[0m\u001b[0;34m)\u001b[0m\u001b[0;34m\u001b[0m\u001b[0;34m\u001b[0m\u001b[0m\n\u001b[0m\u001b[1;32m      4\u001b[0m \u001b[0;34m\u001b[0m\u001b[0m\n\u001b[1;32m      5\u001b[0m \u001b[0;31m#they don´t have the same shape\u001b[0m\u001b[0;34m\u001b[0m\u001b[0;34m\u001b[0m\u001b[0;34m\u001b[0m\u001b[0m\n",
      "\u001b[0;31mValueError\u001b[0m: operands could not be broadcast together with shapes (2,3,5) (5,2,3) "
     ]
    }
   ],
   "source": [
    "#8. Are you able to add a and b? Why or why not?\n",
    "\n",
    "np.add(a,b)\n",
    "\n",
    "#they don´t have the same shape "
   ]
  },
  {
   "cell_type": "code",
   "execution_count": 48,
   "metadata": {},
   "outputs": [
    {
     "name": "stdout",
     "output_type": "stream",
     "text": [
      "[[[1 1 1 1 1]\n",
      "  [1 1 1 1 1]\n",
      "  [1 1 1 1 1]]\n",
      "\n",
      " [[1 1 1 1 1]\n",
      "  [1 1 1 1 1]\n",
      "  [1 1 1 1 1]]]\n"
     ]
    }
   ],
   "source": [
    "#9. Transpose b so that it has the same structure of a (i.e. become a 2x3x5 array). Assign the transposed array to varialbe \"c\".\n",
    "\n",
    "c=np.transpose(b).reshape(2,3,5)\n",
    "print(c)"
   ]
  },
  {
   "cell_type": "code",
   "execution_count": 49,
   "metadata": {},
   "outputs": [
    {
     "name": "stdout",
     "output_type": "stream",
     "text": [
      "[[[1.84713217 1.82206656 1.95159612 1.10216909 1.06620945]\n",
      "  [1.06845051 1.80644511 1.48998281 1.9565273  1.32142801]\n",
      "  [1.12359965 1.31525542 1.33962461 1.74599499 1.24019075]]\n",
      "\n",
      " [[1.91794517 1.85108931 1.12667595 1.79667968 1.86751142]\n",
      "  [1.33607066 1.15351993 1.16524611 1.11857186 1.98496473]\n",
      "  [1.49518832 1.67840793 1.36397945 1.47374935 1.92770865]]]\n"
     ]
    }
   ],
   "source": [
    "#10. Try to add a and c. Now it should work. Assign the sum to varialbe \"d\". But why does it work now?\n",
    "\n",
    "d=np.add(a,c)\n",
    "print(d)\n",
    "\n",
    "#because they have the same shape"
   ]
  },
  {
   "cell_type": "code",
   "execution_count": 50,
   "metadata": {},
   "outputs": [
    {
     "name": "stdout",
     "output_type": "stream",
     "text": [
      "[[[0.84713217 0.82206656 0.95159612 0.10216909 0.06620945]\n",
      "  [0.06845051 0.80644511 0.48998281 0.9565273  0.32142801]\n",
      "  [0.12359965 0.31525542 0.33962461 0.74599499 0.24019075]]\n",
      "\n",
      " [[0.91794517 0.85108931 0.12667595 0.79667968 0.86751142]\n",
      "  [0.33607066 0.15351993 0.16524611 0.11857186 0.98496473]\n",
      "  [0.49518832 0.67840793 0.36397945 0.47374935 0.92770865]]]\n",
      "[[[1.84713217 1.82206656 1.95159612 1.10216909 1.06620945]\n",
      "  [1.06845051 1.80644511 1.48998281 1.9565273  1.32142801]\n",
      "  [1.12359965 1.31525542 1.33962461 1.74599499 1.24019075]]\n",
      "\n",
      " [[1.91794517 1.85108931 1.12667595 1.79667968 1.86751142]\n",
      "  [1.33607066 1.15351993 1.16524611 1.11857186 1.98496473]\n",
      "  [1.49518832 1.67840793 1.36397945 1.47374935 1.92770865]]]\n"
     ]
    }
   ],
   "source": [
    "#11. Print a and d. Notice the difference and relation of the two array in terms of the values? Explain.\n",
    "print(a)\n",
    "\n",
    "print(d)\n",
    "\n",
    "#we hve add 1 to all the values\n"
   ]
  },
  {
   "cell_type": "code",
   "execution_count": 52,
   "metadata": {},
   "outputs": [
    {
     "name": "stdout",
     "output_type": "stream",
     "text": [
      "[[[0.84713217 0.82206656 0.95159612 0.10216909 0.06620945]\n",
      "  [0.06845051 0.80644511 0.48998281 0.9565273  0.32142801]\n",
      "  [0.12359965 0.31525542 0.33962461 0.74599499 0.24019075]]\n",
      "\n",
      " [[0.91794517 0.85108931 0.12667595 0.79667968 0.86751142]\n",
      "  [0.33607066 0.15351993 0.16524611 0.11857186 0.98496473]\n",
      "  [0.49518832 0.67840793 0.36397945 0.47374935 0.92770865]]]\n"
     ]
    }
   ],
   "source": [
    "#12. Multiply a and c. Assign the result to e.\n",
    "\n",
    "e = np.multiply(a,c)\n",
    "print(e)"
   ]
  },
  {
   "cell_type": "code",
   "execution_count": 55,
   "metadata": {},
   "outputs": [
    {
     "name": "stdout",
     "output_type": "stream",
     "text": [
      "[[[False False False False False]\n",
      "  [False False False False False]\n",
      "  [False False False False False]]\n",
      "\n",
      " [[False False False False False]\n",
      "  [False False False False False]\n",
      "  [False False False False False]]]\n"
     ]
    }
   ],
   "source": [
    "#13. Does e equal to a? Why or why not?\n",
    "\n",
    "print(a == e)\n",
    "\n",
    "#because multiplying matrix is not the same as multiplying every value per 1"
   ]
  },
  {
   "cell_type": "code",
   "execution_count": 58,
   "metadata": {},
   "outputs": [
    {
     "name": "stdout",
     "output_type": "stream",
     "text": [
      "1.984964733044734\n",
      "1.0662094542524385\n",
      "1.5151327029321446\n"
     ]
    }
   ],
   "source": [
    "#14. Identify the max, min, and mean values in d. Assign those values to variables \"d_max\", \"d_min\", and \"d_mean\"\n",
    "\n",
    "d_max = np.max(d)\n",
    "print(d_max)\n",
    "d_min =np.min(d)\n",
    "print(d_min)\n",
    "d_mean = np.mean(d)\n",
    "print(d_mean)"
   ]
  },
  {
   "cell_type": "code",
   "execution_count": 63,
   "metadata": {},
   "outputs": [
    {
     "name": "stdout",
     "output_type": "stream",
     "text": [
      "[[[0.84713217 0.82206656 0.95159612 0.10216909 0.06620945]\n",
      "  [0.06845051 0.80644511 0.48998281 0.9565273  0.32142801]\n",
      "  [0.12359965 0.31525542 0.33962461 0.74599499 0.24019075]]\n",
      "\n",
      " [[0.91794517 0.85108931 0.12667595 0.79667968 0.86751142]\n",
      "  [0.33607066 0.15351993 0.16524611 0.11857186 0.98496473]\n",
      "  [0.49518832 0.67840793 0.36397945 0.47374935 0.92770865]]]\n"
     ]
    }
   ],
   "source": [
    "#15. Now we want to label the values in d. First create an empty array \"f\" with the same shape (i.e. 2x3x5) as d using `np.empty`.\n",
    "\n",
    "f = np.empty([2,3,5]\n",
    "print(f)\n"
   ]
  },
  {
   "cell_type": "code",
   "execution_count": null,
   "metadata": {},
   "outputs": [],
   "source": [
    "#16. Populate the values in f. For each value in d, if it's larger than d_min but smaller than d_mean, assign 25 to the corresponding value in f.\n",
    "#If a value in d is larger than d_mean but smaller than d_max, assign 75 to the corresponding value in f.\n",
    "#If a value equals to d_mean, assign 50 to the corresponding value in f.\n",
    "#Assign 0 to the corresponding value(s) in f for d_min in d.\n",
    "#Assign 100 to the corresponding value(s) in f for d_max in d.\n",
    "#In the end, f should have only the following values: 0, 25, 50, 75, and 100.\n",
    "#Note: you don't have to use Numpy in this question."
   ]
  },
  {
   "cell_type": "code",
   "execution_count": 65,
   "metadata": {},
   "outputs": [
    {
     "name": "stdout",
     "output_type": "stream",
     "text": [
      "[[[ 75.  75.  75.  25.   0.]\n",
      "  [ 25.  75.  25.  75.  25.]\n",
      "  [ 25.  25.  25.  75.  25.]]\n",
      "\n",
      " [[ 75.  75.  25.  75.  75.]\n",
      "  [ 25.  25.  25.  25. 100.]\n",
      "  [ 25.  75.  25.  25.  75.]]]\n"
     ]
    }
   ],
   "source": [
    "for i in range(2):\n",
    "    for j in range(3):\n",
    "        for k in range(5):\n",
    "            if d_min<d[i][j][k]<d_mean:\n",
    "                f[i][j][k]=25\n",
    "            elif d_mean<d[i][j][k]<d_max:\n",
    "                f[i][j][k]=75\n",
    "            elif d[i][j][k]==d_mean:\n",
    "                f[i][j][k]=50\n",
    "            elif d[i][j][k]==d_min:\n",
    "                f[i][j][k]=0\n",
    "            elif d[i][j][k]==d_max:\n",
    "                f[i][j][k]=100\n",
    "        \n",
    "print(f)"
   ]
  },
  {
   "cell_type": "code",
   "execution_count": 66,
   "metadata": {},
   "outputs": [
    {
     "name": "stdout",
     "output_type": "stream",
     "text": [
      "[[[1.84713217 1.82206656 1.95159612 1.10216909 1.06620945]\n",
      "  [1.06845051 1.80644511 1.48998281 1.9565273  1.32142801]\n",
      "  [1.12359965 1.31525542 1.33962461 1.74599499 1.24019075]]\n",
      "\n",
      " [[1.91794517 1.85108931 1.12667595 1.79667968 1.86751142]\n",
      "  [1.33607066 1.15351993 1.16524611 1.11857186 1.98496473]\n",
      "  [1.49518832 1.67840793 1.36397945 1.47374935 1.92770865]]]\n"
     ]
    }
   ],
   "source": [
    "#17. Print d and f. Do you have your expected f?\n",
    "#For instance, if your d is:\n",
    "#array([[[1.85836099, 1.67064465, 1.62576044, 1.40243961, 1.88454931],\n",
    "       # [1.75354326, 1.69403643, 1.36729252, 1.61415071, 1.12104981],\n",
    "       # [1.72201435, 1.1862918 , 1.87078449, 1.7726778 , 1.88180042]],\n",
    "\n",
    "       #[[1.44747908, 1.31673383, 1.02000951, 1.52218947, 1.97066381],\n",
    "       # [1.79129243, 1.74983003, 1.96028037, 1.85166831, 1.65450881],\n",
    "       # [1.18068344, 1.9587381 , 1.00656599, 1.93402165, 1.73514584]]])\n",
    "\n",
    "#Your f should be:\n",
    "#array([[[ 75.,  75.,  75.,  25.,  75.],\n",
    "       # [ 75.,  75.,  25.,  25.,  25.],\n",
    "       # [ 75.,  25.,  75.,  75.,  75.]],\n",
    "\n",
    "      # [[ 25.,  25.,  25.,  25., 100.],\n",
    "      #  [ 75.,  75.,  75.,  75.,  75.],\n",
    "      #  [ 25.,  75.,   0.,  75.,  75.]]])\n",
    "    \n",
    "    \n",
    "print(d)"
   ]
  },
  {
   "cell_type": "code",
   "execution_count": 70,
   "metadata": {},
   "outputs": [
    {
     "name": "stdout",
     "output_type": "stream",
     "text": [
      "[[['' '' '' '' '']\n",
      "  ['' '' '' '' '']\n",
      "  ['' '' '' '' '']]\n",
      "\n",
      " [['' '' '' '' '']\n",
      "  ['' '' '' '' '']\n",
      "  ['' '' '' '' '']]]\n",
      "[[['D' 'D' 'D' 'B' 'A']\n",
      "  ['B' 'D' 'B' 'D' 'B']\n",
      "  ['B' 'B' 'B' 'D' 'B']]\n",
      "\n",
      " [['D' 'D' 'B' 'D' 'D']\n",
      "  ['B' 'B' 'B' 'B' 'E']\n",
      "  ['B' 'D' 'B' 'B' 'D']]]\n"
     ]
    }
   ],
   "source": [
    "#18. Bonus question: instead of using numbers (i.e. 0, 25, 50, 75, and 100), how to use string values \n",
    "#(\"A\", \"B\", \"C\", \"D\", and \"E\") to label the array elements? You are expecting the result to be:\n",
    "#array([[[ 'D',  'D',  'D',  'B',  'D'],\n",
    "       # [ 'D',  'D',  'B',  'B',  'B'],\n",
    "       # [ 'D',  'B',  'D',  'D',  'D']],\n",
    "\n",
    "      # [[ 'B',  'B',  'B',  'B',  'E'],\n",
    "      #  [ 'D',  'D',  'D',  'D',  'D'],\n",
    "      #  [ 'B',  'D',   'A',  'D', 'D']]])\n",
    "#Again, you don't need Numpy in this question.\n",
    "\n",
    "f = np.empty([2,3,5], str)\n",
    "print(f)\n",
    "\n",
    "for i in range(2):\n",
    "    for j in range(3):\n",
    "        for k in range(5):\n",
    "            if d_min<d[i][j][k]<d_mean:\n",
    "                f[i][j][k]=\"B\"\n",
    "            elif d_mean<d[i][j][k]<d_max:\n",
    "                f[i][j][k]=\"D\"\n",
    "            elif d[i][j][k]==d_mean:\n",
    "                f[i][j][k]=\"C\"\n",
    "            elif d[i][j][k]==d_min:\n",
    "                f[i][j][k]=\"A\"\n",
    "            elif d[i][j][k]==d_max:\n",
    "                f[i][j][k]=\"E\"\n",
    "\n",
    "print(f)\n"
   ]
  },
  {
   "cell_type": "code",
   "execution_count": null,
   "metadata": {},
   "outputs": [],
   "source": []
  }
 ],
 "metadata": {
  "kernelspec": {
   "display_name": "Python 3",
   "language": "python",
   "name": "python3"
  },
  "language_info": {
   "codemirror_mode": {
    "name": "ipython",
    "version": 3
   },
   "file_extension": ".py",
   "mimetype": "text/x-python",
   "name": "python",
   "nbconvert_exporter": "python",
   "pygments_lexer": "ipython3",
   "version": "3.7.3"
  }
 },
 "nbformat": 4,
 "nbformat_minor": 2
}
