{
 "cells": [
  {
   "cell_type": "code",
   "execution_count": 3,
   "metadata": {},
   "outputs": [],
   "source": [
    "import random"
   ]
  },
  {
   "cell_type": "markdown",
   "metadata": {},
   "source": [
    "In the cell below, create a list named sample_list_1 with 80 random values.\n",
    "Requirements:\n",
    "Each value is an integer falling between 0 and 100.\n",
    "Each value in the list is unique.\n",
    "Print sample_list_1 to review its values\n",
    "Hint: use random.sample (reference)."
   ]
  },
  {
   "cell_type": "code",
   "execution_count": 11,
   "metadata": {},
   "outputs": [
    {
     "name": "stdout",
     "output_type": "stream",
     "text": [
      "[11, 61, 49, 19, 15, 56, 69, 62, 36, 99, 46, 24, 87, 17, 90, 31, 83, 42, 26, 6, 86, 0, 51, 85, 76, 80, 16, 39, 3, 64, 52, 65, 2, 47, 4, 10, 9, 32, 34, 20, 43, 79, 74, 54, 44, 71, 50, 13, 14, 88, 73, 33, 25, 94, 84, 93, 29, 30, 60, 59, 68, 96, 8, 58, 23, 77, 66, 95, 18, 55, 82, 7, 78, 12, 70, 81, 98, 28, 97, 22]\n"
     ]
    }
   ],
   "source": [
    "sample_list_1 = random.sample(range(0,100),80)\n",
    "print(sample_list_1)"
   ]
  },
  {
   "cell_type": "code",
   "execution_count": 16,
   "metadata": {},
   "outputs": [
    {
     "name": "stdout",
     "output_type": "stream",
     "text": [
      "{0, 2, 3, 4, 6, 7, 8, 9, 10, 11, 12, 13, 14, 15, 16, 17, 18, 19, 20, 22, 23, 24, 25, 26, 28, 29, 30, 31, 32, 33, 34, 36, 39, 42, 43, 44, 46, 47, 49, 50, 51, 52, 54, 55, 56, 58, 59, 60, 61, 62, 64, 65, 66, 68, 69, 70, 71, 73, 74, 76, 77, 78, 79, 80, 81, 82, 83, 84, 85, 86, 87, 88, 90, 93, 94, 95, 96, 97, 98, 99}\n",
      "80\n"
     ]
    }
   ],
   "source": [
    "set1 = set(sample_list_1)\n",
    "print(set1)\n",
    "print(len(set1))"
   ]
  },
  {
   "cell_type": "markdown",
   "metadata": {},
   "source": [
    "Create another list named sample_list_2 with 80 random values.\n",
    "Requirements:\n",
    "Each value is an integer falling between 0 and 100.\n",
    "The values in the list don't have to be unique.\n",
    "Hint: Use a FOR loop."
   ]
  },
  {
   "cell_type": "code",
   "execution_count": 19,
   "metadata": {},
   "outputs": [
    {
     "name": "stdout",
     "output_type": "stream",
     "text": [
      "[83, 89, 88, 43, 38, 82, 7, 28, 13, 42, 30, 87, 75, 0, 68, 48, 0, 28, 32, 75, 27, 22, 20, 82, 90, 25, 41, 15, 54, 32, 33, 32, 22, 83, 0, 40, 64, 8, 13, 55, 89, 82, 50, 52, 35, 82, 63, 58, 14, 28, 45, 2, 85, 68, 45, 11, 96, 89, 56, 44, 9, 55, 94, 1, 42, 32, 56, 77, 2, 73, 58, 91, 47, 97, 90, 53, 56, 27, 83, 81]\n"
     ]
    }
   ],
   "source": [
    "sample_list2 = []\n",
    "for x in range(0,80):\n",
    "    sample_list2.append(random.randint(0,100))\n",
    "print(sample_list2)"
   ]
  },
  {
   "cell_type": "code",
   "execution_count": null,
   "metadata": {},
   "outputs": [],
   "source": []
  },
  {
   "cell_type": "code",
   "execution_count": 20,
   "metadata": {},
   "outputs": [
    {
     "name": "stdout",
     "output_type": "stream",
     "text": [
      "{0, 1, 2, 7, 8, 9, 11, 13, 14, 15, 20, 22, 25, 27, 28, 30, 32, 33, 35, 38, 40, 41, 42, 43, 44, 45, 47, 48, 50, 52, 53, 54, 55, 56, 58, 63, 64, 68, 73, 75, 77, 81, 82, 83, 85, 87, 88, 89, 90, 91, 94, 96, 97}\n",
      "53\n"
     ]
    }
   ],
   "source": [
    "set2 = set(sample_list2)\n",
    "print(set2)\n",
    "print(len(set2))"
   ]
  },
  {
   "cell_type": "markdown",
   "metadata": {},
   "source": [
    "dentify the elements present in set1 but not in set2. Assign the elements to a new set named set3.¶\n"
   ]
  },
  {
   "cell_type": "code",
   "execution_count": 26,
   "metadata": {},
   "outputs": [
    {
     "name": "stdout",
     "output_type": "stream",
     "text": [
      "{0, 2, 7, 8, 9, 11, 13, 14, 15, 20, 22, 25, 28, 30, 32, 33, 42, 43, 44, 47, 50, 52, 54, 55, 56, 58, 64, 68, 73, 77, 81, 82, 83, 85, 87, 88, 90, 94, 96, 97}\n",
      "{1, 35, 38, 40, 41, 91, 75, 45, 48, 53, 89, 27, 63}\n",
      "{3, 4, 6, 10, 12, 16, 17, 18, 19, 23, 24, 26, 29, 31, 34, 36, 39, 46, 49, 51, 59, 60, 61, 62, 65, 66, 69, 70, 71, 74, 76, 78, 79, 80, 84, 86, 93, 95, 98, 99}\n"
     ]
    }
   ],
   "source": [
    "inter = set1.intersection(set2)\n",
    "print(inter)\n",
    "set3 = set2 - inter\n",
    "print(set3)\n",
    "set3 = set1.difference(set2)\n",
    "print(set3)"
   ]
  },
  {
   "cell_type": "code",
   "execution_count": null,
   "metadata": {},
   "outputs": [],
   "source": []
  },
  {
   "cell_type": "code",
   "execution_count": null,
   "metadata": {},
   "outputs": [],
   "source": []
  }
 ],
 "metadata": {
  "kernelspec": {
   "display_name": "Python 3",
   "language": "python",
   "name": "python3"
  },
  "language_info": {
   "codemirror_mode": {
    "name": "ipython",
    "version": 3
   },
   "file_extension": ".py",
   "mimetype": "text/x-python",
   "name": "python",
   "nbconvert_exporter": "python",
   "pygments_lexer": "ipython3",
   "version": "3.7.3"
  }
 },
 "nbformat": 4,
 "nbformat_minor": 2
}
