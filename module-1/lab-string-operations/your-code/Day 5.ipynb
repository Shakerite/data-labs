{
 "cells": [
  {
   "cell_type": "code",
   "execution_count": null,
   "metadata": {},
   "outputs": [],
   "source": [
    "def perimeter(shape=3,dimensions=[5,12,30]):\n",
    "    max_shape=8\n",
    "    if shape>max_shape:\n",
    "        print(\"Error\")\n",
    "    elif len(dimensions)!=shape:\n",
    "        print(\"Error\")\n",
    "    else:\n",
    "        return(sum(dimensions))\n",
    "    \n",
    "perimeter(3,[5,12,30])"
   ]
  },
  {
   "cell_type": "code",
   "execution_count": null,
   "metadata": {},
   "outputs": [],
   "source": [
    "print(\"Hello\")"
   ]
  },
  {
   "cell_type": "code",
   "execution_count": null,
   "metadata": {},
   "outputs": [],
   "source": []
  }
 ],
 "metadata": {
  "kernelspec": {
   "display_name": "Python 3",
   "language": "python",
   "name": "python3"
  }
 },
 "nbformat": 4,
 "nbformat_minor": 2
}
