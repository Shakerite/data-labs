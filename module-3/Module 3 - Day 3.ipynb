{
 "cells": [
  {
   "cell_type": "code",
   "execution_count": 3,
   "metadata": {},
   "outputs": [],
   "source": [
    "from sklearn import datasets\n",
    "import pandas as pd\n",
    "from sklearn import linear_model"
   ]
  },
  {
   "cell_type": "code",
   "execution_count": 6,
   "metadata": {},
   "outputs": [
    {
     "data": {
      "text/plain": [
       "'.. _diabetes_dataset:\\n\\nDiabetes dataset\\n----------------\\n\\nTen baseline variables, age, sex, body mass index, average blood\\npressure, and six blood serum measurements were obtained for each of n =\\n442 diabetes patients, as well as the response of interest, a\\nquantitative measure of disease progression one year after baseline.\\n\\n**Data Set Characteristics:**\\n\\n  :Number of Instances: 442\\n\\n  :Number of Attributes: First 10 columns are numeric predictive values\\n\\n  :Target: Column 11 is a quantitative measure of disease progression one year after baseline\\n\\n  :Attribute Information:\\n      - Age\\n      - Sex\\n      - Body mass index\\n      - Average blood pressure\\n      - S1\\n      - S2\\n      - S3\\n      - S4\\n      - S5\\n      - S6\\n\\nNote: Each of these 10 feature variables have been mean centered and scaled by the standard deviation times `n_samples` (i.e. the sum of squares of each column totals 1).\\n\\nSource URL:\\nhttp://www4.stat.ncsu.edu/~boos/var.select/diabetes.html\\n\\nFor more information see:\\nBradley Efron, Trevor Hastie, Iain Johnstone and Robert Tibshirani (2004) \"Least Angle Regression,\" Annals of Statistics (with discussion), 407-499.\\n(http://web.stanford.edu/~hastie/Papers/LARS/LeastAngle_2002.pdf)'"
      ]
     },
     "execution_count": 6,
     "metadata": {},
     "output_type": "execute_result"
    }
   ],
   "source": [
    "diabetes=datasets.load_diabetes()\n",
    "pd.DataFrame(diabetes.data).head()#column of Xs\n",
    "diabetes.DESCR"
   ]
  },
  {
   "cell_type": "code",
   "execution_count": 5,
   "metadata": {},
   "outputs": [
    {
     "data": {
      "text/html": [
       "<div>\n",
       "<style scoped>\n",
       "    .dataframe tbody tr th:only-of-type {\n",
       "        vertical-align: middle;\n",
       "    }\n",
       "\n",
       "    .dataframe tbody tr th {\n",
       "        vertical-align: top;\n",
       "    }\n",
       "\n",
       "    .dataframe thead th {\n",
       "        text-align: right;\n",
       "    }\n",
       "</style>\n",
       "<table border=\"1\" class=\"dataframe\">\n",
       "  <thead>\n",
       "    <tr style=\"text-align: right;\">\n",
       "      <th></th>\n",
       "      <th>0</th>\n",
       "    </tr>\n",
       "  </thead>\n",
       "  <tbody>\n",
       "    <tr>\n",
       "      <th>0</th>\n",
       "      <td>151.0</td>\n",
       "    </tr>\n",
       "    <tr>\n",
       "      <th>1</th>\n",
       "      <td>75.0</td>\n",
       "    </tr>\n",
       "    <tr>\n",
       "      <th>2</th>\n",
       "      <td>141.0</td>\n",
       "    </tr>\n",
       "    <tr>\n",
       "      <th>3</th>\n",
       "      <td>206.0</td>\n",
       "    </tr>\n",
       "    <tr>\n",
       "      <th>4</th>\n",
       "      <td>135.0</td>\n",
       "    </tr>\n",
       "  </tbody>\n",
       "</table>\n",
       "</div>"
      ],
      "text/plain": [
       "       0\n",
       "0  151.0\n",
       "1   75.0\n",
       "2  141.0\n",
       "3  206.0\n",
       "4  135.0"
      ]
     },
     "execution_count": 5,
     "metadata": {},
     "output_type": "execute_result"
    }
   ],
   "source": [
    "pd.DataFrame(diabetes.target).head()#column of what you can predict/classify"
   ]
  },
  {
   "cell_type": "code",
   "execution_count": 14,
   "metadata": {},
   "outputs": [
    {
     "data": {
      "text/plain": [
       "(100, 100)"
      ]
     },
     "execution_count": 14,
     "metadata": {},
     "output_type": "execute_result"
    }
   ],
   "source": [
    "\"\"\"featureVectors, targets = datasets.make_moons()\n",
    "featureVectors, targets = datasets.make_classification()\"\"\"\n",
    "featureVectors, targets = datasets.make_regression()\n",
    "\n",
    "targets.shape\n",
    "featureVectors.shape"
   ]
  },
  {
   "cell_type": "code",
   "execution_count": 15,
   "metadata": {},
   "outputs": [
    {
     "data": {
      "text/plain": [
       "-0.1888760861453065"
      ]
     },
     "execution_count": 15,
     "metadata": {},
     "output_type": "execute_result"
    }
   ],
   "source": [
    "model = linear_model.LinearRegression()\n",
    "#create the model\n",
    "model.fit(featureVectors, targets)\n",
    "#now we print the model coefficients\n",
    "model.intercept_\n",
    "#constante"
   ]
  },
  {
   "cell_type": "code",
   "execution_count": 16,
   "metadata": {},
   "outputs": [
    {
     "data": {
      "text/plain": [
       "array([-5.55477697e-02,  3.59847457e-01,  1.51269665e-01, -2.20100088e-01,\n",
       "        9.94511635e+01,  1.11259725e-01, -3.80734177e-02, -4.22238214e-02,\n",
       "       -2.56075058e-01,  9.73930146e-02, -2.64565096e-02,  2.35737319e-02,\n",
       "        6.61439484e+01,  7.60012519e-02,  2.51507073e-01,  1.53764444e-01,\n",
       "        2.19889790e-01,  8.98230301e+01,  2.40018193e-01,  3.37693224e-02,\n",
       "       -4.39020546e-02,  2.31513055e-01,  3.36858600e+01,  1.35699431e-01,\n",
       "       -1.79630789e-01, -4.56394874e-05, -2.73309193e-02,  1.00058484e-01,\n",
       "       -6.57713138e-02, -5.55704790e-02, -3.15468495e-01, -1.14859774e-03,\n",
       "       -2.87592181e-01, -9.41014460e-03, -1.20608172e-01, -1.64930430e-01,\n",
       "       -2.81433514e-02, -2.86216861e-05, -1.17370953e-01,  9.98774375e+01,\n",
       "        3.71884509e-02, -6.86215440e-03, -4.15875288e-01,  2.97414756e-01,\n",
       "       -2.79292456e-01,  5.04352732e-03,  7.68497565e-02, -2.78011855e-02,\n",
       "        6.05366376e+01,  7.89971333e-02,  5.23743251e-02,  6.31603144e+01,\n",
       "        7.30332577e+01, -1.23834807e-01, -1.21499374e-01,  1.66638837e-01,\n",
       "       -1.83527578e-01,  6.08666585e-03, -1.03351226e-01,  1.77051195e-01,\n",
       "        7.24948116e-02,  1.91425364e-02,  9.27497247e-02, -4.31751192e-01,\n",
       "        1.14266131e-01,  1.34872280e-01, -1.44652419e-01,  4.99913809e-02,\n",
       "        3.62233291e-02, -8.77535073e-02,  2.71824909e-01,  7.52544983e-03,\n",
       "        2.32448440e-01, -2.93946745e-02, -2.95603926e-01, -9.72028201e-02,\n",
       "       -2.45827567e-01,  1.20223173e-01, -1.70694839e-01, -1.30639620e-01,\n",
       "       -7.66777649e-02,  5.99307123e-02,  1.98347711e-01,  1.45403290e-01,\n",
       "        1.54209951e-01,  8.20482896e+01, -4.88646246e-02, -9.44916146e-02,\n",
       "        1.24886030e-01, -1.71737882e-01, -1.77273577e-01,  4.71411999e-01,\n",
       "       -2.63611051e-01, -5.61061807e-03, -1.58794524e-01, -1.97833468e-02,\n",
       "        2.66183826e-01, -6.55553954e-02,  7.07460683e+01, -2.18343035e-01])"
      ]
     },
     "execution_count": 16,
     "metadata": {},
     "output_type": "execute_result"
    }
   ],
   "source": [
    "model.coef_#print every Beta"
   ]
  },
  {
   "cell_type": "code",
   "execution_count": 17,
   "metadata": {},
   "outputs": [
    {
     "data": {
      "text/plain": [
       "1.0"
      ]
     },
     "execution_count": 17,
     "metadata": {},
     "output_type": "execute_result"
    }
   ],
   "source": [
    "model.score(featureVectors, targets)#Rsquared"
   ]
  },
  {
   "cell_type": "code",
   "execution_count": 18,
   "metadata": {},
   "outputs": [
    {
     "name": "stdout",
     "output_type": "stream",
     "text": [
      "Collecting yellowbrick\n",
      "\u001b[?25l  Downloading https://files.pythonhosted.org/packages/d8/e8/125204ea84a7424a3237556e8dfaec9fee21f2e3d5b3695eb9ce355bf668/yellowbrick-0.9.1-py2.py3-none-any.whl (282kB)\n",
      "\u001b[K    100% |████████████████████████████████| 286kB 5.2MB/s ta 0:00:01\n",
      "\u001b[?25hRequirement already satisfied: scipy>=1.0.0 in /anaconda3/lib/python3.7/site-packages (from yellowbrick) (1.2.1)\n",
      "Requirement already satisfied: cycler>=0.10.0 in /anaconda3/lib/python3.7/site-packages (from yellowbrick) (0.10.0)\n",
      "Requirement already satisfied: matplotlib!=3.0.0,>=1.5.1 in /anaconda3/lib/python3.7/site-packages (from yellowbrick) (3.0.3)\n",
      "Requirement already satisfied: scikit-learn>=0.20 in /anaconda3/lib/python3.7/site-packages (from yellowbrick) (0.20.3)\n",
      "Requirement already satisfied: numpy>=1.13.0 in /anaconda3/lib/python3.7/site-packages (from yellowbrick) (1.16.2)\n",
      "Requirement already satisfied: six in /anaconda3/lib/python3.7/site-packages (from cycler>=0.10.0->yellowbrick) (1.12.0)\n",
      "Requirement already satisfied: kiwisolver>=1.0.1 in /anaconda3/lib/python3.7/site-packages (from matplotlib!=3.0.0,>=1.5.1->yellowbrick) (1.0.1)\n",
      "Requirement already satisfied: pyparsing!=2.0.4,!=2.1.2,!=2.1.6,>=2.0.1 in /anaconda3/lib/python3.7/site-packages (from matplotlib!=3.0.0,>=1.5.1->yellowbrick) (2.3.1)\n",
      "Requirement already satisfied: python-dateutil>=2.1 in /anaconda3/lib/python3.7/site-packages (from matplotlib!=3.0.0,>=1.5.1->yellowbrick) (2.8.0)\n",
      "Requirement already satisfied: setuptools in /anaconda3/lib/python3.7/site-packages (from kiwisolver>=1.0.1->matplotlib!=3.0.0,>=1.5.1->yellowbrick) (40.8.0)\n",
      "Installing collected packages: yellowbrick\n",
      "Successfully installed yellowbrick-0.9.1\n"
     ]
    }
   ],
   "source": [
    "!pip install yellowbrick\n",
    "from yellowbrick.regressor import ResidualsPlot"
   ]
  },
  {
   "cell_type": "code",
   "execution_count": 20,
   "metadata": {},
   "outputs": [
    {
     "data": {
      "text/plain": [
       "1.0"
      ]
     },
     "execution_count": 20,
     "metadata": {},
     "output_type": "execute_result"
    },
    {
     "data": {
      "image/png": "[encoded data removed]",
      "text/plain": [
       "<Figure size 432x288 with 1 Axes>"
      ]
     },
     "metadata": {
      "needs_background": "light"
     },
     "output_type": "display_data"
    }
   ],
   "source": [
    "visualizer = ResidualsPlot(model, hist=False)\n",
    "visualizer.fit(featureVectors, targets)\n",
    "visualizer.score(featureVectors,targets)\n",
    "#plot of residuals\n",
    "# y axis = value of error\n",
    "# don´t care about x axis"
   ]
  },
  {
   "cell_type": "code",
   "execution_count": null,
   "metadata": {},
   "outputs": [],
   "source": []
  }
 ],
 "metadata": {
  "kernelspec": {
   "display_name": "Python 3",
   "language": "python",
   "name": "python3"
  },
  "language_info": {
   "codemirror_mode": {
    "name": "ipython",
    "version": 3
   },
   "file_extension": ".py",
   "mimetype": "text/x-python",
   "name": "python",
   "nbconvert_exporter": "python",
   "pygments_lexer": "ipython3",
   "version": "3.7.3"
  }
 },
 "nbformat": 4,
 "nbformat_minor": 2
}
