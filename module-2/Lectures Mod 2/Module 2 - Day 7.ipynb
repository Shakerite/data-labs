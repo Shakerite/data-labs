{
 "cells": [
  {
   "cell_type": "code",
   "execution_count": 8,
   "metadata": {},
   "outputs": [
    {
     "name": "stdout",
     "output_type": "stream",
     "text": [
      "0.47 Fold\n"
     ]
    }
   ],
   "source": [
    "def event_proba(desired_event,possible_event):\n",
    "    proba=desired_event/possible_event\n",
    "    return round(proba,2)\n",
    "\n",
    "\n",
    "cards=52\n",
    "hands=2\n",
    "opponent_hand=2\n",
    "\n",
    "turn_card=1\n",
    "cards-cards-hands-opponent_hand\n",
    "\n",
    "diamonds=13\n",
    "bad_diamonds=2\n",
    "diamonds_drawn=4\n",
    "outs=diamonds-diamonds_drawn-bad_diamonds\n",
    "\n",
    "win_proba=event_proba(outs,cards)\n",
    "\n",
    "pot=160\n",
    "call_amount=100\n",
    "\n",
    "ev=(pot+call_amount*2)*win_proba/100\n",
    "    \n",
    "if ev>=call_amount:\n",
    "    print(round(ev,2),'Call')\n",
    "else:\n",
    "    print(round(ev,2),'Fold')"
   ]
  },
  {
   "cell_type": "code",
   "execution_count": 10,
   "metadata": {},
   "outputs": [],
   "source": [
    "import pandas as pd\n",
    "import numpy as np\n",
    "import scipy.stats as st\n",
    "import scipy.special"
   ]
  },
  {
   "cell_type": "code",
   "execution_count": null,
   "metadata": {},
   "outputs": [],
   "source": []
  },
  {
   "cell_type": "code",
   "execution_count": null,
   "metadata": {},
   "outputs": [],
   "source": []
  }
 ],
 "metadata": {
  "kernelspec": {
   "display_name": "Python 3",
   "language": "python",
   "name": "python3"
  },
  "language_info": {
   "codemirror_mode": {
    "name": "ipython",
    "version": 3
   },
   "file_extension": ".py",
   "mimetype": "text/x-python",
   "name": "python",
   "nbconvert_exporter": "python",
   "pygments_lexer": "ipython3",
   "version": "3.7.3"
  }
 },
 "nbformat": 4,
 "nbformat_minor": 2
}
