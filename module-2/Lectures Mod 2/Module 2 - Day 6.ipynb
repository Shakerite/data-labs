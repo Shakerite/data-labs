{
 "cells": [
  {
   "cell_type": "code",
   "execution_count": 2,
   "metadata": {},
   "outputs": [
    {
     "data": {
      "text/plain": [
       "498"
      ]
     },
     "execution_count": 2,
     "metadata": {},
     "output_type": "execute_result"
    }
   ],
   "source": [
    "import random\n",
    "\n",
    "def coin():\n",
    "    heads=0\n",
    "    for i in range(1000):\n",
    "        if random.random()<=0.5:\n",
    "            heads+=1\n",
    "    return heads\n",
    "coin()"
   ]
  },
  {
   "cell_type": "code",
   "execution_count": 5,
   "metadata": {},
   "outputs": [
    {
     "data": {
      "text/plain": [
       "508.5"
      ]
     },
     "execution_count": 5,
     "metadata": {},
     "output_type": "execute_result"
    }
   ],
   "source": [
    "def sim(n):\n",
    "    lst=[]\n",
    "    for i in range(n):\n",
    "        lst.append(coin())\n",
    "    return sum(lst)/n\n",
    "\n",
    "sim(2)"
   ]
  },
  {
   "cell_type": "code",
   "execution_count": null,
   "metadata": {},
   "outputs": [],
   "source": []
  },
  {
   "cell_type": "code",
   "execution_count": null,
   "metadata": {},
   "outputs": [],
   "source": []
  },
  {
   "cell_type": "code",
   "execution_count": 8,
   "metadata": {},
   "outputs": [
    {
     "name": "stdout",
     "output_type": "stream",
     "text": [
      "7.69%\n"
     ]
    }
   ],
   "source": [
    "#probability of 1 ace\n",
    "cards = 52\n",
    "aces=4\n",
    "ace_proba=aces/cards*100\n",
    "\n",
    "print(str(round(ace_proba,2))+'%')"
   ]
  },
  {
   "cell_type": "code",
   "execution_count": 17,
   "metadata": {},
   "outputs": [
    {
     "name": "stdout",
     "output_type": "stream",
     "text": [
      "3.693785e-06%\n"
     ]
    }
   ],
   "source": [
    "#probability of 4 ace\n",
    "cards = 52\n",
    "aces=4\n",
    "ace_proba=1\n",
    "while aces>0:\n",
    "    ace_proba=ace_proba*aces/cards\n",
    "    aces=aces-1\n",
    "    cards=cards-1\n",
    "\n",
    "print(str(round(ace_proba,12))+'%')"
   ]
  },
  {
   "cell_type": "code",
   "execution_count": 20,
   "metadata": {},
   "outputs": [
    {
     "data": {
      "text/plain": [
       "1.92"
      ]
     },
     "execution_count": 20,
     "metadata": {},
     "output_type": "execute_result"
    }
   ],
   "source": [
    "def event_proba(desired_event,possible_event):\n",
    "    proba=desired_event/possible_event*100\n",
    "    return round(proba,2)\n",
    "\n",
    "hearts=13\n",
    "event_proba(hearts,52)\n",
    "\n",
    "face=12\n",
    "event_proba(face,52)\n",
    "\n",
    "queen_of_spades=1\n",
    "event_proba(queen_of_spades,52)"
   ]
  },
  {
   "cell_type": "code",
   "execution_count": 22,
   "metadata": {},
   "outputs": [
    {
     "name": "stdout",
     "output_type": "stream",
     "text": [
      "1.2265726285646054e+132 2 6.132863142823027e+131\n"
     ]
    }
   ],
   "source": [
    "import math\n",
    "\n",
    "n=52\n",
    "k=2\n",
    "\n",
    "Permutation=math.factorial(n)/math.factorial(k)*math.factorial(n-k)\n",
    "Replacement=math.factorial(k)\n",
    "Combination=Permutation/Replacement\n",
    "print(Permutation,Replacement,Combination)"
   ]
  },
  {
   "cell_type": "code",
   "execution_count": 24,
   "metadata": {},
   "outputs": [
    {
     "name": "stdout",
     "output_type": "stream",
     "text": [
      "7.84 5.88\n"
     ]
    }
   ],
   "source": [
    "cards=52\n",
    "cards_drawn=1\n",
    "cards=cards-cards_drawn\n",
    "\n",
    "aces=4\n",
    "ace_proba=event_proba(aces,cards)\n",
    "\n",
    "ace_drawn=1\n",
    "aces=aces-ace_drawn\n",
    "ace_proba1=event_proba(aces,cards)\n",
    "print(ace_proba,ace_proba1)"
   ]
  },
  {
   "cell_type": "code",
   "execution_count": 25,
   "metadata": {},
   "outputs": [
    {
     "name": "stdout",
     "output_type": "stream",
     "text": [
      "19.57\n"
     ]
    }
   ],
   "source": [
    "#sample space\n",
    "cards=52\n",
    "hands=2\n",
    "turn_table=4\n",
    "cards=cards-(hands+turn_table)\n",
    "\n",
    "diamonds=13\n",
    "diamonds_open=4\n",
    "\n",
    "outs=diamonds-diamonds_open\n",
    "river_flush_proba=event_proba(outs,cards)\n",
    "print(river_flush_proba)"
   ]
  },
  {
   "cell_type": "code",
   "execution_count": 27,
   "metadata": {},
   "outputs": [
    {
     "name": "stdout",
     "output_type": "stream",
     "text": [
      "17.39\n"
     ]
    }
   ],
   "source": [
    "king=4\n",
    "eight=4\n",
    "outs=eight+king\n",
    "river_straight_proba=event_proba(outs, cards)\n",
    "print(river_straight_proba)"
   ]
  },
  {
   "cell_type": "code",
   "execution_count": 30,
   "metadata": {},
   "outputs": [
    {
     "data": {
      "text/plain": [
       "23.07"
      ]
     },
     "execution_count": 30,
     "metadata": {},
     "output_type": "execute_result"
    }
   ],
   "source": [
    "cards=52\n",
    "hearts=13\n",
    "spades=13\n",
    "hearts_or_spades=event_proba(hearts,cards)+event_proba(spades,cards)\n",
    "hearts_or_spades\n",
    "\n",
    "aces=4\n",
    "kings=4\n",
    "queens=4\n",
    "ace_king_queen=event_proba(aces,cards)+event_proba(kings,cards)+event_proba(queens,cards)\n",
    "ace_king_queen\n"
   ]
  },
  {
   "cell_type": "code",
   "execution_count": 32,
   "metadata": {},
   "outputs": [
    {
     "name": "stdout",
     "output_type": "stream",
     "text": [
      "61.54\n"
     ]
    }
   ],
   "source": [
    "#Drawing a face card or red card\n",
    "\n",
    "cards=52\n",
    "red_cards=26\n",
    "face_cards=12\n",
    "red_face=6\n",
    "\n",
    "red_or_face=event_proba(red_cards,cards)+event_proba(face_cards,cards)-event_proba(red_face,cards)\n",
    "print(red_or_face)"
   ]
  },
  {
   "cell_type": "code",
   "execution_count": 36,
   "metadata": {},
   "outputs": [],
   "source": [
    "import numpy as np\n",
    "import pandas as pd\n",
    "import scipy.stats as st\n",
    "\n",
    "s=np.random.normal(1,2,10000)\n",
    "#mean,st dev, number of elements\n",
    "\n"
   ]
  },
  {
   "cell_type": "code",
   "execution_count": 40,
   "metadata": {},
   "outputs": [
    {
     "data": {
      "text/html": [
       "<div>\n",
       "<style scoped>\n",
       "    .dataframe tbody tr th:only-of-type {\n",
       "        vertical-align: middle;\n",
       "    }\n",
       "\n",
       "    .dataframe tbody tr th {\n",
       "        vertical-align: top;\n",
       "    }\n",
       "\n",
       "    .dataframe thead th {\n",
       "        text-align: right;\n",
       "    }\n",
       "</style>\n",
       "<table border=\"1\" class=\"dataframe\">\n",
       "  <thead>\n",
       "    <tr style=\"text-align: right;\">\n",
       "      <th></th>\n",
       "      <th>s</th>\n",
       "      <th>p</th>\n",
       "    </tr>\n",
       "  </thead>\n",
       "  <tbody>\n",
       "    <tr>\n",
       "      <th>0</th>\n",
       "      <td>0.128277</td>\n",
       "      <td>1.581835</td>\n",
       "    </tr>\n",
       "    <tr>\n",
       "      <th>1</th>\n",
       "      <td>3.396032</td>\n",
       "      <td>3.555435</td>\n",
       "    </tr>\n",
       "    <tr>\n",
       "      <th>2</th>\n",
       "      <td>1.067246</td>\n",
       "      <td>5.087176</td>\n",
       "    </tr>\n",
       "    <tr>\n",
       "      <th>3</th>\n",
       "      <td>2.205567</td>\n",
       "      <td>0.255422</td>\n",
       "    </tr>\n",
       "    <tr>\n",
       "      <th>4</th>\n",
       "      <td>-0.774884</td>\n",
       "      <td>4.167868</td>\n",
       "    </tr>\n",
       "  </tbody>\n",
       "</table>\n",
       "</div>"
      ],
      "text/plain": [
       "          s         p\n",
       "0  0.128277  1.581835\n",
       "1  3.396032  3.555435\n",
       "2  1.067246  5.087176\n",
       "3  2.205567  0.255422\n",
       "4 -0.774884  4.167868"
      ]
     },
     "execution_count": 40,
     "metadata": {},
     "output_type": "execute_result"
    }
   ],
   "source": [
    "p=np.random.normal(3,2,10000)\n",
    "p\n",
    "df=pd.DataFrame([s,p]).T\n",
    "df.columns=['s','p']\n",
    "df.head()"
   ]
  },
  {
   "cell_type": "code",
   "execution_count": 42,
   "metadata": {},
   "outputs": [
    {
     "data": {
      "text/plain": [
       "array([[<matplotlib.axes._subplots.AxesSubplot object at 0x1a23f01d30>,\n",
       "        <matplotlib.axes._subplots.AxesSubplot object at 0x1a24426ef0>]],\n",
       "      dtype=object)"
      ]
     },
     "execution_count": 42,
     "metadata": {},
     "output_type": "execute_result"
    },
    {
     "data": {
      "image/png": "[encoded data removed]",
      "text/plain": [
       "<Figure size 432x288 with 2 Axes>"
      ]
     },
     "metadata": {
      "needs_background": "light"
     },
     "output_type": "display_data"
    }
   ],
   "source": [
    "df.hist()"
   ]
  },
  {
   "cell_type": "code",
   "execution_count": 43,
   "metadata": {},
   "outputs": [
    {
     "data": {
      "text/plain": [
       "array([[<matplotlib.axes._subplots.AxesSubplot object at 0x1a243fbda0>,\n",
       "        <matplotlib.axes._subplots.AxesSubplot object at 0x1a245942e8>]],\n",
       "      dtype=object)"
      ]
     },
     "execution_count": 43,
     "metadata": {},
     "output_type": "execute_result"
    },
    {
     "data": {
      "image/png": "[encoded data removed]",
      "text/plain": [
       "<Figure size 432x288 with 2 Axes>"
      ]
     },
     "metadata": {
      "needs_background": "light"
     },
     "output_type": "display_data"
    }
   ],
   "source": [
    "df.hist(bins=50)"
   ]
  },
  {
   "cell_type": "code",
   "execution_count": 44,
   "metadata": {},
   "outputs": [
    {
     "name": "stdout",
     "output_type": "stream",
     "text": [
      "1.0292076565274464 2.001833191170824\n",
      "3.0074441136331083 2.003535408092964\n"
     ]
    }
   ],
   "source": [
    "s_avg=df.s.mean()\n",
    "p_avg=df.p.mean()\n",
    "s_std=df.s.std()\n",
    "p_std=df.p.std()\n",
    "\n",
    "print(s_avg, s_std)\n",
    "print(p_avg, p_std)"
   ]
  },
  {
   "cell_type": "code",
   "execution_count": 47,
   "metadata": {},
   "outputs": [
    {
     "data": {
      "text/plain": [
       "0.8382700543638602"
      ]
     },
     "execution_count": 47,
     "metadata": {},
     "output_type": "execute_result"
    }
   ],
   "source": [
    "z=(p_avg-s_avg)/p_std\n",
    "st.norm.cdf(z)\n",
    "#"
   ]
  },
  {
   "cell_type": "code",
   "execution_count": 48,
   "metadata": {},
   "outputs": [
    {
     "data": {
      "text/plain": [
       "0.16172994563613985"
      ]
     },
     "execution_count": 48,
     "metadata": {},
     "output_type": "execute_result"
    }
   ],
   "source": [
    "1-st.norm.cdf(z)"
   ]
  },
  {
   "cell_type": "code",
   "execution_count": 49,
   "metadata": {},
   "outputs": [
    {
     "name": "stdout",
     "output_type": "stream",
     "text": [
      "0.47 Fold\n"
     ]
    }
   ],
   "source": [
    "def event_proba(desired_event,possible_event):\n",
    "    proba=desired_event/possible_event\n",
    "    return round(proba,2)\n",
    "\n",
    "\n",
    "cards=52\n",
    "hands=2\n",
    "opponent_hand=2\n",
    "\n",
    "turn_card=1\n",
    "cards-cards-hands-opponent_hand\n",
    "\n",
    "diamonds=13\n",
    "bad_diamonds=2\n",
    "diamonds_drawn=4\n",
    "outs=diamonds-diamonds_drawn-bad_diamonds\n",
    "\n",
    "win_proba=event_proba(outs,cards)\n",
    "\n",
    "pot=160\n",
    "call_amount=100\n",
    "\n",
    "ev=(pot+call_amount*2)*win_proba/100\n",
    "    \n",
    "if ev>=call_amount:\n",
    "    print(round(ev,2),'Call')\n",
    "else:\n",
    "    print(round(ev,2),'Fold')"
   ]
  },
  {
   "cell_type": "code",
   "execution_count": null,
   "metadata": {},
   "outputs": [],
   "source": []
  }
 ],
 "metadata": {
  "kernelspec": {
   "display_name": "Python 3",
   "language": "python",
   "name": "python3"
  },
  "language_info": {
   "codemirror_mode": {
    "name": "ipython",
    "version": 3
   },
   "file_extension": ".py",
   "mimetype": "text/x-python",
   "name": "python",
   "nbconvert_exporter": "python",
   "pygments_lexer": "ipython3",
   "version": "3.7.3"
  }
 },
 "nbformat": 4,
 "nbformat_minor": 2
}
