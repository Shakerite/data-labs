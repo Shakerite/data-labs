{
 "cells": [
  {
   "cell_type": "markdown",
   "metadata": {},
   "source": [
    "# Baseball Statistics"
   ]
  },
  {
   "cell_type": "markdown",
   "metadata": {},
   "source": [
    "1. Were my process similar to the article?\n",
    "\n",
    "The general idea of the process is the same: Data Wrangling, Analysis, Visualization. But what most differs to the projects I did was the way he had to ask himself some questions, make hypothesis and actually write what he was expecting from this analysis. Those questions helped him have a better focus on the 3 following part: Data Wrangling, by knowing exactly what he should remove and information he should have, Analysis, by identifying the indicators he wanted to enlight and Visualizaion by choosing the best way to show it.\n",
    "\n",
    "2. What should I improve in my next projects?\n",
    "\n",
    "There are many things I should improve! First of all spend more time on which part of the datas I want to analyse. Sometimes what we want to know can be analyzed with only a few criterias. It will help me define the time window of analyses and which features should be compared with what. It will make me win some time for data cleaning. Also, the way is checking his code to be sure what he has done was efficient and his data is relevant is a very good practice I should get used to do.\n",
    "Once the data cleaning is done, I like the way he anticipated exactly what analyses he would do and which correlation should he check. He also used a function that combines the correlation plotting with the line drawing (numpy polyfit) that allows him to visualize better and way quicker his correlations.\n",
    "\n",
    "3. Author missed/To-do ideas...\n",
    "\n",
    "It could be interesting for the author to compare his conclusions to other sports, like football or basketball so we can check if the performance and salaries are related the same way in other sports! Also he should extend his analysis to other ba"
   ]
  }
 ],
 "metadata": {
  "kernelspec": {
   "display_name": "Python 3",
   "language": "python",
   "name": "python3"
  },
  "language_info": {
   "codemirror_mode": {
    "name": "ipython",
    "version": 3
   },
   "file_extension": ".py",
   "mimetype": "text/x-python",
   "name": "python",
   "nbconvert_exporter": "python",
   "pygments_lexer": "ipython3",
   "version": "3.7.3"
  }
 },
 "nbformat": 4,
 "nbformat_minor": 2
}
